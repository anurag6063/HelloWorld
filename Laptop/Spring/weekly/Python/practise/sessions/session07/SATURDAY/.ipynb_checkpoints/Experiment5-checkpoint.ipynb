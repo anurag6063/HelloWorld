{
 "cells": [
  {
   "cell_type": "markdown",
   "metadata": {},
   "source": [
    "# Foundations of Artificial Intelligence and Machine Learning\n",
    "## A Program by IIIT-H and TalentSprint\n",
    "#### To be done in the Lab"
   ]
  },
  {
   "cell_type": "markdown",
   "metadata": {},
   "source": [
    "The objective of this experiment is to understand how data negatively impacts the performance of the model."
   ]
  },
  {
   "cell_type": "markdown",
   "metadata": {},
   "source": [
    "In this experiment we will use famous Iris data set.This is perhaps the best known database to be found in the pattern recognition literature. Fisher's paper is a classic in the field and is referenced frequently to this day. \n",
    "\n",
    "The data set contains 3 classes of 50 instances each, where each class refers to a type of iris plant. One class is linearly separable from the other 2; the latter are NOT linearly separable from each other. "
   ]
  },
  {
   "cell_type": "markdown",
   "metadata": {},
   "source": [
    "#### Data Attributes\n",
    "\n",
    "  1. sepal length in cm \n",
    "  2. sepal width in cm \n",
    "  3. petal length in cm \n",
    "  4. petal width in cm \n",
    "  5. class: \n",
    "     -- Iris Setosa  \n",
    "     -- Iris Versicolour \n",
    "     -- Iris Virginica"
   ]
  },
  {
   "cell_type": "markdown",
   "metadata": {},
   "source": [
    "#### Overfitting\n",
    "\n",
    "Overfitting refers to a model that models the training data too well.\n",
    "\n",
    "Overfitting happens when a model learns the detail and noise in the training data to the extent that it negatively impacts the performance of the model on new data. This means that the noise or random fluctuations in the training data is picked up and learned as concepts by the model. "
   ]
  },
  {
   "cell_type": "markdown",
   "metadata": {},
   "source": [
    "In this experiment we are going to use 2 features from Iris Dataset to Visualise Overfitting step by step.\n",
    "  1. Plot training error and Test error\n",
    "  2. Observe when the overfitting starts in the plot."
   ]
  },
  {
   "cell_type": "code",
   "execution_count": 1,
   "metadata": {
    "ExecuteTime": {
     "end_time": "2018-08-01T15:33:09.310689Z",
     "start_time": "2018-08-01T15:33:09.305160Z"
    }
   },
   "outputs": [],
   "source": [
    "## Importing required packages\n",
    "import pandas as pd\n",
    "import numpy as np\n",
    "import matplotlib.pyplot as plt\n",
    "from sklearn import datasets"
   ]
  },
  {
   "cell_type": "markdown",
   "metadata": {},
   "source": [
    "Loading the dataset from sklearn package"
   ]
  },
  {
   "cell_type": "code",
   "execution_count": 2,
   "metadata": {
    "ExecuteTime": {
     "end_time": "2018-08-01T15:33:10.343192Z",
     "start_time": "2018-08-01T15:33:10.335476Z"
    }
   },
   "outputs": [],
   "source": [
    "# Loading iris dataset from sklearn\n",
    "iris = datasets.load_iris()\n",
    "## Storing only 2 features \n",
    "X = iris.data[:,(0,2)]\n",
    "## Storing the target data\n",
    "Y = iris.target"
   ]
  },
  {
   "cell_type": "code",
   "execution_count": 3,
   "metadata": {
    "ExecuteTime": {
     "end_time": "2018-08-01T15:33:10.819191Z",
     "start_time": "2018-08-01T15:33:10.808923Z"
    }
   },
   "outputs": [
    {
     "data": {
      "text/plain": [
       "array([[5.1, 1.4],\n",
       "       [4.9, 1.4],\n",
       "       [4.7, 1.3]])"
      ]
     },
     "execution_count": 3,
     "metadata": {},
     "output_type": "execute_result"
    }
   ],
   "source": [
    "np.split(X, [3, 5])[0]"
   ]
  },
  {
   "cell_type": "markdown",
   "metadata": {},
   "source": [
    "#### Exercise 1 \n",
    "\n",
    "Split the data into train,test and validation sets."
   ]
  },
  {
   "cell_type": "code",
   "execution_count": 4,
   "metadata": {
    "ExecuteTime": {
     "end_time": "2018-08-01T15:33:11.845806Z",
     "start_time": "2018-08-01T15:33:11.842052Z"
    }
   },
   "outputs": [],
   "source": [
    "samples_n = len(Y)"
   ]
  },
  {
   "cell_type": "code",
   "execution_count": 5,
   "metadata": {
    "ExecuteTime": {
     "end_time": "2018-08-01T15:33:12.396180Z",
     "start_time": "2018-08-01T15:33:12.392306Z"
    }
   },
   "outputs": [],
   "source": [
    "\n",
    "X_train, X_test, X_validation = np.split(X, [int(0.6*samples_n), int(0.8*samples_n)])\n",
    "Y_train, Y_test, Y_validation = np.split(Y, [int(0.6*samples_n), int(0.8*samples_n)])"
   ]
  },
  {
   "cell_type": "code",
   "execution_count": 6,
   "metadata": {
    "ExecuteTime": {
     "end_time": "2018-08-01T15:33:13.568526Z",
     "start_time": "2018-08-01T15:33:13.561952Z"
    }
   },
   "outputs": [],
   "source": [
    "## Linear function\n",
    "def linf(m, x):\n",
    "    return np.matmul(x,m)\n",
    "\n",
    "def one_step(x, y, m, eta):\n",
    "    #Predicting the values\n",
    "    ypred = linf(m, x)\n",
    "    #Calculating the error\n",
    "    error = np.linalg.norm((y - ypred)**2)\n",
    "    #calculating the delta value\n",
    "    delta_m = -2*np.matmul(x.T,(y - ypred))\n",
    "    #updating m value\n",
    "    m = m - (delta_m * eta)\n",
    "    return m, error"
   ]
  },
  {
   "cell_type": "markdown",
   "metadata": {},
   "source": [
    "#### Exercise 2 \n",
    "\n",
    "Calculate the test error"
   ]
  },
  {
   "cell_type": "code",
   "execution_count": 7,
   "metadata": {
    "ExecuteTime": {
     "end_time": "2018-08-01T15:34:41.370065Z",
     "start_time": "2018-08-01T15:34:41.358421Z"
    }
   },
   "outputs": [],
   "source": [
    "num_feat = len(X_train[0]) \n",
    "#Intilizing the m value with random value\n",
    "m = np.random.uniform(-1,1,(num_feat+1,1))\n",
    "# Learning rate\n",
    "eta = 2e-4\n",
    "train_errs = []\n",
    "test_errs = []\n",
    "#reshaping the size of Y_test array\n",
    "Y_test = np.reshape(Y_test, (Y_test.shape[0],1))\n",
    "#reshaping the size of Y_train array\n",
    "Y_train = np.reshape(Y_train, (Y_train.shape[0],1))\n",
    "## adding additional ones to X_train and X_test arrays\n",
    "X_train=np.hstack( (X_train,np.ones((X_train.shape[0],1)))) \n",
    "X_test=np.hstack( (X_test,np.ones((X_test.shape[0],1)))) \n",
    "\n",
    "for times in range(50):\n",
    "    ## Calling the function\n",
    "    m, error = one_step(X_train, Y_train, m, eta)\n",
    "    if times%1==0:\n",
    "        # appending the trained error to train_errs\n",
    "        train_errs.append(error)\n",
    "        # Calculating the test errors and appending them to test_errs\n",
    "        ypred = linf(m, X_test)\n",
    "        error_test = np.linalg.norm((Y_test - ypred)**2)\n",
    "        test_errs.append(error_test)"
   ]
  },
  {
   "cell_type": "code",
   "execution_count": 8,
   "metadata": {
    "ExecuteTime": {
     "end_time": "2018-08-01T15:34:47.261971Z",
     "start_time": "2018-08-01T15:34:47.109484Z"
    }
   },
   "outputs": [
    {
     "data": {
      "image/png": "[encoded data removed]",
      "text/plain": [
       "<Figure size 432x288 with 1 Axes>"
      ]
     },
     "metadata": {},
     "output_type": "display_data"
    }
   ],
   "source": [
    "## Plotting the train_errs and test_errs\n",
    "plt.plot(train_errs)\n",
    "plt.plot(test_errs)\n",
    "plt.legend([\"Train\",\"Test\"])\n",
    "plt.show()"
   ]
  },
  {
   "cell_type": "code",
   "execution_count": 9,
   "metadata": {
    "ExecuteTime": {
     "end_time": "2018-08-01T15:34:53.509060Z",
     "start_time": "2018-08-01T15:34:53.502059Z"
    }
   },
   "outputs": [
    {
     "name": "stdout",
     "output_type": "stream",
     "text": [
      "\n",
      "Minimum Training Error occurs at 49 degree \n",
      "Minimum Testing Error occurs at 13 degree\n",
      "\n"
     ]
    }
   ],
   "source": [
    "print('\\nMinimum Training Error occurs at {} degree '.format(int(np.argmin(train_errs))))\n",
    "print('Minimum Testing Error occurs at {} degree\\n'.format(int(np.argmin(test_errs))))"
   ]
  },
  {
   "cell_type": "markdown",
   "metadata": {},
   "source": [
    "#### Exercise 3\n",
    "\n",
    "Vary the train ,test and validation ratios and observe how overfitting changes."
   ]
  },
  {
   "cell_type": "code",
   "execution_count": null,
   "metadata": {},
   "outputs": [],
   "source": []
  }
 ],
 "metadata": {
  "kernelspec": {
   "display_name": "Python 3",
   "language": "python",
   "name": "python3"
  },
  "language_info": {
   "codemirror_mode": {
    "name": "ipython",
    "version": 3
   },
   "file_extension": ".py",
   "mimetype": "text/x-python",
   "name": "python",
   "nbconvert_exporter": "python",
   "pygments_lexer": "ipython3",
   "version": "3.6.5"
  },
  "nbTranslate": {
   "displayLangs": [
    "*"
   ],
   "hotkey": "alt-t",
   "langInMainMenu": true,
   "sourceLang": "en",
   "targetLang": "fr",
   "useGoogleTranslate": true
  }
 },
 "nbformat": 4,
 "nbformat_minor": 2
}
