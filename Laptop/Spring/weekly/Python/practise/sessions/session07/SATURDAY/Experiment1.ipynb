{
 "cells": [
  {
   "cell_type": "markdown",
   "metadata": {},
   "source": [
    "# Foundations of Artificial Intelligence and Machine Learning\n",
    "## A Program by IIIT-H and TalentSprint\n",
    "#### To be done in the Lab\n"
   ]
  },
  {
   "cell_type": "markdown",
   "metadata": {},
   "source": [
    "The objective of this experiment is to apply isomap on swiss roll dataset."
   ]
  },
  {
   "cell_type": "markdown",
   "metadata": {},
   "source": [
    "#### we will be generating the Swiss roll data as we have done in the previous notebook"
   ]
  },
  {
   "cell_type": "code",
   "execution_count": null,
   "metadata": {
    "ExecuteTime": {
     "end_time": "2018-06-04T11:49:48.836154Z",
     "start_time": "2018-06-04T11:49:48.361455Z"
    }
   },
   "outputs": [],
   "source": [
    "### importing the required packages\n",
    "from sklearn.datasets import *\n",
    "from sklearn import manifold\n",
    "import matplotlib.pyplot as plt"
   ]
  },
  {
   "cell_type": "markdown",
   "metadata": {},
   "source": [
    "#### Generating the data"
   ]
  },
  {
   "cell_type": "code",
   "execution_count": null,
   "metadata": {
    "ExecuteTime": {
     "end_time": "2018-06-04T11:50:03.052516Z",
     "start_time": "2018-06-04T11:50:03.042468Z"
    }
   },
   "outputs": [],
   "source": [
    "n_samples = 1500\n",
    "X, color = make_swiss_roll(n_samples)"
   ]
  },
  {
   "cell_type": "markdown",
   "metadata": {},
   "source": [
    "#### Let us apply isomap on the data"
   ]
  },
  {
   "cell_type": "code",
   "execution_count": null,
   "metadata": {
    "ExecuteTime": {
     "end_time": "2018-06-04T11:50:18.084752Z",
     "start_time": "2018-06-04T11:50:17.233750Z"
    }
   },
   "outputs": [],
   "source": [
    "iso = manifold.Isomap(n_neighbors=6, n_components=2)\n",
    "iso.fit(X)\n",
    "manifold_data = iso.transform(X)"
   ]
  },
  {
   "cell_type": "markdown",
   "metadata": {},
   "source": [
    "#### Let us plot the data"
   ]
  },
  {
   "cell_type": "code",
   "execution_count": null,
   "metadata": {
    "ExecuteTime": {
     "end_time": "2018-06-04T11:50:32.469781Z",
     "start_time": "2018-06-04T11:50:32.373834Z"
    }
   },
   "outputs": [],
   "source": [
    "from mpl_toolkits.mplot3d import Axes3D\n",
    "%matplotlib notebook\n",
    "fig = plt.figure()\n",
    "ax = fig.add_subplot(2, 1, 1,projection='3d')\n",
    "ax.set_title('Here is the swiss roll maniflod', fontsize=10)\n",
    "ax.scatter(X[:,0],X[:,1],X[:,2],c = color)\n",
    "x = X[:,0][2:10]\n",
    "y = X[:,1][2:10]\n",
    "ax.scatter(x,y,c = \"black\")\n",
    "ax.plot(x[2:4],y[2:4],c = \"red\")\n",
    "ax = fig.add_subplot(2, 1, 2) \n",
    "ax.set_title('When compressing with ISOMAP', fontsize=10)\n",
    "ax.scatter(manifold_data[:,0],manifold_data[:,1],c = color)\n",
    "x = X[:,0][2:10]\n",
    "y = X[:,1][2:10]\n",
    "ax.scatter(x,y,c = \"black\")\n",
    "ax.plot(x[2:4],y[2:4],c = \"red\")\n",
    "plt.show()"
   ]
  },
  {
   "cell_type": "markdown",
   "metadata": {},
   "source": [
    "#### Now let us generate swiss roll data for 300 samples with some noise in it"
   ]
  },
  {
   "cell_type": "code",
   "execution_count": null,
   "metadata": {
    "ExecuteTime": {
     "end_time": "2018-06-04T11:50:53.338504Z",
     "start_time": "2018-06-04T11:50:53.334068Z"
    }
   },
   "outputs": [],
   "source": [
    "noise = 0.01*200 \n",
    "n_samples = 300\n",
    "ndata,colors = make_swiss_roll(n_samples,noise)"
   ]
  },
  {
   "cell_type": "markdown",
   "metadata": {},
   "source": [
    "#### Lets concatenate the noise data values and original data values"
   ]
  },
  {
   "cell_type": "code",
   "execution_count": null,
   "metadata": {
    "ExecuteTime": {
     "end_time": "2018-06-04T11:51:06.679429Z",
     "start_time": "2018-06-04T11:51:06.675186Z"
    }
   },
   "outputs": [],
   "source": [
    "import numpy as np\n",
    "con_data =  np.concatenate((X, ndata), axis=0)\n",
    "con_colors = np.concatenate((color,colors),axis=0)"
   ]
  },
  {
   "cell_type": "code",
   "execution_count": null,
   "metadata": {
    "ExecuteTime": {
     "end_time": "2018-06-04T11:51:14.050829Z",
     "start_time": "2018-06-04T11:51:12.707047Z"
    }
   },
   "outputs": [],
   "source": [
    "## Let us apply isomap on this data\n",
    "iso = manifold.Isomap(n_neighbors=6, n_components=2)\n",
    "iso.fit(con_data)\n",
    "manifold_data = iso.transform(con_data)"
   ]
  },
  {
   "cell_type": "markdown",
   "metadata": {},
   "source": [
    "#### Let us plot the data"
   ]
  },
  {
   "cell_type": "code",
   "execution_count": null,
   "metadata": {
    "ExecuteTime": {
     "end_time": "2018-06-04T11:51:27.757617Z",
     "start_time": "2018-06-04T11:51:27.666026Z"
    }
   },
   "outputs": [],
   "source": [
    "from mpl_toolkits.mplot3d import Axes3D\n",
    "%matplotlib notebook\n",
    "fig = plt.figure()\n",
    "ax = fig.add_subplot(2, 1, 1,projection='3d')\n",
    "ax.set_title('Here is the swiss roll maniflod with noise', fontsize=10)\n",
    "ax.scatter(con_data[:,0],con_data[:,1],con_data[:,2],c = con_colors)\n",
    "x = X[:,0][2:10]\n",
    "y = X[:,1][2:10]\n",
    "ax.scatter(x,y,c = \"black\")\n",
    "ax.plot(x[2:4],y[2:4],c = \"red\")\n",
    "ax = fig.add_subplot(2, 1, 2) \n",
    "ax.set_title('When compressing with ISOMAP', fontsize=10)\n",
    "ax.scatter(manifold_data[:,0],manifold_data[:,1],c = con_colors)\n",
    "x = X[:,0][2:10]\n",
    "y = X[:,1][2:10]\n",
    "ax.scatter(x,y,c = \"black\")\n",
    "ax.plot(x[2:4],y[2:4],c = \"red\")\n",
    "plt.show()"
   ]
  },
  {
   "cell_type": "markdown",
   "metadata": {},
   "source": [
    "#### Excerise 1\n",
    "\n",
    "Pan and Zoom to observe the plots"
   ]
  },
  {
   "cell_type": "markdown",
   "metadata": {},
   "source": [
    "#### Summary:  \n",
    "\n",
    "ISOMAP has the basic idea of preserve geodesic distance as measured along the manifold, hence can flatten (unroll) the swiss roll. Notice that Isomap connects nearby points and hence preserves the geodesic distances. This makes it prone to \"short-circuit errors\" in which due to noise, the nearest neighbours change and the dimensionality reduction fails due to this extra connectivity. This is illustrated by it failing to unroll the swiss roll."
   ]
  },
  {
   "cell_type": "code",
   "execution_count": null,
   "metadata": {},
   "outputs": [],
   "source": []
  }
 ],
 "metadata": {
  "kernelspec": {
   "display_name": "Python 3",
   "language": "python",
   "name": "python3"
  },
  "language_info": {
   "codemirror_mode": {
    "name": "ipython",
    "version": 3
   },
   "file_extension": ".py",
   "mimetype": "text/x-python",
   "name": "python",
   "nbconvert_exporter": "python",
   "pygments_lexer": "ipython3",
   "version": "3.6.5"
  },
  "nbTranslate": {
   "displayLangs": [
    "*"
   ],
   "hotkey": "alt-t",
   "langInMainMenu": true,
   "sourceLang": "en",
   "targetLang": "fr",
   "useGoogleTranslate": true
  }
 },
 "nbformat": 4,
 "nbformat_minor": 2
}
