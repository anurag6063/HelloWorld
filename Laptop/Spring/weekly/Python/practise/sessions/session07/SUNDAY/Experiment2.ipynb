{
 "cells": [
  {
   "cell_type": "markdown",
   "metadata": {},
   "source": [
    "# Foundations of Artificial Intelligence and Machine Learning\n",
    "## A Program by IIIT-H and TalentSprint\n",
    "#### To be done in the Lab\n"
   ]
  },
  {
   "cell_type": "markdown",
   "metadata": {},
   "source": [
    "In this experiment, we explore how k-Means clustering is able to find patterns and produce groupings without any form of external information to help."
   ]
  },
  {
   "cell_type": "markdown",
   "metadata": {},
   "source": [
    "We take the text of the famous Russian novel \"War and Peace\" by Leo Tolstoy, downloaded from Project Gutenburg (http://www.gutenberg.org/), and extract all sentences from it. "
   ]
  },
  {
   "cell_type": "markdown",
   "metadata": {},
   "source": [
    "We will be performing following actions :\n",
    "1. Use the nltk library to break the text into sentences. \n",
    "2. Build a word2vec representation using these sentences, after removing fluff words from these sentences.\n",
    "3. Build a k-means algorithm on top of the data."
   ]
  },
  {
   "cell_type": "markdown",
   "metadata": {},
   "source": [
    "To run the experiment execute the following commands\n",
    "\n",
    "\n",
    "\n",
    "1.!pip3 install gensim\n",
    "\n",
    "2.!pip3 install nltk\n",
    "\n",
    "3.import nltk\n",
    "\n",
    "4.nltk.download('punkt')\n"
   ]
  },
  {
   "cell_type": "code",
   "execution_count": 1,
   "metadata": {
    "ExecuteTime": {
     "end_time": "2018-07-31T05:44:42.777995Z",
     "start_time": "2018-07-31T05:44:41.709888Z"
    }
   },
   "outputs": [
    {
     "name": "stderr",
     "output_type": "stream",
     "text": [
      "C:\\ProgramData\\Anaconda3\\lib\\site-packages\\gensim\\utils.py:1197: UserWarning: detected Windows; aliasing chunkize to chunkize_serial\n",
      "  warnings.warn(\"detected Windows; aliasing chunkize to chunkize_serial\")\n"
     ]
    }
   ],
   "source": [
    "# Importing required packages\n",
    "import gensim\n",
    "from gensim.models import Word2Vec\n",
    "from gensim.models import word2vec\n",
    "from gensim.models import Phrases\n",
    "import logging"
   ]
  },
  {
   "cell_type": "code",
   "execution_count": 3,
   "metadata": {
    "ExecuteTime": {
     "end_time": "2018-07-31T05:44:42.783132Z",
     "start_time": "2018-07-31T05:44:42.780491Z"
    }
   },
   "outputs": [],
   "source": [
    "dataset = \"AIML_DS_WAR-And-PEACE_STD.txt\"\n"
   ]
  },
  {
   "cell_type": "markdown",
   "metadata": {},
   "source": [
    "Now let us  read the entire file into a list of lines, converting everything to lowercase as well as remove trailing and leading whitespace."
   ]
  },
  {
   "cell_type": "code",
   "execution_count": 4,
   "metadata": {
    "ExecuteTime": {
     "end_time": "2018-07-31T05:44:42.898497Z",
     "start_time": "2018-07-31T05:44:42.785248Z"
    }
   },
   "outputs": [
    {
     "name": "stdout",
     "output_type": "stream",
     "text": [
      "['“you must look for husbands for them whether you like it or not....”', '', '“well,” said she, “how’s my cossack?” (márya dmítrievna', 'always called natásha a cossack) and she stroked the child’s arm as', 'she came up fearless and gay to kiss her hand. “i know she’s a scamp', 'of a girl, but i like her.”', '', 'she took a pair of pear-shaped ruby earrings from her huge reticule and,', 'having given them to the rosy natásha, who beamed with the pleasure', 'of her saint’s-day fete, turned away at once and addressed herself to']\n"
     ]
    }
   ],
   "source": [
    "wp_text_stage0 = [line.strip().lower() for line in open(dataset,encoding=\"utf8\")]\n",
    "print(wp_text_stage0[4000:4010])"
   ]
  },
  {
   "cell_type": "markdown",
   "metadata": {},
   "source": [
    "Now we will combine them into one gigantic string"
   ]
  },
  {
   "cell_type": "code",
   "execution_count": 5,
   "metadata": {
    "ExecuteTime": {
     "end_time": "2018-07-31T05:44:42.964681Z",
     "start_time": "2018-07-31T05:44:42.900955Z"
    }
   },
   "outputs": [],
   "source": [
    "wp_text_stage1 = ' '.join(wp_text_stage0)"
   ]
  },
  {
   "cell_type": "code",
   "execution_count": 6,
   "metadata": {
    "ExecuteTime": {
     "end_time": "2018-07-31T05:44:43.070320Z",
     "start_time": "2018-07-31T05:44:42.966728Z"
    }
   },
   "outputs": [
    {
     "name": "stdout",
     "output_type": "stream",
     "text": [
      "3224829\n",
      "rove my devotion to you and how i respect your father’s memory, i will do the impossible—your son shall be transferred to the guards. here is my hand on it. are you satisfied?”  “my dear benefactor! t\n"
     ]
    }
   ],
   "source": [
    "print(len(wp_text_stage1))\n",
    "print(wp_text_stage1[40000:40200])"
   ]
  },
  {
   "cell_type": "markdown",
   "metadata": {},
   "source": [
    "We have gigantic string with us. let us see how to break this string into sentences"
   ]
  },
  {
   "cell_type": "code",
   "execution_count": 7,
   "metadata": {
    "ExecuteTime": {
     "end_time": "2018-07-31T05:44:45.661975Z",
     "start_time": "2018-07-31T05:44:43.072190Z"
    }
   },
   "outputs": [
    {
     "name": "stdout",
     "output_type": "stream",
     "text": [
      "[nltk_data] Downloading package punkt to\n",
      "[nltk_data]     C:\\Users\\anuryadav\\AppData\\Roaming\\nltk_data...\n",
      "[nltk_data]   Unzipping tokenizers\\punkt.zip.\n"
     ]
    }
   ],
   "source": [
    "import nltk\n",
    "nltk.download('punkt')\n",
    "from nltk.tokenize import sent_tokenize\n",
    "wp_text_stage2 = sent_tokenize(wp_text_stage1)"
   ]
  },
  {
   "cell_type": "code",
   "execution_count": 8,
   "metadata": {
    "ExecuteTime": {
     "end_time": "2018-07-31T05:44:45.671930Z",
     "start_time": "2018-07-31T05:44:45.663715Z"
    }
   },
   "outputs": [
    {
     "name": "stdout",
     "output_type": "stream",
     "text": [
      "26313\n",
      "['after tea, the company went into the sitting room and princess mary was asked to play on the clavichord.', 'anatole, laughing and in high spirits, came and leaned on his elbows, facing her and beside mademoiselle bourienne.', 'princess mary felt his look with a painfully joyous emotion.', 'her favorite sonata bore her into a most intimately poetic world and the look she felt upon her made that world still more poetic.', 'but anatole’s expression, though his eyes were fixed on her, referred not to her but to the movements of mademoiselle bourienne’s little foot, which he was then touching with his own under the clavichord.', 'mademoiselle bourienne was also looking at princess mary, and in her lovely eyes there was a look of fearful joy and hope that was also new to the princess.', '“how she loves me!” thought princess mary.', '“how happy i am now, and how happy i may be with such a friend and such a husband!', 'husband?', 'can it be possible?” she thought, not daring to look at his face, but still feeling his eyes gazing at her.']\n"
     ]
    }
   ],
   "source": [
    "print(len(wp_text_stage2))\n",
    "print(wp_text_stage2[5000:5010])"
   ]
  },
  {
   "cell_type": "markdown",
   "metadata": {},
   "source": [
    "So we have about 26k sentences, in the tome. We now take each sentence and clean it up as below:\n",
    " * replace all non-alphanumeric characters by space\n",
    " * split each sentence on whitespace\n",
    " * in each sentence drop words that are less than 3 letters long and are part of fluff words"
   ]
  },
  {
   "cell_type": "markdown",
   "metadata": {},
   "source": [
    "We read the entire contents the fluff file into a set. As mentioned earlier a set is much faster for checking membership"
   ]
  },
  {
   "cell_type": "code",
   "execution_count": 9,
   "metadata": {
    "ExecuteTime": {
     "end_time": "2018-07-31T05:44:45.864808Z",
     "start_time": "2018-07-31T05:44:45.675461Z"
    }
   },
   "outputs": [],
   "source": [
    "fluff = set([line.strip() for line in open(\"AIML_DS_STOPWORDS_STD.txt\")])"
   ]
  },
  {
   "cell_type": "markdown",
   "metadata": {},
   "source": [
    "Replacing all non-alphanumeric characters by space"
   ]
  },
  {
   "cell_type": "code",
   "execution_count": 10,
   "metadata": {
    "ExecuteTime": {
     "end_time": "2018-07-31T05:44:46.179791Z",
     "start_time": "2018-07-31T05:44:45.866540Z"
    }
   },
   "outputs": [
    {
     "name": "stdout",
     "output_type": "stream",
     "text": [
      "['the whole air reeked with smoke', 'the excited faces of the soldiers were blackened with it', 'some were using their ramrods others putting powder on the touchpans or taking charges from their pouches while others were firing though who they were firing at could not be seen for the smoke which there was no wind to carry away', 'a pleasant humming and whistling of bullets were often heard', 'what is this thought prince andrew approaching the crowd of soldiers', 'it can t be an attack for they are not moving it can t be a square for they are not drawn up for that the commander of the regiment a thin feeble looking old man with a pleasant smile his eyelids drooping more than half over his old eyes giving him a mild expression rode up to bagratión and welcomed him as a host welcomes an honored guest', 'he reported that his regiment had been attacked by french cavalry and that though the attack had been repulsed he had lost more than half his men', 'he said the attack had been repulsed employing this military term to describe what had occurred to his regiment but in reality he did not himself know what had happened during that half hour to the troops entrusted to him and could not say with certainty whether the attack had been repulsed or his regiment had been broken up', 'all he knew was that at the commencement of the action balls and shells began flying all over his regiment and hitting men and that afterwards someone had shouted cavalry and our men had begun firing', 'they were still firing not at the cavalry which had disappeared but at french infantry who had come into the hollow and were firing at our men']\n"
     ]
    }
   ],
   "source": [
    "import re\n",
    "only_alnum = re.compile(r\"[^\\w]+\") ## \\w => unicode alphabet\n",
    "#only_alnum = re.compile(r\"[^a-z0-9]\") --> This will remove accented characters which are part of many names!\n",
    "\n",
    "## Replaces one or more occurrence of any characters other unicode alphabets and numbers\n",
    "def cleanUp(s):\n",
    "    return re.sub(only_alnum, \" \", s).strip()\n",
    "wp_text_stage3 = [cleanUp(s) for s in wp_text_stage2]\n",
    "print(wp_text_stage3[4000:4010])"
   ]
  },
  {
   "cell_type": "markdown",
   "metadata": {},
   "source": [
    "Now we break each sentence into words, and store these words as a list. We traverse this list and drop the unwanted words. "
   ]
  },
  {
   "cell_type": "code",
   "execution_count": 11,
   "metadata": {
    "ExecuteTime": {
     "end_time": "2018-07-31T05:44:46.184203Z",
     "start_time": "2018-07-31T05:44:46.181692Z"
    }
   },
   "outputs": [],
   "source": [
    "def choose_words(s):\n",
    "    return [w for w in s.split() if len(w) > 2 and w not in fluff]"
   ]
  },
  {
   "cell_type": "code",
   "execution_count": 12,
   "metadata": {
    "ExecuteTime": {
     "end_time": "2018-07-31T05:44:46.412826Z",
     "start_time": "2018-07-31T05:44:46.185879Z"
    }
   },
   "outputs": [
    {
     "name": "stdout",
     "output_type": "stream",
     "text": [
      "[['air', 'reeked', 'smoke'], ['excited', 'soldiers', 'blackened'], ['using', 'ramrods', 'putting', 'powder', 'touchpans', 'taking', 'charges', 'pouches', 'firing', 'firing', 'seen', 'smoke', 'wind', 'carry'], ['pleasant', 'humming', 'whistling', 'bullets', 'heard'], ['prince', 'andrew', 'approaching', 'crowd', 'soldiers'], ['attack', 'moving', 'square', 'drawn', 'commander', 'regiment', 'thin', 'feeble', 'looking', 'pleasant', 'smile', 'eyelids', 'drooping', 'half', 'eyes', 'giving', 'mild', 'expression', 'rode', 'bagratión', 'welcomed', 'host', 'welcomes', 'honored', 'guest'], ['reported', 'regiment', 'attacked', 'french', 'cavalry', 'attack', 'repulsed', 'lost', 'half'], ['attack', 'repulsed', 'employing', 'military', 'term', 'describe', 'occurred', 'regiment', 'reality', 'happened', 'half', 'hour', 'troops', 'entrusted', 'certainty', 'attack', 'repulsed', 'regiment', 'broken'], ['commencement', 'action', 'balls', 'shells', 'flying', 'regiment', 'hitting', 'afterwards', 'shouted', 'cavalry', 'begun', 'firing'], ['firing', 'cavalry', 'disappeared', 'french', 'infantry', 'hollow', 'firing']]\n"
     ]
    }
   ],
   "source": [
    "wp_text_stage4 = [choose_words(sentence) for sentence in wp_text_stage3]\n",
    "print(wp_text_stage4[4000:4010])"
   ]
  },
  {
   "cell_type": "code",
   "execution_count": 13,
   "metadata": {
    "ExecuteTime": {
     "end_time": "2018-07-31T05:44:46.418218Z",
     "start_time": "2018-07-31T05:44:46.415520Z"
    }
   },
   "outputs": [
    {
     "name": "stdout",
     "output_type": "stream",
     "text": [
      "26313\n"
     ]
    }
   ],
   "source": [
    "print(len(wp_text_stage4))"
   ]
  },
  {
   "cell_type": "markdown",
   "metadata": {},
   "source": [
    "We convert the words to common stem -- that is we do not want to consider \"run\", \"runs\", \"running\" as separate words"
   ]
  },
  {
   "cell_type": "code",
   "execution_count": 14,
   "metadata": {
    "ExecuteTime": {
     "end_time": "2018-07-31T05:44:46.500793Z",
     "start_time": "2018-07-31T05:44:46.420086Z"
    }
   },
   "outputs": [
    {
     "name": "stdout",
     "output_type": "stream",
     "text": [
      "run run run runner\n",
      "gun gun gun gun\n"
     ]
    }
   ],
   "source": [
    "from nltk.stem.snowball import SnowballStemmer\n",
    "stemmer = SnowballStemmer(\"english\")\n",
    "print(stemmer.stem(\"running\"), stemmer.stem(\"run\"), stemmer.stem(\"runs\"), stemmer.stem(\"runner\"))\n",
    "print(stemmer.stem(\"guns\"), stemmer.stem(\"gun\"), stemmer.stem(\"gunned\"), stemmer.stem(\"gunning\"))"
   ]
  },
  {
   "cell_type": "code",
   "execution_count": 15,
   "metadata": {
    "ExecuteTime": {
     "end_time": "2018-07-31T05:44:46.568281Z",
     "start_time": "2018-07-31T05:44:46.503765Z"
    }
   },
   "outputs": [
    {
     "name": "stdout",
     "output_type": "stream",
     "text": [
      "['air', 'reeked', 'smoke'] ['air', 'reek', 'smoke']\n",
      "['excited', 'soldiers', 'blackened'] ['excit', 'soldier', 'blacken']\n",
      "['using', 'ramrods', 'putting', 'powder', 'touchpans', 'taking', 'charges', 'pouches', 'firing', 'firing', 'seen', 'smoke', 'wind', 'carry'] ['use', 'ramrod', 'put', 'powder', 'touchpan', 'take', 'charg', 'pouch', 'fire', 'fire', 'seen', 'smoke', 'wind', 'carri']\n",
      "['pleasant', 'humming', 'whistling', 'bullets', 'heard'] ['pleasant', 'hum', 'whistl', 'bullet', 'heard']\n",
      "['prince', 'andrew', 'approaching', 'crowd', 'soldiers'] ['princ', 'andrew', 'approach', 'crowd', 'soldier']\n",
      "['attack', 'moving', 'square', 'drawn', 'commander', 'regiment', 'thin', 'feeble', 'looking', 'pleasant', 'smile', 'eyelids', 'drooping', 'half', 'eyes', 'giving', 'mild', 'expression', 'rode', 'bagratión', 'welcomed', 'host', 'welcomes', 'honored', 'guest'] ['attack', 'move', 'squar', 'drawn', 'command', 'regiment', 'thin', 'feebl', 'look', 'pleasant', 'smile', 'eyelid', 'droop', 'half', 'eye', 'give', 'mild', 'express', 'rode', 'bagratión', 'welcom', 'host', 'welcom', 'honor', 'guest']\n",
      "['reported', 'regiment', 'attacked', 'french', 'cavalry', 'attack', 'repulsed', 'lost', 'half'] ['report', 'regiment', 'attack', 'french', 'cavalri', 'attack', 'repuls', 'lost', 'half']\n",
      "['attack', 'repulsed', 'employing', 'military', 'term', 'describe', 'occurred', 'regiment', 'reality', 'happened', 'half', 'hour', 'troops', 'entrusted', 'certainty', 'attack', 'repulsed', 'regiment', 'broken'] ['attack', 'repuls', 'employ', 'militari', 'term', 'describ', 'occur', 'regiment', 'realiti', 'happen', 'half', 'hour', 'troop', 'entrust', 'certainti', 'attack', 'repuls', 'regiment', 'broken']\n",
      "['commencement', 'action', 'balls', 'shells', 'flying', 'regiment', 'hitting', 'afterwards', 'shouted', 'cavalry', 'begun', 'firing'] ['commenc', 'action', 'ball', 'shell', 'fli', 'regiment', 'hit', 'afterward', 'shout', 'cavalri', 'begun', 'fire']\n",
      "['firing', 'cavalry', 'disappeared', 'french', 'infantry', 'hollow', 'firing'] ['fire', 'cavalri', 'disappear', 'french', 'infantri', 'hollow', 'fire']\n"
     ]
    }
   ],
   "source": [
    "def stem_list(wordlist):\n",
    "    return [stemmer.stem(word) for word in wordlist]\n",
    "for n in range(4000, 4010):\n",
    "    print(wp_text_stage4[n], stem_list(wp_text_stage4[n]))"
   ]
  },
  {
   "cell_type": "code",
   "execution_count": 16,
   "metadata": {
    "ExecuteTime": {
     "end_time": "2018-07-31T05:44:49.541024Z",
     "start_time": "2018-07-31T05:44:46.570915Z"
    }
   },
   "outputs": [
    {
     "name": "stdout",
     "output_type": "stream",
     "text": [
      "[['air', 'reek', 'smoke'], ['excit', 'soldier', 'blacken'], ['use', 'ramrod', 'put', 'powder', 'touchpan', 'take', 'charg', 'pouch', 'fire', 'fire', 'seen', 'smoke', 'wind', 'carri'], ['pleasant', 'hum', 'whistl', 'bullet', 'heard'], ['princ', 'andrew', 'approach', 'crowd', 'soldier'], ['attack', 'move', 'squar', 'drawn', 'command', 'regiment', 'thin', 'feebl', 'look', 'pleasant', 'smile', 'eyelid', 'droop', 'half', 'eye', 'give', 'mild', 'express', 'rode', 'bagratión', 'welcom', 'host', 'welcom', 'honor', 'guest'], ['report', 'regiment', 'attack', 'french', 'cavalri', 'attack', 'repuls', 'lost', 'half'], ['attack', 'repuls', 'employ', 'militari', 'term', 'describ', 'occur', 'regiment', 'realiti', 'happen', 'half', 'hour', 'troop', 'entrust', 'certainti', 'attack', 'repuls', 'regiment', 'broken'], ['commenc', 'action', 'ball', 'shell', 'fli', 'regiment', 'hit', 'afterward', 'shout', 'cavalri', 'begun', 'fire'], ['fire', 'cavalri', 'disappear', 'french', 'infantri', 'hollow', 'fire']]\n"
     ]
    }
   ],
   "source": [
    "wp_text_stage5 = [stem_list(s) for s in wp_text_stage4]\n",
    "print(wp_text_stage5[4000:4010])"
   ]
  },
  {
   "cell_type": "markdown",
   "metadata": {},
   "source": [
    "Now let us build a word2vec model with this corpus."
   ]
  },
  {
   "cell_type": "code",
   "execution_count": 17,
   "metadata": {
    "ExecuteTime": {
     "end_time": "2018-07-31T05:44:49.546136Z",
     "start_time": "2018-07-31T05:44:49.543335Z"
    }
   },
   "outputs": [],
   "source": [
    "num_features = 300    # Word vector dimensionality                      \n",
    "min_word_count = 50   # Minimum word count                        \n",
    "num_workers = 4       # Number of threads to run in parallel\n",
    "context = 6           # Context window size                                                                                    \n",
    "downsampling = 1e-3   # Downsample setting for frequent words"
   ]
  },
  {
   "cell_type": "code",
   "execution_count": 18,
   "metadata": {
    "ExecuteTime": {
     "end_time": "2018-07-31T05:44:50.449608Z",
     "start_time": "2018-07-31T05:44:49.547924Z"
    }
   },
   "outputs": [],
   "source": [
    "wp = word2vec.Word2Vec(wp_text_stage5, workers=num_workers, \\\n",
    "            size=num_features, min_count = min_word_count, \\\n",
    "            window = context, sample = downsampling)"
   ]
  },
  {
   "cell_type": "code",
   "execution_count": 19,
   "metadata": {
    "ExecuteTime": {
     "end_time": "2018-07-31T05:44:50.464488Z",
     "start_time": "2018-07-31T05:44:50.450952Z"
    }
   },
   "outputs": [],
   "source": [
    "wp.init_sims(replace=True)"
   ]
  },
  {
   "cell_type": "code",
   "execution_count": 20,
   "metadata": {
    "ExecuteTime": {
     "end_time": "2018-07-31T05:44:50.582044Z",
     "start_time": "2018-07-31T05:44:50.466667Z"
    }
   },
   "outputs": [
    {
     "data": {
      "text/plain": [
       "26313"
      ]
     },
     "execution_count": 20,
     "metadata": {},
     "output_type": "execute_result"
    }
   ],
   "source": [
    "wp.corpus_count"
   ]
  },
  {
   "cell_type": "code",
   "execution_count": 21,
   "metadata": {
    "ExecuteTime": {
     "end_time": "2018-07-31T05:44:50.657013Z",
     "start_time": "2018-07-31T05:44:50.585074Z"
    }
   },
   "outputs": [
    {
     "data": {
      "text/plain": [
       "957"
      ]
     },
     "execution_count": 21,
     "metadata": {},
     "output_type": "execute_result"
    }
   ],
   "source": [
    "len(wp.wv.vocab.keys())"
   ]
  },
  {
   "cell_type": "code",
   "execution_count": 22,
   "metadata": {
    "ExecuteTime": {
     "end_time": "2018-07-31T05:44:50.743203Z",
     "start_time": "2018-07-31T05:44:50.659249Z"
    }
   },
   "outputs": [
    {
     "data": {
      "text/plain": [
       "['1812',\n",
       " 'abandon',\n",
       " 'abl',\n",
       " 'accept',\n",
       " 'accompani',\n",
       " 'accord',\n",
       " 'account',\n",
       " 'acquaint',\n",
       " 'act',\n",
       " 'action',\n",
       " 'activ',\n",
       " 'ad',\n",
       " 'address',\n",
       " 'adjut',\n",
       " 'admit',\n",
       " 'advanc',\n",
       " 'advantag',\n",
       " 'affair',\n",
       " 'affect',\n",
       " 'afraid',\n",
       " 'age',\n",
       " 'agit',\n",
       " 'ago',\n",
       " 'agre',\n",
       " 'aid',\n",
       " 'aim',\n",
       " 'air',\n",
       " 'alexand',\n",
       " 'allow',\n",
       " 'alpátych',\n",
       " 'amid',\n",
       " 'amus',\n",
       " 'anatol',\n",
       " 'andrew',\n",
       " 'angri',\n",
       " 'angrili',\n",
       " 'anim',\n",
       " 'anna',\n",
       " 'announc',\n",
       " 'answer',\n",
       " 'anxious',\n",
       " 'apart',\n",
       " 'appar',\n",
       " 'appear',\n",
       " 'appoint',\n",
       " 'approach',\n",
       " 'approv',\n",
       " 'arm',\n",
       " 'armi',\n",
       " 'arrang',\n",
       " 'arriv',\n",
       " 'artilleri',\n",
       " 'asham',\n",
       " 'asid',\n",
       " 'asleep',\n",
       " 'assum',\n",
       " 'assur',\n",
       " 'attack',\n",
       " 'attend',\n",
       " 'attent',\n",
       " 'attract',\n",
       " 'austerlitz',\n",
       " 'austrian',\n",
       " 'author',\n",
       " 'avoid',\n",
       " 'await',\n",
       " 'awkward',\n",
       " 'bad',\n",
       " 'bagratión',\n",
       " 'balashëv',\n",
       " 'bald',\n",
       " 'ball',\n",
       " 'barclay',\n",
       " 'bare',\n",
       " 'battalion',\n",
       " 'batteri',\n",
       " 'battl',\n",
       " 'bear',\n",
       " 'beat',\n",
       " 'beauti',\n",
       " 'bed',\n",
       " 'beg',\n",
       " 'begin',\n",
       " 'begun',\n",
       " 'believ',\n",
       " 'belong',\n",
       " 'bennigsen',\n",
       " 'bent',\n",
       " 'berg',\n",
       " 'besid',\n",
       " 'beyond',\n",
       " 'bezúkhov',\n",
       " 'bilíbin',\n",
       " 'bit',\n",
       " 'black',\n",
       " 'blame',\n",
       " 'blood',\n",
       " 'blow',\n",
       " 'blue',\n",
       " 'blush',\n",
       " 'bodi',\n",
       " 'bold',\n",
       " 'bolkónski',\n",
       " 'bonapart',\n",
       " 'book',\n",
       " 'boot',\n",
       " 'borodinó',\n",
       " 'borzoi',\n",
       " 'borí',\n",
       " 'bound',\n",
       " 'bourienn',\n",
       " 'bow',\n",
       " 'box',\n",
       " 'boy',\n",
       " 'break',\n",
       " 'breath',\n",
       " 'bridg',\n",
       " 'bright',\n",
       " 'brilliant',\n",
       " 'bring',\n",
       " 'broad',\n",
       " 'broke',\n",
       " 'broken',\n",
       " 'brother',\n",
       " 'brought',\n",
       " 'burn',\n",
       " 'burst',\n",
       " 'busi',\n",
       " 'call',\n",
       " 'calm',\n",
       " 'camp',\n",
       " 'campaign',\n",
       " 'candl',\n",
       " 'cannon',\n",
       " 'cap',\n",
       " 'capit',\n",
       " 'captain',\n",
       " 'captur',\n",
       " 'card',\n",
       " 'care',\n",
       " 'carri',\n",
       " 'carriag',\n",
       " 'cart',\n",
       " 'caught',\n",
       " 'caus',\n",
       " 'cavalri',\n",
       " 'ceas',\n",
       " 'center',\n",
       " 'chair',\n",
       " 'chanc',\n",
       " 'chang',\n",
       " 'chapter',\n",
       " 'charact',\n",
       " 'charm',\n",
       " 'cheek',\n",
       " 'cheer',\n",
       " 'chief',\n",
       " 'child',\n",
       " 'children',\n",
       " 'church',\n",
       " 'circl',\n",
       " 'circumst',\n",
       " 'citi',\n",
       " 'clean',\n",
       " 'clever',\n",
       " 'cloak',\n",
       " 'clock',\n",
       " 'close',\n",
       " 'cloth',\n",
       " 'cloud',\n",
       " 'club',\n",
       " 'coat',\n",
       " 'cold',\n",
       " 'collect',\n",
       " 'colonel',\n",
       " 'column',\n",
       " 'come',\n",
       " 'comfort',\n",
       " 'command',\n",
       " 'common',\n",
       " 'compani',\n",
       " 'companion',\n",
       " 'complet',\n",
       " 'comrad',\n",
       " 'conceal',\n",
       " 'concept',\n",
       " 'concern',\n",
       " 'conclud',\n",
       " 'condit',\n",
       " 'confid',\n",
       " 'confus',\n",
       " 'connect',\n",
       " 'conscious',\n",
       " 'consid',\n",
       " 'consist',\n",
       " 'continu',\n",
       " 'contrari',\n",
       " 'convers',\n",
       " 'convinc',\n",
       " 'corner',\n",
       " 'cossack',\n",
       " 'council',\n",
       " 'count',\n",
       " 'countess',\n",
       " 'countri',\n",
       " 'cours',\n",
       " 'court',\n",
       " 'cover',\n",
       " 'cri',\n",
       " 'cross',\n",
       " 'crowd',\n",
       " 'cut',\n",
       " 'danc',\n",
       " 'danger',\n",
       " 'dare',\n",
       " 'dark',\n",
       " 'daughter',\n",
       " 'day',\n",
       " 'dead',\n",
       " 'deal',\n",
       " 'dear',\n",
       " 'death',\n",
       " 'decid',\n",
       " 'deep',\n",
       " 'definit',\n",
       " 'delight',\n",
       " 'demand',\n",
       " 'denísov',\n",
       " 'depend',\n",
       " 'describ',\n",
       " 'desir',\n",
       " 'despit',\n",
       " 'destroy',\n",
       " 'detach',\n",
       " 'detail',\n",
       " 'devil',\n",
       " 'devot',\n",
       " 'didn',\n",
       " 'die',\n",
       " 'difficult',\n",
       " 'difficulti',\n",
       " 'dine',\n",
       " 'dinner',\n",
       " 'direct',\n",
       " 'discuss',\n",
       " 'distanc',\n",
       " 'distinct',\n",
       " 'distinguish',\n",
       " 'divis',\n",
       " 'dmítrievna',\n",
       " 'do',\n",
       " 'doctor',\n",
       " 'dog',\n",
       " 'don',\n",
       " 'door',\n",
       " 'doubt',\n",
       " 'drag',\n",
       " 'draw',\n",
       " 'drawn',\n",
       " 'dread',\n",
       " 'dream',\n",
       " 'dress',\n",
       " 'drew',\n",
       " 'drink',\n",
       " 'drive',\n",
       " 'dron',\n",
       " 'drop',\n",
       " 'drove',\n",
       " 'dull',\n",
       " 'duti',\n",
       " 'dólokhov',\n",
       " 'eager',\n",
       " 'ear',\n",
       " 'earth',\n",
       " 'eat',\n",
       " 'effect',\n",
       " 'effort',\n",
       " 'elder',\n",
       " 'els',\n",
       " 'embrac',\n",
       " 'emperor',\n",
       " 'empti',\n",
       " 'enemi',\n",
       " 'engag',\n",
       " 'enjoy',\n",
       " 'enorm',\n",
       " 'enter',\n",
       " 'equal',\n",
       " 'escap',\n",
       " 'especi',\n",
       " 'estat',\n",
       " 'even',\n",
       " 'event',\n",
       " 'evid',\n",
       " 'examin',\n",
       " 'excel',\n",
       " 'except',\n",
       " 'excit',\n",
       " 'exclaim',\n",
       " 'execut',\n",
       " 'exist',\n",
       " 'expect',\n",
       " 'experi',\n",
       " 'experienc',\n",
       " 'explain',\n",
       " 'express',\n",
       " 'eye',\n",
       " 'face',\n",
       " 'fall',\n",
       " 'fallen',\n",
       " 'famili',\n",
       " 'familiar',\n",
       " 'fanci',\n",
       " 'farther',\n",
       " 'fate',\n",
       " 'father',\n",
       " 'fear',\n",
       " 'feel',\n",
       " 'feet',\n",
       " 'fell',\n",
       " 'fellow',\n",
       " 'field',\n",
       " 'fight',\n",
       " 'figur',\n",
       " 'fill',\n",
       " 'final',\n",
       " 'fine',\n",
       " 'finger',\n",
       " 'finish',\n",
       " 'fire',\n",
       " 'firm',\n",
       " 'fit',\n",
       " 'five',\n",
       " 'fix',\n",
       " 'flank',\n",
       " 'fli',\n",
       " 'floor',\n",
       " 'flush',\n",
       " 'follow',\n",
       " 'fond',\n",
       " 'fool',\n",
       " 'foot',\n",
       " 'forc',\n",
       " 'forest',\n",
       " 'forget',\n",
       " 'forgiv',\n",
       " 'forgotten',\n",
       " 'form',\n",
       " 'former',\n",
       " 'forward',\n",
       " 'found',\n",
       " 'free',\n",
       " 'freedom',\n",
       " 'french',\n",
       " 'frenchman',\n",
       " 'fresh',\n",
       " 'friend',\n",
       " 'frighten',\n",
       " 'front',\n",
       " 'frown',\n",
       " 'futur',\n",
       " 'gallop',\n",
       " 'garden',\n",
       " 'gate',\n",
       " 'gather',\n",
       " 'gaze',\n",
       " 'general',\n",
       " 'genius',\n",
       " 'gentl',\n",
       " 'gentlemen',\n",
       " 'german',\n",
       " 'gestur',\n",
       " 'get',\n",
       " 'girl',\n",
       " 'give',\n",
       " 'glad',\n",
       " 'glanc',\n",
       " 'glass',\n",
       " 'glitter',\n",
       " 'god',\n",
       " 'gone',\n",
       " 'govern',\n",
       " 'governor',\n",
       " 'grand',\n",
       " 'gray',\n",
       " 'greet',\n",
       " 'grew',\n",
       " 'ground',\n",
       " 'grow',\n",
       " 'grown',\n",
       " 'guard',\n",
       " 'guest',\n",
       " 'gun',\n",
       " 'gutenberg',\n",
       " 'habit',\n",
       " 'hair',\n",
       " 'half',\n",
       " 'hall',\n",
       " 'halt',\n",
       " 'hand',\n",
       " 'handsom',\n",
       " 'happen',\n",
       " 'happi',\n",
       " 'hard',\n",
       " 'harm',\n",
       " 'hastili',\n",
       " 'hat',\n",
       " 'head',\n",
       " 'health',\n",
       " 'hear',\n",
       " 'heard',\n",
       " 'heart',\n",
       " 'heaven',\n",
       " 'heavi',\n",
       " 'held',\n",
       " 'help',\n",
       " 'hero',\n",
       " 'hide',\n",
       " 'high',\n",
       " 'hill',\n",
       " 'hippolyt',\n",
       " 'histor',\n",
       " 'histori',\n",
       " 'historian',\n",
       " 'hold',\n",
       " 'home',\n",
       " 'honor',\n",
       " 'hope',\n",
       " 'horror',\n",
       " 'hors',\n",
       " 'hospit',\n",
       " 'hot',\n",
       " 'hour',\n",
       " 'hous',\n",
       " 'human',\n",
       " 'hundr',\n",
       " 'hunt',\n",
       " 'hurrah',\n",
       " 'hurri',\n",
       " 'husband',\n",
       " 'hussar',\n",
       " 'hut',\n",
       " 'hélène',\n",
       " 'icon',\n",
       " 'idea',\n",
       " 'ill',\n",
       " 'imagin',\n",
       " 'immedi',\n",
       " 'import',\n",
       " 'imposs',\n",
       " 'impress',\n",
       " 'increas',\n",
       " 'indic',\n",
       " 'inevit',\n",
       " 'infantri',\n",
       " 'influenc',\n",
       " 'inform',\n",
       " 'inquir',\n",
       " 'insist',\n",
       " 'instant',\n",
       " 'instead',\n",
       " 'instruct',\n",
       " 'intend',\n",
       " 'intent',\n",
       " 'interrupt',\n",
       " 'invit',\n",
       " 'involuntarili',\n",
       " 'irrit',\n",
       " 'join',\n",
       " 'joke',\n",
       " 'journey',\n",
       " 'joy',\n",
       " 'judg',\n",
       " 'juli',\n",
       " 'jump',\n",
       " 'karatáev',\n",
       " 'kept',\n",
       " 'kill',\n",
       " 'kind',\n",
       " 'king',\n",
       " 'kiss',\n",
       " 'knee',\n",
       " 'know',\n",
       " 'kurágin',\n",
       " 'kutúzov',\n",
       " 'lad',\n",
       " 'ladi',\n",
       " 'laid',\n",
       " 'late',\n",
       " 'latter',\n",
       " 'laugh',\n",
       " 'laughter',\n",
       " 'law',\n",
       " 'lay',\n",
       " 'lead',\n",
       " 'lean',\n",
       " 'learn',\n",
       " 'leav',\n",
       " 'led',\n",
       " 'left',\n",
       " 'leg',\n",
       " 'letter',\n",
       " 'lie',\n",
       " 'life',\n",
       " 'lift',\n",
       " 'light',\n",
       " 'like',\n",
       " 'line',\n",
       " 'lip',\n",
       " 'listen',\n",
       " 'lit',\n",
       " 'littl',\n",
       " 'live',\n",
       " 'look',\n",
       " 'lord',\n",
       " 'lose',\n",
       " 'loss',\n",
       " 'lost',\n",
       " 'loud',\n",
       " 'love',\n",
       " 'low',\n",
       " 'lower',\n",
       " 'madam',\n",
       " 'mademoisell',\n",
       " 'maid',\n",
       " 'majesti',\n",
       " 'major',\n",
       " 'mamma',\n",
       " 'manag',\n",
       " 'manner',\n",
       " 'march',\n",
       " 'mari',\n",
       " 'marri',\n",
       " 'marriag',\n",
       " 'marshal',\n",
       " 'mason',\n",
       " 'mass',\n",
       " 'master',\n",
       " 'matter',\n",
       " 'mean',\n",
       " 'meant',\n",
       " 'meet',\n",
       " 'memori',\n",
       " 'mention',\n",
       " 'mere',\n",
       " 'merri',\n",
       " 'met',\n",
       " 'michael',\n",
       " 'middl',\n",
       " 'mikháylovna',\n",
       " 'mile',\n",
       " 'militari',\n",
       " 'mind',\n",
       " 'minist',\n",
       " 'minut',\n",
       " 'miss',\n",
       " 'moment',\n",
       " 'mon',\n",
       " 'money',\n",
       " 'month',\n",
       " 'morn',\n",
       " 'moscow',\n",
       " 'mother',\n",
       " 'mount',\n",
       " 'mouth',\n",
       " 'move',\n",
       " 'movement',\n",
       " 'murat',\n",
       " 'music',\n",
       " 'mustach',\n",
       " 'mutter',\n",
       " 'mysteri',\n",
       " 'márya',\n",
       " 'name',\n",
       " 'napoleon',\n",
       " 'nation',\n",
       " 'natur',\n",
       " 'natásha',\n",
       " 'near',\n",
       " 'nearer',\n",
       " 'necess',\n",
       " 'neck',\n",
       " 'neither',\n",
       " 'nesvítski',\n",
       " 'news',\n",
       " 'nichola',\n",
       " 'night',\n",
       " 'nod',\n",
       " 'nonsens',\n",
       " 'nor',\n",
       " 'nose',\n",
       " 'note',\n",
       " 'notic',\n",
       " 'nurs',\n",
       " 'object',\n",
       " 'observ',\n",
       " 'obtain',\n",
       " 'occupi',\n",
       " 'occur',\n",
       " 'offer',\n",
       " 'offic',\n",
       " 'offici',\n",
       " 'one',\n",
       " 'onto',\n",
       " 'opinion',\n",
       " 'opposit',\n",
       " 'order',\n",
       " 'ought',\n",
       " 'own',\n",
       " 'pace',\n",
       " 'pack',\n",
       " 'pain',\n",
       " 'pale',\n",
       " 'paper',\n",
       " 'parti',\n",
       " 'particular',\n",
       " 'pass',\n",
       " 'passag',\n",
       " 'passion',\n",
       " 'past',\n",
       " 'path',\n",
       " 'paus',\n",
       " 'pay',\n",
       " 'peac',\n",
       " 'peasant',\n",
       " 'peculiar',\n",
       " 'peopl',\n",
       " 'perfect',\n",
       " 'perform',\n",
       " 'person',\n",
       " 'petersburg',\n",
       " 'physic',\n",
       " 'pierr',\n",
       " 'piti',\n",
       " 'place',\n",
       " 'plain',\n",
       " 'plan',\n",
       " 'play',\n",
       " 'pleas',\n",
       " 'pleasant',\n",
       " 'pleasur',\n",
       " 'polish',\n",
       " 'polit',\n",
       " 'poor',\n",
       " 'porch',\n",
       " 'posit',\n",
       " 'possess',\n",
       " 'possibl',\n",
       " 'post',\n",
       " 'power',\n",
       " 'pray',\n",
       " 'prayer',\n",
       " 'prepar',\n",
       " 'presenc',\n",
       " 'press',\n",
       " 'pretti',\n",
       " 'previous',\n",
       " 'princ',\n",
       " 'princess',\n",
       " 'prison',\n",
       " 'probabl',\n",
       " 'produc',\n",
       " 'project',\n",
       " 'promis',\n",
       " 'propos',\n",
       " 'prove',\n",
       " 'pull',\n",
       " 'purpos',\n",
       " 'push',\n",
       " 'put',\n",
       " 'pávlovna',\n",
       " 'pétya',\n",
       " 'quarter',\n",
       " 'question',\n",
       " 'quick',\n",
       " 'quiet',\n",
       " 'rais',\n",
       " 'ran',\n",
       " 'rank',\n",
       " 'rapid',\n",
       " 'reach',\n",
       " 'read',\n",
       " 'readi',\n",
       " 'real',\n",
       " 'realiz',\n",
       " 'reason',\n",
       " 'recal',\n",
       " 'receiv',\n",
       " 'recept',\n",
       " 'recogn',\n",
       " 'red',\n",
       " 'refer',\n",
       " 'reflect',\n",
       " 'refus',\n",
       " 'regard',\n",
       " 'regiment',\n",
       " 'relat',\n",
       " 'remain',\n",
       " 'remark',\n",
       " 'rememb',\n",
       " 'remov',\n",
       " 'repeat',\n",
       " 'repli',\n",
       " 'report',\n",
       " 'reproach',\n",
       " 'resolut',\n",
       " 'respect',\n",
       " 'rest',\n",
       " 'result',\n",
       " 'retir',\n",
       " 'retreat',\n",
       " 'return',\n",
       " 'rich',\n",
       " 'ride',\n",
       " 'ring',\n",
       " 'rise',\n",
       " 'river',\n",
       " 'road',\n",
       " 'rode',\n",
       " 'roll',\n",
       " 'rose',\n",
       " 'rostopchín',\n",
       " 'rostóv',\n",
       " 'round',\n",
       " 'rubl',\n",
       " 'ruin',\n",
       " 'rule',\n",
       " 'run',\n",
       " 'rush',\n",
       " 'russia',\n",
       " 'russian',\n",
       " 'saber',\n",
       " 'sacrific',\n",
       " 'sad',\n",
       " 'saddl',\n",
       " 'sake',\n",
       " 'sat',\n",
       " 'satisfi',\n",
       " 'save',\n",
       " 'say',\n",
       " 'scarc',\n",
       " 'scienc',\n",
       " 'scream',\n",
       " 'seat',\n",
       " 'secret',\n",
       " 'see',\n",
       " 'seek',\n",
       " 'seen',\n",
       " 'seiz',\n",
       " 'self',\n",
       " 'send',\n",
       " 'sens',\n",
       " 'sent',\n",
       " 'separ',\n",
       " 'serf',\n",
       " 'serious',\n",
       " 'serv',\n",
       " 'servant',\n",
       " 'servic',\n",
       " 'set',\n",
       " 'settl',\n",
       " 'seven',\n",
       " 'sever',\n",
       " 'share',\n",
       " 'shed',\n",
       " 'shook',\n",
       " 'short',\n",
       " 'shot',\n",
       " 'shoulder',\n",
       " 'shout',\n",
       " 'shown',\n",
       " 'sick',\n",
       " 'sigh',\n",
       " 'sight',\n",
       " 'sign',\n",
       " 'signific',\n",
       " 'silenc',\n",
       " 'silent',\n",
       " 'simpl',\n",
       " 'simpli',\n",
       " 'sing',\n",
       " 'singl',\n",
       " 'sir',\n",
       " 'sister',\n",
       " 'sit',\n",
       " 'six',\n",
       " 'sky',\n",
       " 'sleep',\n",
       " 'sleigh',\n",
       " 'slight',\n",
       " 'smile',\n",
       " 'smoke',\n",
       " 'smolénsk',\n",
       " 'snow',\n",
       " 'sob',\n",
       " 'societi',\n",
       " 'sofa',\n",
       " 'soft',\n",
       " 'soldier',\n",
       " 'solemn',\n",
       " 'sometim',\n",
       " 'son',\n",
       " 'soon',\n",
       " 'sorri',\n",
       " 'sorrow',\n",
       " 'sort',\n",
       " 'soul',\n",
       " 'sound',\n",
       " 'sovereign',\n",
       " 'speak',\n",
       " 'special',\n",
       " 'spectacl',\n",
       " 'spent',\n",
       " 'speránski',\n",
       " 'spirit',\n",
       " 'spite',\n",
       " 'splendid',\n",
       " 'spoke',\n",
       " 'spoken',\n",
       " 'spot',\n",
       " 'spread',\n",
       " 'squadron',\n",
       " 'staff',\n",
       " 'stand',\n",
       " 'start',\n",
       " 'station',\n",
       " 'stay',\n",
       " 'step',\n",
       " 'stern',\n",
       " 'stood',\n",
       " 'stop',\n",
       " 'stori',\n",
       " 'straight',\n",
       " 'strang',\n",
       " 'street',\n",
       " 'strength',\n",
       " 'strong',\n",
       " 'struck',\n",
       " 'struggl',\n",
       " 'studi',\n",
       " 'stupid',\n",
       " 'subject',\n",
       " 'success',\n",
       " 'sudden',\n",
       " 'suffer',\n",
       " 'suggest',\n",
       " 'suit',\n",
       " 'sun',\n",
       " 'supper',\n",
       " 'suppos',\n",
       " 'surpris',\n",
       " 'surround',\n",
       " 'sway',\n",
       " 'sónya',\n",
       " 'tabl',\n",
       " 'take',\n",
       " 'talk',\n",
       " 'tall',\n",
       " 'tea',\n",
       " 'tear',\n",
       " 'tell',\n",
       " 'ten',\n",
       " 'tender',\n",
       " 'term',\n",
       " 'terribl',\n",
       " 'thank',\n",
       " 'themselv',\n",
       " 'thin',\n",
       " 'think',\n",
       " 'third',\n",
       " 'thirti',\n",
       " 'thousand',\n",
       " 'threw',\n",
       " 'throw',\n",
       " 'till',\n",
       " 'time',\n",
       " 'timid',\n",
       " 'told',\n",
       " 'tomorrow',\n",
       " 'tone',\n",
       " 'torment',\n",
       " 'touch',\n",
       " 'town',\n",
       " 'train',\n",
       " 'travel',\n",
       " 'tree',\n",
       " 'trembl',\n",
       " 'tri',\n",
       " 'troop',\n",
       " 'troubl',\n",
       " 'true',\n",
       " 'truth',\n",
       " 'tsar',\n",
       " 'twenti',\n",
       " 'twice',\n",
       " 'tíkhon',\n",
       " 'túshin',\n",
       " 'unabl',\n",
       " 'uncl',\n",
       " 'understand',\n",
       " 'understood',\n",
       " 'unexpect',\n",
       " 'uniform',\n",
       " 'unit',\n",
       " 'unknown',\n",
       " 'unpleas',\n",
       " 'usual',\n",
       " 'utter',\n",
       " 'various',\n",
       " 'vasíli',\n",
       " 'victori',\n",
       " 'view',\n",
       " 'villag',\n",
       " 'visit',\n",
       " 'visitor',\n",
       " 'voic',\n",
       " 'véra',\n",
       " 'wait',\n",
       " 'walk',\n",
       " 'wall',\n",
       " 'war',\n",
       " 'warm',\n",
       " 'watch',\n",
       " 'water',\n",
       " 'wave',\n",
       " 'weak',\n",
       " 'wear',\n",
       " 'week',\n",
       " 'whatev',\n",
       " 'wheel',\n",
       " 'whisper',\n",
       " 'whistl',\n",
       " 'white',\n",
       " 'whom',\n",
       " 'wide',\n",
       " 'wife',\n",
       " 'window',\n",
       " 'wine',\n",
       " 'wish',\n",
       " 'wolf',\n",
       " 'woman',\n",
       " 'women',\n",
       " 'won',\n",
       " 'wonder',\n",
       " 'wood',\n",
       " 'word',\n",
       " 'world',\n",
       " 'wound',\n",
       " 'write',\n",
       " 'written',\n",
       " 'wrong',\n",
       " 'wrote',\n",
       " 'yard',\n",
       " 'yes',\n",
       " 'yesterday',\n",
       " 'yourself',\n",
       " 'youth']"
      ]
     },
     "execution_count": 22,
     "metadata": {},
     "output_type": "execute_result"
    }
   ],
   "source": [
    "sorted(list(wp.wv.vocab))"
   ]
  },
  {
   "cell_type": "code",
   "execution_count": 23,
   "metadata": {
    "ExecuteTime": {
     "end_time": "2018-07-31T05:44:50.810823Z",
     "start_time": "2018-07-31T05:44:50.744665Z"
    }
   },
   "outputs": [],
   "source": [
    "words = [\"chair\",\"car\",\"man\",\"woman\",\"clean\",\"close\",\"cloud\",\"coat\", \"confus\",\"danger\",\"daughter\",\"deal\",\"run\",\"walk\",\"count\",\"father\",\"girl\",\"near\",\"neck\",\"spoke\",\"spoken\",\"stand\",\"show\",\"shown\"]"
   ]
  },
  {
   "cell_type": "markdown",
   "metadata": {},
   "source": [
    "Let us save this so that we can continue"
   ]
  },
  {
   "cell_type": "code",
   "execution_count": 24,
   "metadata": {
    "ExecuteTime": {
     "end_time": "2018-07-31T05:44:51.062336Z",
     "start_time": "2018-07-31T05:44:50.814590Z"
    }
   },
   "outputs": [],
   "source": [
    "wp.wv.save_word2vec_format('wp.bin')"
   ]
  },
  {
   "cell_type": "code",
   "execution_count": 25,
   "metadata": {
    "ExecuteTime": {
     "end_time": "2018-07-31T05:44:51.070141Z",
     "start_time": "2018-07-31T05:44:51.063962Z"
    }
   },
   "outputs": [
    {
     "name": "stderr",
     "output_type": "stream",
     "text": [
      "C:\\ProgramData\\Anaconda3\\lib\\site-packages\\ipykernel_launcher.py:2: DeprecationWarning: Call to deprecated `__getitem__` (Method will be removed in 4.0.0, use self.wv.__getitem__() instead).\n",
      "  \n"
     ]
    },
    {
     "data": {
      "text/plain": [
       "array([[-0.10085903,  0.01934732,  0.07742862, ..., -0.04468368,\n",
       "         0.03688253,  0.04012655],\n",
       "       [-0.07075549,  0.01699005,  0.07694533, ..., -0.03625766,\n",
       "         0.04953598,  0.01741023],\n",
       "       [-0.10039592,  0.02188708,  0.0735743 , ..., -0.05281269,\n",
       "         0.04305997,  0.04718442],\n",
       "       ...,\n",
       "       [-0.09512285,  0.01393332,  0.07772898, ..., -0.03635101,\n",
       "         0.01800728,  0.0420566 ],\n",
       "       [-0.04306317, -0.00862259,  0.09241063, ..., -0.02475785,\n",
       "         0.02452198,  0.00483735],\n",
       "       [-0.06479055,  0.00355601,  0.09015468, ..., -0.02832018,\n",
       "         0.02505566,  0.0157108 ]], dtype=float32)"
      ]
     },
     "execution_count": 25,
     "metadata": {},
     "output_type": "execute_result"
    }
   ],
   "source": [
    "import numpy as np\n",
    "X = np.array([wp[w] for w in wp.wv.vocab if w in words])\n",
    "X"
   ]
  },
  {
   "cell_type": "markdown",
   "metadata": {},
   "source": [
    "Now Let us apply k-means algorithm on the top of the data"
   ]
  },
  {
   "cell_type": "markdown",
   "metadata": {},
   "source": [
    "# k-means\n",
    "K-means  is one of the simplest unsupervised learning algorithms that solve the well known clustering problem. The procedure follows a simple and easy way to classify a given data set through a certain number of clusters (assume k clusters) fixed a priori. The main idea is to define k centroids, one for each cluster."
   ]
  },
  {
   "cell_type": "code",
   "execution_count": 26,
   "metadata": {
    "ExecuteTime": {
     "end_time": "2018-07-31T05:44:51.287987Z",
     "start_time": "2018-07-31T05:44:51.072628Z"
    }
   },
   "outputs": [],
   "source": [
    "from sklearn.cluster import KMeans\n",
    "km = KMeans(n_clusters = 4)\n",
    "km.fit(X)\n",
    "y_kmeans = km.predict(X)"
   ]
  },
  {
   "cell_type": "code",
   "execution_count": 27,
   "metadata": {
    "ExecuteTime": {
     "end_time": "2018-07-31T05:44:51.461375Z",
     "start_time": "2018-07-31T05:44:51.290038Z"
    }
   },
   "outputs": [],
   "source": [
    "from sklearn import manifold\n",
    "lle_data = manifold.LocallyLinearEmbedding(n_neighbors=10, n_components=2).fit_transform(X)"
   ]
  },
  {
   "cell_type": "code",
   "execution_count": 28,
   "metadata": {
    "ExecuteTime": {
     "end_time": "2018-07-31T05:44:57.848880Z",
     "start_time": "2018-07-31T05:44:57.617070Z"
    }
   },
   "outputs": [
    {
     "data": {
      "image/png": "[encoded data removed]",
      "text/plain": [
       "<Figure size 432x288 with 1 Axes>"
      ]
     },
     "metadata": {},
     "output_type": "display_data"
    }
   ],
   "source": [
    "import matplotlib.pyplot as plt\n",
    "%matplotlib inline\n",
    "plt.scatter(lle_data[:,0],lle_data[:,1], c =y_kmeans )\n",
    "for i in range(len(words)-3):\n",
    "    plt.annotate(words[i], xy = (lle_data[i][0],lle_data[i][1]))\n",
    "plt.show()"
   ]
  },
  {
   "cell_type": "markdown",
   "metadata": {},
   "source": [
    "The words get divided into four clusters  as shown by the four colors, visualize into 2D by LLE plot"
   ]
  },
  {
   "cell_type": "code",
   "execution_count": null,
   "metadata": {},
   "outputs": [],
   "source": []
  }
 ],
 "metadata": {
  "kernelspec": {
   "display_name": "Python 3",
   "language": "python",
   "name": "python3"
  },
  "language_info": {
   "codemirror_mode": {
    "name": "ipython",
    "version": 3
   },
   "file_extension": ".py",
   "mimetype": "text/x-python",
   "name": "python",
   "nbconvert_exporter": "python",
   "pygments_lexer": "ipython3",
   "version": "3.6.5"
  }
 },
 "nbformat": 4,
 "nbformat_minor": 2
}
