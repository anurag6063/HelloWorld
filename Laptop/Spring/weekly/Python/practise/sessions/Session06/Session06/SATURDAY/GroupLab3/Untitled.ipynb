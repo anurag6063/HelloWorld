{
 "cells": [
  {
   "cell_type": "code",
   "execution_count": 12,
   "metadata": {},
   "outputs": [],
   "source": [
    "x_vals = np.random.rand(50)\n",
    "x_train = np.asarray(x_vals,dtype=np.float32).reshape(-1,1)\n",
    "m = 1\n",
    "alpha = np.random.rand(1)\n",
    "beta = np.random.rand(1)\n",
    "y_correct = np.asarray([2*i+m for i in x_vals], dtype=np.float32).reshape(-1,1)"
   ]
  },
  {
   "cell_type": "code",
   "execution_count": 16,
   "metadata": {},
   "outputs": [
    {
     "data": {
      "text/plain": [
       "array([[1.8091896],\n",
       "       [1.0663857],\n",
       "       [1.316486 ],\n",
       "       [2.0529387],\n",
       "       [1.9463491],\n",
       "       [2.5184197],\n",
       "       [2.9301991],\n",
       "       [2.1991158],\n",
       "       [1.3309779],\n",
       "       [1.1336826],\n",
       "       [2.2464201],\n",
       "       [1.2806014],\n",
       "       [2.3357491],\n",
       "       [1.9373571],\n",
       "       [1.7221426],\n",
       "       [1.551168 ],\n",
       "       [1.4047018],\n",
       "       [2.5141704],\n",
       "       [2.509337 ],\n",
       "       [2.2965522],\n",
       "       [1.579371 ],\n",
       "       [2.016176 ],\n",
       "       [1.6278304],\n",
       "       [2.1860366],\n",
       "       [2.0204744],\n",
       "       [2.2485266],\n",
       "       [1.1297   ],\n",
       "       [1.3121358],\n",
       "       [1.517021 ],\n",
       "       [1.3295214],\n",
       "       [2.4398112],\n",
       "       [2.25864  ],\n",
       "       [1.819376 ],\n",
       "       [1.6694683],\n",
       "       [1.2092364],\n",
       "       [1.3506554],\n",
       "       [1.8955148],\n",
       "       [2.2019558],\n",
       "       [2.2586846],\n",
       "       [2.787262 ],\n",
       "       [1.6533962],\n",
       "       [2.953482 ],\n",
       "       [2.7354634],\n",
       "       [1.9587709],\n",
       "       [1.1041781],\n",
       "       [1.901738 ],\n",
       "       [2.7730415],\n",
       "       [2.3700387],\n",
       "       [2.068452 ],\n",
       "       [2.0755303]], dtype=float32)"
      ]
     },
     "execution_count": 16,
     "metadata": {},
     "output_type": "execute_result"
    }
   ],
   "source": [
    "np.asarray([2*i+m for i in x_vals], dtype=np.float32).reshape(-1,1)"
   ]
  },
  {
   "cell_type": "code",
   "execution_count": 8,
   "metadata": {},
   "outputs": [
    {
     "data": {
      "text/plain": [
       "array([[0.46982285],\n",
       "       [0.09084725],\n",
       "       [0.48526224],\n",
       "       [0.9553331 ],\n",
       "       [0.8522279 ],\n",
       "       [0.4613693 ],\n",
       "       [0.8901014 ],\n",
       "       [0.8032201 ],\n",
       "       [0.09630492],\n",
       "       [0.10400802],\n",
       "       [0.97381914],\n",
       "       [0.9904049 ],\n",
       "       [0.86626375],\n",
       "       [0.9162528 ],\n",
       "       [0.5137088 ],\n",
       "       [0.6198432 ],\n",
       "       [0.6740112 ],\n",
       "       [0.68815744],\n",
       "       [0.6774027 ],\n",
       "       [0.18930796],\n",
       "       [0.92817515],\n",
       "       [0.18065976],\n",
       "       [0.46651453],\n",
       "       [0.754764  ],\n",
       "       [0.6653766 ],\n",
       "       [0.2722507 ],\n",
       "       [0.879089  ],\n",
       "       [0.58458686],\n",
       "       [0.85991603],\n",
       "       [0.9888284 ],\n",
       "       [0.32732993],\n",
       "       [0.4645348 ],\n",
       "       [0.7848241 ],\n",
       "       [0.5955093 ],\n",
       "       [0.6276056 ],\n",
       "       [0.43596855],\n",
       "       [0.28830963],\n",
       "       [0.6303123 ],\n",
       "       [0.18306392],\n",
       "       [0.8070808 ],\n",
       "       [0.4173316 ],\n",
       "       [0.03657546],\n",
       "       [0.5778475 ],\n",
       "       [0.17746747],\n",
       "       [0.5967958 ],\n",
       "       [0.69090307],\n",
       "       [0.71087366],\n",
       "       [0.09455536],\n",
       "       [0.13808188],\n",
       "       [0.53291786]], dtype=float32)"
      ]
     },
     "execution_count": 8,
     "metadata": {},
     "output_type": "execute_result"
    }
   ],
   "source": [
    "np.asarray(x_vals,dtype=np.float32).reshape(-1,1)"
   ]
  },
  {
   "cell_type": "code",
   "execution_count": 10,
   "metadata": {},
   "outputs": [
    {
     "data": {
      "text/plain": [
       "array([0.11138966])"
      ]
     },
     "execution_count": 10,
     "metadata": {},
     "output_type": "execute_result"
    }
   ],
   "source": [
    "np.random.rand(1)"
   ]
  },
  {
   "cell_type": "code",
   "execution_count": 9,
   "metadata": {},
   "outputs": [
    {
     "data": {
      "text/plain": [
       "array([0.10402207])"
      ]
     },
     "execution_count": 9,
     "metadata": {},
     "output_type": "execute_result"
    }
   ],
   "source": [
    "np.random.rand(1)"
   ]
  }
 ],
 "metadata": {
  "kernelspec": {
   "display_name": "Python 3",
   "language": "python",
   "name": "python3"
  },
  "language_info": {
   "codemirror_mode": {
    "name": "ipython",
    "version": 3
   },
   "file_extension": ".py",
   "mimetype": "text/x-python",
   "name": "python",
   "nbconvert_exporter": "python",
   "pygments_lexer": "ipython3",
   "version": "3.6.5"
  }
 },
 "nbformat": 4,
 "nbformat_minor": 2
}
