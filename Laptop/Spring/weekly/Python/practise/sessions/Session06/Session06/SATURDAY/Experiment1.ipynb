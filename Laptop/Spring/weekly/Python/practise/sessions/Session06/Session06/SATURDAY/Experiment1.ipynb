{
 "cells": [
  {
   "cell_type": "markdown",
   "metadata": {},
   "source": [
    "# Foundations of Artificial Intelligence and Machine Learning\n",
    "## A Program by IIIT-H and TalentSprint"
   ]
  },
  {
   "cell_type": "markdown",
   "metadata": {},
   "source": [
    "### Pytorch Basics"
   ]
  },
  {
   "cell_type": "markdown",
   "metadata": {},
   "source": [
    "* Basics\n",
    "* Activation Functions\n",
    "* nn module\n",
    "* Loss functions\n",
    "* Autograd example 1         \n",
    "* Autograd example 2\n",
    "* Loading data from numpy"
   ]
  },
  {
   "cell_type": "code",
   "execution_count": null,
   "metadata": {
    "ExecuteTime": {
     "end_time": "2018-07-27T13:30:03.052651Z",
     "start_time": "2018-07-27T13:30:00.455577Z"
    }
   },
   "outputs": [],
   "source": [
    "import torch \n",
    "import torchvision\n",
    "import torch.nn as nn\n",
    "import torch.nn.functional as F\n",
    "import numpy as np\n",
    "import torchvision.transforms as transforms\n",
    "import librosa\n",
    "import os"
   ]
  },
  {
   "cell_type": "markdown",
   "metadata": {},
   "source": [
    "### Basics"
   ]
  },
  {
   "cell_type": "code",
   "execution_count": null,
   "metadata": {
    "ExecuteTime": {
     "end_time": "2018-07-27T13:30:03.071452Z",
     "start_time": "2018-07-27T13:30:03.057504Z"
    }
   },
   "outputs": [],
   "source": [
    "x = torch.tensor((2, 3))\n",
    "y = torch.tensor((3,1))\n",
    "print(x, y)"
   ]
  },
  {
   "cell_type": "markdown",
   "metadata": {},
   "source": [
    "#### Addition of two tensors"
   ]
  },
  {
   "cell_type": "code",
   "execution_count": null,
   "metadata": {
    "ExecuteTime": {
     "end_time": "2018-07-27T13:30:03.084716Z",
     "start_time": "2018-07-27T13:30:03.076118Z"
    }
   },
   "outputs": [],
   "source": [
    "z = x + y\n",
    "w = torch.add(x, y)\n",
    "print(w)"
   ]
  },
  {
   "cell_type": "markdown",
   "metadata": {},
   "source": [
    "#### Inplace operation"
   ]
  },
  {
   "cell_type": "code",
   "execution_count": null,
   "metadata": {
    "ExecuteTime": {
     "end_time": "2018-07-27T13:30:03.098018Z",
     "start_time": "2018-07-27T13:30:03.089655Z"
    }
   },
   "outputs": [],
   "source": [
    "x.add_(y)        # Same as x = x + y\n",
    "print(x)"
   ]
  },
  {
   "cell_type": "code",
   "execution_count": null,
   "metadata": {
    "ExecuteTime": {
     "end_time": "2018-07-27T13:30:03.124916Z",
     "start_time": "2018-07-27T13:30:03.102409Z"
    }
   },
   "outputs": [],
   "source": [
    "torch.add(x, y) "
   ]
  },
  {
   "cell_type": "markdown",
   "metadata": {},
   "source": [
    "#### Numpy type indexing is possible"
   ]
  },
  {
   "cell_type": "code",
   "execution_count": null,
   "metadata": {
    "ExecuteTime": {
     "end_time": "2018-07-27T13:30:03.136874Z",
     "start_time": "2018-07-27T13:30:03.128523Z"
    }
   },
   "outputs": [],
   "source": [
    "x = torch.rand(2, 5)\n",
    "print(x)"
   ]
  },
  {
   "cell_type": "code",
   "execution_count": null,
   "metadata": {
    "ExecuteTime": {
     "end_time": "2018-07-27T13:30:03.149803Z",
     "start_time": "2018-07-27T13:30:03.141280Z"
    }
   },
   "outputs": [],
   "source": [
    "x[:, 1]"
   ]
  },
  {
   "cell_type": "code",
   "execution_count": null,
   "metadata": {
    "ExecuteTime": {
     "end_time": "2018-07-27T13:30:03.162496Z",
     "start_time": "2018-07-27T13:30:03.153478Z"
    }
   },
   "outputs": [],
   "source": [
    "x[:, 0] = 0 \n",
    "print(x)"
   ]
  },
  {
   "cell_type": "markdown",
   "metadata": {},
   "source": [
    "#### Tensor metadata"
   ]
  },
  {
   "cell_type": "code",
   "execution_count": null,
   "metadata": {
    "ExecuteTime": {
     "end_time": "2018-07-27T13:30:03.174684Z",
     "start_time": "2018-07-27T13:30:03.166911Z"
    }
   },
   "outputs": [],
   "source": [
    "print(x.size())\n",
    "print(torch.numel(x))"
   ]
  },
  {
   "cell_type": "markdown",
   "metadata": {},
   "source": [
    "#### Reshape a tensor"
   ]
  },
  {
   "cell_type": "code",
   "execution_count": null,
   "metadata": {
    "ExecuteTime": {
     "end_time": "2018-07-27T13:30:03.187149Z",
     "start_time": "2018-07-27T13:30:03.178481Z"
    }
   },
   "outputs": [],
   "source": [
    "x = torch.randn(2, 3)\n",
    "y = x.view(6)\n",
    "z = x.view(-1, 2)\n",
    "print(x.size(), y.size(), z.size())"
   ]
  },
  {
   "cell_type": "markdown",
   "metadata": {},
   "source": [
    "#### Generate an identity matrix"
   ]
  },
  {
   "cell_type": "code",
   "execution_count": null,
   "metadata": {
    "ExecuteTime": {
     "end_time": "2018-07-27T13:30:03.200525Z",
     "start_time": "2018-07-27T13:30:03.191589Z"
    }
   },
   "outputs": [],
   "source": [
    "eye = torch.eye(3)\n",
    "print(eye)"
   ]
  },
  {
   "cell_type": "markdown",
   "metadata": {},
   "source": [
    "#### Vector with all ones"
   ]
  },
  {
   "cell_type": "code",
   "execution_count": null,
   "metadata": {
    "ExecuteTime": {
     "end_time": "2018-07-27T13:30:03.212769Z",
     "start_time": "2018-07-27T13:30:03.205211Z"
    }
   },
   "outputs": [],
   "source": [
    "v = torch.ones(10)\n",
    "print(v)"
   ]
  },
  {
   "cell_type": "markdown",
   "metadata": {},
   "source": [
    "#### Create a tensor with 10 linear points for (1, 10) inclusively"
   ]
  },
  {
   "cell_type": "code",
   "execution_count": null,
   "metadata": {
    "ExecuteTime": {
     "end_time": "2018-07-27T13:30:03.225264Z",
     "start_time": "2018-07-27T13:30:03.216487Z"
    }
   },
   "outputs": [],
   "source": [
    "v = torch.linspace(1, 10, steps=10)\n",
    "print(v)"
   ]
  },
  {
   "cell_type": "markdown",
   "metadata": {},
   "source": [
    "#### Create a tensor with 10 points on a log scale 1e-10 to 1e+10 inclusively"
   ]
  },
  {
   "cell_type": "code",
   "execution_count": null,
   "metadata": {
    "ExecuteTime": {
     "end_time": "2018-07-27T13:30:03.238078Z",
     "start_time": "2018-07-27T13:30:03.228923Z"
    }
   },
   "outputs": [],
   "source": [
    "v = torch.logspace(start=-10, end=10, steps=5)\n",
    "print(v)"
   ]
  },
  {
   "cell_type": "markdown",
   "metadata": {},
   "source": [
    "#### Indexing, Slicing, Joining, Mutating Operations"
   ]
  },
  {
   "cell_type": "code",
   "execution_count": null,
   "metadata": {
    "ExecuteTime": {
     "end_time": "2018-07-27T13:30:03.249023Z",
     "start_time": "2018-07-27T13:30:03.241673Z"
    }
   },
   "outputs": [],
   "source": [
    "v = torch.arange(9)\n",
    "print(v)\n",
    "v = v.view(3, 3)\n",
    "print(v)"
   ]
  },
  {
   "cell_type": "markdown",
   "metadata": {},
   "source": [
    "#### Concatenate tensors along the axis 0"
   ]
  },
  {
   "cell_type": "code",
   "execution_count": null,
   "metadata": {
    "ExecuteTime": {
     "end_time": "2018-07-27T13:30:03.262290Z",
     "start_time": "2018-07-27T13:30:03.253145Z"
    }
   },
   "outputs": [],
   "source": [
    "torch.cat((v, v), 0)"
   ]
  },
  {
   "cell_type": "markdown",
   "metadata": {},
   "source": [
    "#### Concatenate tensors along the axis 1"
   ]
  },
  {
   "cell_type": "code",
   "execution_count": null,
   "metadata": {
    "ExecuteTime": {
     "end_time": "2018-07-27T13:30:03.275697Z",
     "start_time": "2018-07-27T13:30:03.266120Z"
    }
   },
   "outputs": [],
   "source": [
    "torch.cat((v, v), 1)"
   ]
  },
  {
   "cell_type": "markdown",
   "metadata": {},
   "source": [
    "#### Stacking"
   ]
  },
  {
   "cell_type": "code",
   "execution_count": null,
   "metadata": {
    "ExecuteTime": {
     "end_time": "2018-07-27T13:30:03.286611Z",
     "start_time": "2018-07-27T13:30:03.278938Z"
    }
   },
   "outputs": [],
   "source": [
    "r = torch.stack((v, v))\n",
    "print(r)"
   ]
  },
  {
   "cell_type": "markdown",
   "metadata": {},
   "source": [
    "#### Squeeze and unsqueeze"
   ]
  },
  {
   "cell_type": "markdown",
   "metadata": {},
   "source": [
    "##### Squeeze"
   ]
  },
  {
   "cell_type": "code",
   "execution_count": null,
   "metadata": {
    "ExecuteTime": {
     "end_time": "2018-07-27T13:30:03.301366Z",
     "start_time": "2018-07-27T13:30:03.290592Z"
    }
   },
   "outputs": [],
   "source": [
    "t = torch.ones(2,1,2,1)\n",
    "print(t.size(),'\\n', t)"
   ]
  },
  {
   "cell_type": "code",
   "execution_count": null,
   "metadata": {
    "ExecuteTime": {
     "end_time": "2018-07-27T13:30:03.313860Z",
     "start_time": "2018-07-27T13:30:03.305762Z"
    }
   },
   "outputs": [],
   "source": [
    "r = torch.squeeze(t)\n",
    "print(r.size(), '\\n', r)"
   ]
  },
  {
   "cell_type": "code",
   "execution_count": null,
   "metadata": {
    "ExecuteTime": {
     "end_time": "2018-07-27T13:30:03.326271Z",
     "start_time": "2018-07-27T13:30:03.317451Z"
    }
   },
   "outputs": [],
   "source": [
    "r = torch.squeeze(t, 1)\n",
    "print(r.size(), '\\n', r)"
   ]
  },
  {
   "cell_type": "markdown",
   "metadata": {},
   "source": [
    "##### Un-squeeze"
   ]
  },
  {
   "cell_type": "code",
   "execution_count": null,
   "metadata": {
    "ExecuteTime": {
     "end_time": "2018-07-27T13:30:03.337140Z",
     "start_time": "2018-07-27T13:30:03.329598Z"
    }
   },
   "outputs": [],
   "source": [
    "x = torch.Tensor([1, 2, 3])\n",
    "print(x.size())"
   ]
  },
  {
   "cell_type": "code",
   "execution_count": null,
   "metadata": {
    "ExecuteTime": {
     "end_time": "2018-07-27T13:30:03.347258Z",
     "start_time": "2018-07-27T13:30:03.340753Z"
    }
   },
   "outputs": [],
   "source": [
    "r = torch.unsqueeze(x, 0)\n",
    "print(r.size())"
   ]
  },
  {
   "cell_type": "code",
   "execution_count": null,
   "metadata": {
    "ExecuteTime": {
     "end_time": "2018-07-27T13:30:03.358803Z",
     "start_time": "2018-07-27T13:30:03.351831Z"
    }
   },
   "outputs": [],
   "source": [
    "r = torch.unsqueeze(x, 1)\n",
    "print(r.size())"
   ]
  },
  {
   "cell_type": "markdown",
   "metadata": {},
   "source": [
    "### Loading data from numpy "
   ]
  },
  {
   "cell_type": "code",
   "execution_count": null,
   "metadata": {
    "ExecuteTime": {
     "end_time": "2018-07-27T13:30:03.370145Z",
     "start_time": "2018-07-27T13:30:03.363009Z"
    }
   },
   "outputs": [],
   "source": [
    "\n",
    "# Create a numpy array.\n",
    "x = np.array([[4, 6], [7, 8]])\n",
    "\n",
    "# Convert the numpy array to a torch tensor.\n",
    "y = torch.from_numpy(x)\n",
    "\n",
    "# Convert the torch tensor to a numpy array.\n",
    "z = y.numpy()\n"
   ]
  },
  {
   "cell_type": "code",
   "execution_count": null,
   "metadata": {
    "ExecuteTime": {
     "end_time": "2018-07-27T13:30:03.383703Z",
     "start_time": "2018-07-27T13:30:03.374050Z"
    }
   },
   "outputs": [],
   "source": [
    "x, y, z"
   ]
  },
  {
   "cell_type": "markdown",
   "metadata": {},
   "source": [
    "### Autograd example 1"
   ]
  },
  {
   "cell_type": "markdown",
   "metadata": {},
   "source": [
    "* generate tensors, requires_grad = True resembles that the auto differentiation is on"
   ]
  },
  {
   "cell_type": "code",
   "execution_count": null,
   "metadata": {
    "ExecuteTime": {
     "end_time": "2018-07-27T13:30:03.394031Z",
     "start_time": "2018-07-27T13:30:03.387924Z"
    }
   },
   "outputs": [],
   "source": [
    "# Create tensors.\n",
    "x = torch.tensor(1, requires_grad=True)\n",
    "w = torch.tensor(2, requires_grad=True)\n",
    "b = torch.tensor(3, requires_grad=True)"
   ]
  },
  {
   "cell_type": "code",
   "execution_count": null,
   "metadata": {
    "ExecuteTime": {
     "end_time": "2018-07-27T13:30:03.409510Z",
     "start_time": "2018-07-27T13:30:03.398807Z"
    }
   },
   "outputs": [],
   "source": [
    "# Build a computational graph.\n",
    "y = w * x + b    # y = 2 * x + 3\n",
    "\n",
    "# Compute gradients.\n",
    "y.backward()\n",
    "\n",
    "# Print out the gradients.\n",
    "print(x.grad)    # x.grad = 2 \n",
    "print(w.grad)    # w.grad = 1 \n",
    "print(b.grad)    # b.grad = 1 \n"
   ]
  },
  {
   "cell_type": "code",
   "execution_count": null,
   "metadata": {
    "ExecuteTime": {
     "end_time": "2018-07-27T13:30:03.420165Z",
     "start_time": "2018-07-27T13:30:03.413548Z"
    }
   },
   "outputs": [],
   "source": [
    "# Create tensors.\n",
    "u = torch.tensor(1, requires_grad=True)\n",
    "v = torch.tensor(2, requires_grad=True)\n",
    "t = torch.tensor(3, requires_grad=True)"
   ]
  },
  {
   "cell_type": "code",
   "execution_count": null,
   "metadata": {
    "ExecuteTime": {
     "end_time": "2018-07-27T13:30:03.430806Z",
     "start_time": "2018-07-27T13:30:03.424540Z"
    }
   },
   "outputs": [],
   "source": [
    "z = u * v*v + t    # y = 1 * v^2 + 3"
   ]
  },
  {
   "cell_type": "markdown",
   "metadata": {},
   "source": [
    "#### Find the gradients to the above equation w.r.t u, v, t"
   ]
  },
  {
   "cell_type": "code",
   "execution_count": null,
   "metadata": {
    "ExecuteTime": {
     "end_time": "2018-07-27T13:30:03.439948Z",
     "start_time": "2018-07-27T13:30:03.434635Z"
    }
   },
   "outputs": [],
   "source": [
    "###Your code here"
   ]
  },
  {
   "cell_type": "markdown",
   "metadata": {},
   "source": [
    "### Activation Functions"
   ]
  },
  {
   "cell_type": "code",
   "execution_count": null,
   "metadata": {
    "ExecuteTime": {
     "end_time": "2018-07-27T13:30:03.451075Z",
     "start_time": "2018-07-27T13:30:03.444336Z"
    }
   },
   "outputs": [],
   "source": [
    "X = torch.tensor(0, dtype=torch.float)\n",
    "Y = torch.tensor(2, dtype=torch.float)\n",
    "Z = torch.tensor(-1, dtype=torch.float)\n",
    "W = torch.tensor(-2, dtype=torch.float)"
   ]
  },
  {
   "cell_type": "markdown",
   "metadata": {},
   "source": [
    "#### Sigmoid"
   ]
  },
  {
   "cell_type": "code",
   "execution_count": null,
   "metadata": {
    "ExecuteTime": {
     "end_time": "2018-07-27T13:30:03.466405Z",
     "start_time": "2018-07-27T13:30:03.455659Z"
    }
   },
   "outputs": [],
   "source": [
    "sx = F.sigmoid(X)\n",
    "sy = F.sigmoid(Y)\n",
    "sz = F.sigmoid(Z)\n",
    "sw = F.sigmoid(W)\n",
    "print(sx, sy, sz, sw)"
   ]
  },
  {
   "cell_type": "markdown",
   "metadata": {},
   "source": [
    "#### Tanh"
   ]
  },
  {
   "cell_type": "code",
   "execution_count": null,
   "metadata": {
    "ExecuteTime": {
     "end_time": "2018-07-27T13:30:03.482601Z",
     "start_time": "2018-07-27T13:30:03.470050Z"
    }
   },
   "outputs": [],
   "source": [
    "tx = F.tanh(X)\n",
    "ty = F.tanh(Y)\n",
    "tz = F.tanh(Z)\n",
    "tw = F.tanh(W)\n",
    "print(tx, ty, tz, tw)"
   ]
  },
  {
   "cell_type": "markdown",
   "metadata": {},
   "source": [
    "#### Relu"
   ]
  },
  {
   "cell_type": "code",
   "execution_count": null,
   "metadata": {
    "ExecuteTime": {
     "end_time": "2018-07-27T13:30:03.497946Z",
     "start_time": "2018-07-27T13:30:03.486556Z"
    }
   },
   "outputs": [],
   "source": [
    "rx = F.relu(X)\n",
    "ry = F.relu(Y)\n",
    "rz = F.relu(Z)\n",
    "rw = F.relu(W)\n",
    "print(rx, ry, rz, rw)"
   ]
  },
  {
   "cell_type": "markdown",
   "metadata": {},
   "source": [
    "#### Leaky Relu"
   ]
  },
  {
   "cell_type": "code",
   "execution_count": null,
   "metadata": {
    "ExecuteTime": {
     "end_time": "2018-07-27T13:30:03.512444Z",
     "start_time": "2018-07-27T13:30:03.501243Z"
    }
   },
   "outputs": [],
   "source": [
    "lrx = F.leaky_relu(X)\n",
    "lry = F.leaky_relu(Y)\n",
    "lrz = F.leaky_relu(Z)\n",
    "lrw = F.leaky_relu(W)\n",
    "print(lrx, lry, lrz, lrw)"
   ]
  },
  {
   "cell_type": "markdown",
   "metadata": {},
   "source": [
    "### NN module"
   ]
  },
  {
   "cell_type": "markdown",
   "metadata": {},
   "source": [
    "Base class for all neural network modules.\n",
    "\n",
    "Your models should also subclass this class.\n",
    "\n",
    "Modules can also contain other Modules, allowing to nest them in a tree structure. You can assign the submodules as regular attributes:"
   ]
  },
  {
   "cell_type": "code",
   "execution_count": null,
   "metadata": {
    "ExecuteTime": {
     "end_time": "2018-07-27T13:30:03.522904Z",
     "start_time": "2018-07-27T13:30:03.515574Z"
    }
   },
   "outputs": [],
   "source": [
    "class Model(nn.Module):\n",
    "    def __init__(self):\n",
    "        super(Model, self).__init__() #calls the constructor of the nn.Module\n",
    "        self.l1 = nn.Linear(3, 2)\n",
    "\n",
    "    def forward(self, x):\n",
    "        out = F.relu(self.l1(x))\n",
    "        return out"
   ]
  },
  {
   "cell_type": "markdown",
   "metadata": {},
   "source": [
    "Object of the created model"
   ]
  },
  {
   "cell_type": "code",
   "execution_count": null,
   "metadata": {
    "ExecuteTime": {
     "end_time": "2018-07-27T13:30:03.531870Z",
     "start_time": "2018-07-27T13:30:03.526263Z"
    }
   },
   "outputs": [],
   "source": [
    "model = Model()"
   ]
  },
  {
   "cell_type": "markdown",
   "metadata": {},
   "source": [
    "Forward pass"
   ]
  },
  {
   "cell_type": "code",
   "execution_count": null,
   "metadata": {
    "ExecuteTime": {
     "end_time": "2018-07-27T13:30:03.544021Z",
     "start_time": "2018-07-27T13:30:03.535690Z"
    }
   },
   "outputs": [],
   "source": [
    "x = torch.randn(2, 3)\n",
    "y = model(x)\n",
    "print(y)"
   ]
  },
  {
   "cell_type": "markdown",
   "metadata": {},
   "source": [
    "### Loss functions"
   ]
  },
  {
   "cell_type": "markdown",
   "metadata": {},
   "source": [
    "#### L1Loss"
   ]
  },
  {
   "cell_type": "code",
   "execution_count": null,
   "metadata": {
    "ExecuteTime": {
     "end_time": "2018-07-27T13:30:03.562008Z",
     "start_time": "2018-07-27T13:30:03.547681Z"
    }
   },
   "outputs": [],
   "source": [
    "criterion = nn.L1Loss()\n",
    "input = torch.randn(1, requires_grad=True)\n",
    "target = torch.randn(1)\n",
    "loss = criterion(input, target)\n",
    "loss.backward()\n",
    "print(input, target, loss)"
   ]
  },
  {
   "cell_type": "markdown",
   "metadata": {},
   "source": [
    "#### MSELoss"
   ]
  },
  {
   "cell_type": "code",
   "execution_count": null,
   "metadata": {
    "ExecuteTime": {
     "end_time": "2018-07-27T13:30:03.577103Z",
     "start_time": "2018-07-27T13:30:03.566357Z"
    }
   },
   "outputs": [],
   "source": [
    "criterion = nn.MSELoss()\n",
    "input = torch.randn(1, requires_grad=True)\n",
    "target = torch.randn(1)\n",
    "loss = criterion(input, target)\n",
    "loss.backward()\n",
    "print(input, target, loss)"
   ]
  },
  {
   "cell_type": "markdown",
   "metadata": {},
   "source": [
    "#### CrossEntropyLoss"
   ]
  },
  {
   "cell_type": "code",
   "execution_count": null,
   "metadata": {
    "ExecuteTime": {
     "end_time": "2018-07-27T13:30:03.596608Z",
     "start_time": "2018-07-27T13:30:03.581509Z"
    }
   },
   "outputs": [],
   "source": [
    "criterion = nn.CrossEntropyLoss()\n",
    "input = torch.randn(1, 2, requires_grad=True)\n",
    "target = torch.empty(1, dtype=torch.long).random_(2)\n",
    "loss = criterion(input, target)\n",
    "loss.backward()\n",
    "print(input, target, loss)"
   ]
  },
  {
   "cell_type": "markdown",
   "metadata": {},
   "source": [
    "### Optimizers"
   ]
  },
  {
   "cell_type": "markdown",
   "metadata": {},
   "source": [
    "#### SGD optimizer"
   ]
  },
  {
   "cell_type": "code",
   "execution_count": null,
   "metadata": {
    "ExecuteTime": {
     "end_time": "2018-07-27T13:30:03.609442Z",
     "start_time": "2018-07-27T13:30:03.600697Z"
    }
   },
   "outputs": [],
   "source": [
    "class Model(nn.Module):\n",
    "    def __init__(self):\n",
    "        super(Model, self).__init__() #calls the constructor of the nn.Module\n",
    "        self.l1 = nn.Linear(3, 2)\n",
    "\n",
    "    def forward(self, x):\n",
    "        out = F.relu(self.l1(x))\n",
    "        return out\n",
    "\n",
    "model = Model()"
   ]
  },
  {
   "cell_type": "code",
   "execution_count": null,
   "metadata": {
    "ExecuteTime": {
     "end_time": "2018-07-27T13:30:03.619315Z",
     "start_time": "2018-07-27T13:30:03.613715Z"
    }
   },
   "outputs": [],
   "source": [
    "#Create tensors of shape (10, 3) and (10, 2).\n",
    "x = torch.randn(10, 3, requires_grad=True)\n",
    "y = torch.randn(10, 2)"
   ]
  },
  {
   "cell_type": "markdown",
   "metadata": {},
   "source": [
    "#### Define a loss function"
   ]
  },
  {
   "cell_type": "code",
   "execution_count": null,
   "metadata": {
    "ExecuteTime": {
     "end_time": "2018-07-27T13:30:03.628421Z",
     "start_time": "2018-07-27T13:30:03.622998Z"
    }
   },
   "outputs": [],
   "source": [
    "criterion = nn.MSELoss()"
   ]
  },
  {
   "cell_type": "markdown",
   "metadata": {},
   "source": [
    "#### Define a optimizer function"
   ]
  },
  {
   "cell_type": "code",
   "execution_count": null,
   "metadata": {
    "ExecuteTime": {
     "end_time": "2018-07-27T13:30:03.637818Z",
     "start_time": "2018-07-27T13:30:03.632066Z"
    }
   },
   "outputs": [],
   "source": [
    "optimizer = torch.optim.SGD(model.parameters(), lr=0.01)"
   ]
  },
  {
   "cell_type": "code",
   "execution_count": null,
   "metadata": {
    "ExecuteTime": {
     "end_time": "2018-07-27T13:30:03.650048Z",
     "start_time": "2018-07-27T13:30:03.641486Z"
    }
   },
   "outputs": [],
   "source": [
    "pred = model(x)\n",
    "loss = criterion(pred, y)\n",
    "print(loss.item())"
   ]
  },
  {
   "cell_type": "code",
   "execution_count": null,
   "metadata": {
    "ExecuteTime": {
     "end_time": "2018-07-27T13:30:03.659875Z",
     "start_time": "2018-07-27T13:30:03.653411Z"
    }
   },
   "outputs": [],
   "source": [
    "loss.backward()\n",
    "optimizer.step()"
   ]
  },
  {
   "cell_type": "code",
   "execution_count": null,
   "metadata": {
    "ExecuteTime": {
     "end_time": "2018-07-27T13:30:03.673135Z",
     "start_time": "2018-07-27T13:30:03.664372Z"
    }
   },
   "outputs": [],
   "source": [
    "pred = model(x)\n",
    "loss = criterion(pred, y)\n",
    "print(loss.item())"
   ]
  },
  {
   "cell_type": "markdown",
   "metadata": {},
   "source": [
    "### Autograd example 2    "
   ]
  },
  {
   "cell_type": "code",
   "execution_count": null,
   "metadata": {
    "ExecuteTime": {
     "end_time": "2018-07-27T13:30:03.683593Z",
     "start_time": "2018-07-27T13:30:03.677616Z"
    }
   },
   "outputs": [],
   "source": [
    "# Create tensors of shape (10, 3) and (10, 2).\n",
    "x = torch.randn(10, 3)\n",
    "y = torch.randn(10, 2)"
   ]
  },
  {
   "cell_type": "code",
   "execution_count": null,
   "metadata": {
    "ExecuteTime": {
     "end_time": "2018-07-27T13:30:03.699158Z",
     "start_time": "2018-07-27T13:30:03.688718Z"
    }
   },
   "outputs": [],
   "source": [
    "# Build a fully connected layer.\n",
    "linear = nn.Linear(3, 2)\n",
    "print ('w: ', linear.weight)\n",
    "print ('b: ', linear.bias)"
   ]
  },
  {
   "cell_type": "code",
   "execution_count": null,
   "metadata": {
    "ExecuteTime": {
     "end_time": "2018-07-27T13:30:03.709078Z",
     "start_time": "2018-07-27T13:30:03.702299Z"
    }
   },
   "outputs": [],
   "source": [
    "# Build loss function and optimizer.\n",
    "criterion = nn.MSELoss()\n",
    "optimizer = torch.optim.SGD(linear.parameters(), lr=0.01)"
   ]
  },
  {
   "cell_type": "code",
   "execution_count": null,
   "metadata": {
    "ExecuteTime": {
     "end_time": "2018-07-27T13:30:03.718290Z",
     "start_time": "2018-07-27T13:30:03.713465Z"
    }
   },
   "outputs": [],
   "source": [
    "# Forward pass.\n",
    "pred = linear(x)"
   ]
  },
  {
   "cell_type": "code",
   "execution_count": null,
   "metadata": {
    "ExecuteTime": {
     "end_time": "2018-07-27T13:30:03.732075Z",
     "start_time": "2018-07-27T13:30:03.724152Z"
    }
   },
   "outputs": [],
   "source": [
    "# Compute loss.\n",
    "loss = criterion(pred, y)\n",
    "print('loss: ', loss.item())"
   ]
  },
  {
   "cell_type": "code",
   "execution_count": null,
   "metadata": {
    "ExecuteTime": {
     "end_time": "2018-07-27T13:30:03.746757Z",
     "start_time": "2018-07-27T13:30:03.736586Z"
    }
   },
   "outputs": [],
   "source": [
    "# Backward pass.\n",
    "loss.backward()\n",
    "\n",
    "# Print out the gradients.\n",
    "print ('dL/dw: ', linear.weight.grad) \n",
    "print ('dL/db: ', linear.bias.grad)\n"
   ]
  },
  {
   "cell_type": "code",
   "execution_count": null,
   "metadata": {
    "ExecuteTime": {
     "end_time": "2018-07-27T13:30:03.756710Z",
     "start_time": "2018-07-27T13:30:03.750753Z"
    }
   },
   "outputs": [],
   "source": [
    "# 1-step gradient descent.\n",
    "optimizer.step()"
   ]
  },
  {
   "cell_type": "markdown",
   "metadata": {},
   "source": [
    "* You can also perform gradient descent at the low level.\n",
    "* linear.weight.data.sub_(0.01 * linear.weight.grad.data)\n",
    "* linear.bias.data.sub_(0.01 * linear.bias.grad.data)"
   ]
  },
  {
   "cell_type": "code",
   "execution_count": null,
   "metadata": {
    "ExecuteTime": {
     "end_time": "2018-07-27T13:30:03.769715Z",
     "start_time": "2018-07-27T13:30:03.762007Z"
    }
   },
   "outputs": [],
   "source": [
    "pred = linear(x)\n",
    "loss = criterion(pred, y)\n",
    "print('loss after 1 step optimization: ', loss.item())"
   ]
  }
 ],
 "metadata": {
  "kernelspec": {
   "display_name": "Python 3",
   "language": "python",
   "name": "python3"
  },
  "language_info": {
   "codemirror_mode": {
    "name": "ipython",
    "version": 3
   },
   "file_extension": ".py",
   "mimetype": "text/x-python",
   "name": "python",
   "nbconvert_exporter": "python",
   "pygments_lexer": "ipython3",
   "version": "3.6.5"
  },
  "nbTranslate": {
   "displayLangs": [
    "*"
   ],
   "hotkey": "alt-t",
   "langInMainMenu": true,
   "sourceLang": "en",
   "targetLang": "fr",
   "useGoogleTranslate": true
  }
 },
 "nbformat": 4,
 "nbformat_minor": 2
}
