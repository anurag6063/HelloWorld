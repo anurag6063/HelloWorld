{
 "cells": [
  {
   "cell_type": "markdown",
   "metadata": {
    "colab_type": "text",
    "id": "-L1cC063W62M"
   },
   "source": [
    "# Foundations of Artificial Intelligence and Machine Learning\n",
    "## A Program by IIIT-H and TalentSprint\n",
    "#### To be done in the Lab"
   ]
  },
  {
   "cell_type": "markdown",
   "metadata": {
    "colab_type": "text",
    "id": "tPDeQ3fiW62S"
   },
   "source": [
    "The objective of this experiment is to understand RNN."
   ]
  },
  {
   "cell_type": "markdown",
   "metadata": {
    "colab_type": "text",
    "id": "fBk0fsCsW62W"
   },
   "source": [
    "In this experiment we will use RNN to classify text one character at a time. We will be using shakespeare.txt as our input file to the classifier."
   ]
  },
  {
   "cell_type": "markdown",
   "metadata": {
    "colab_type": "text",
    "id": "ZpLR442fW62a"
   },
   "source": [
    "The idea behind RNNs is to make use of sequential information. In a traditional neural network we assume that all inputs (and outputs) are independent of each other. But for many tasks that’s a very bad idea. If you want to predict the next word in a sentence you better know which words came before it. RNNs are called recurrent because they perform the same task for every element of a sequence, with the output being depended on the previous computations."
   ]
  },
  {
   "cell_type": "markdown",
   "metadata": {
    "colab_type": "text",
    "id": "B4Ix-M7wW62e"
   },
   "source": [
    "##### Keywords\n",
    "\n",
    "* RNN\n",
    "* Gated recurrent unit\n",
    "* Crossentropy\n",
    "* Adam"
   ]
  },
  {
   "cell_type": "markdown",
   "metadata": {
    "colab_type": "text",
    "id": "OsmAi4VLW62j"
   },
   "source": [
    "##### Expected time to complete the experiment is : 90 min"
   ]
  },
  {
   "cell_type": "markdown",
   "metadata": {
    "colab_type": "text",
    "id": "t8TI7RoEW62l"
   },
   "source": [
    "## 1. Preparing the data"
   ]
  },
  {
   "cell_type": "markdown",
   "metadata": {
    "colab_type": "text",
    "id": "t9w9n9FDW62o"
   },
   "source": [
    "The file we are using is a plain text file. We turn any potential unicode characters into plain ASCII by using the unidecode package.\n",
    "\n",
    "To install the package run the following command\n"
   ]
  },
  {
   "cell_type": "markdown",
   "metadata": {
    "colab_type": "text",
    "id": "BQNrSHGRW62p"
   },
   "source": [
    "** !pip3 install unidecode **"
   ]
  },
  {
   "cell_type": "code",
   "execution_count": 0,
   "metadata": {
    "colab": {},
    "colab_type": "code",
    "id": "Q5yiVunUW62u"
   },
   "outputs": [],
   "source": [
    "## Importing required packages\n",
    "import unidecode\n",
    "import string\n",
    "import random\n",
    "import re"
   ]
  },
  {
   "cell_type": "code",
   "execution_count": 0,
   "metadata": {
    "colab": {},
    "colab_type": "code",
    "id": "A4HwaQDjW624",
    "outputId": "09bfbe52-8879-4d95-8cfe-924b8a1a33f4"
   },
   "outputs": [
    {
     "name": "stdout",
     "output_type": "stream",
     "text": [
      "file_len = 1115393\n"
     ]
    }
   ],
   "source": [
    "all_characters = string.printable\n",
    "## code to find length of all_characters and storing the value in n_characters\n",
    "n_characters = len(all_characters)\n",
    "## code to convert unicode characters into plain ASCII.\n",
    "file = unidecode.unidecode(open('shakespeare.txt').read())\n",
    "## code to find length of the file\n",
    "file_len = len(file)\n",
    "## printing the length of the file\n",
    "print('file_len =', file_len)"
   ]
  },
  {
   "cell_type": "code",
   "execution_count": 0,
   "metadata": {
    "colab": {},
    "colab_type": "code",
    "id": "VbStl8sBW63O",
    "outputId": "a85f9da1-e346-4906-832f-2ee475808a68"
   },
   "outputs": [
    {
     "data": {
      "text/plain": [
       "\"First Citizen:\\nBefore we proceed any further, hear me speak.\\n\\nAll:\\nSpeak, speak.\\n\\nFirst Citizen:\\nYou are all resolved rather to die than to famish?\\n\\nAll:\\nResolved. resolved.\\n\\nFirst Citizen:\\nFirst, you know Caius Marcius is chief enemy to the people.\\n\\nAll:\\nWe know't, we know't.\\n\\nFirst Citizen:\\nLet us kill him, and we'll have corn at our own price.\\nIs't a verdict?\\n\\nAll:\\nNo more talking on't; let it be done: away, away!\\n\\nSecond Citizen:\\nOne word, good citizens.\\n\\nFirst Citizen:\\nWe are accounted poor citizens, the patricians good.\\nWhat authority surfeits on would relieve us: if they\\nwould yield us but the superfluity, while it were\\nwholesome, we might guess they relieved us humanely;\\nbut they think we are too dear: the leanness that\\nafflicts us, the object of our misery, is as an\\ninventory to particularise their abundance; our\\nsufferance is a gain to them Let us revenge this with\\nour pikes, ere we become rakes: for the gods know I\\nspeak this in hunger for bread, not in thirst for revenge.\\n\\n\""
      ]
     },
     "execution_count": 3,
     "metadata": {
      "tags": []
     },
     "output_type": "execute_result"
    }
   ],
   "source": [
    "file[:1000]"
   ]
  },
  {
   "cell_type": "markdown",
   "metadata": {
    "colab_type": "text",
    "id": "0KQtHae4W63U"
   },
   "source": [
    "As the string is large, we are going to split it into chunks to provide inputs to the RNN using function random_chunk()."
   ]
  },
  {
   "cell_type": "code",
   "execution_count": 0,
   "metadata": {
    "colab": {},
    "colab_type": "code",
    "id": "3x1sNa2QW63U",
    "outputId": "618864ba-9f1b-4653-9de6-999457bfbdeb"
   },
   "outputs": [
    {
     "name": "stdout",
     "output_type": "stream",
     "text": [
      "at I have to say.\n",
      "First, he commends him to your noble lordship.\n",
      "\n",
      "HASTINGS:\n",
      "And then?\n",
      "\n",
      "Messenger:\n",
      "And then he sends you word\n",
      "He dreamt to-night the boar had razed his helm:\n",
      "Besides, he says there are t\n"
     ]
    }
   ],
   "source": [
    "## Initializing the length of chunk\n",
    "chunk_len = 200\n",
    "## Function to split the string into chunks\n",
    "def random_chunk():\n",
    "    ## Initializing the starting index value of the big string \n",
    "    start_index = random.randint(0, file_len - chunk_len)\n",
    "    ## Initializing the ending index of the string \n",
    "    end_index = start_index + chunk_len + 1\n",
    "    ## returning the chunk\n",
    "    return file[start_index:end_index]\n",
    "\n",
    "print(random_chunk())"
   ]
  },
  {
   "cell_type": "markdown",
   "metadata": {
    "colab_type": "text",
    "id": "f1saQwEXW63Y"
   },
   "source": [
    "##  2. Building the model"
   ]
  },
  {
   "cell_type": "markdown",
   "metadata": {
    "colab_type": "text",
    "id": "TuX4sK_2W63Z"
   },
   "source": [
    "This model will take as input the character for step $t_{-1}$, and is expected to output the next character $t$. There are three layers - one linear layer that encodes the input character into an internal state, one GRU layer (which may itself have multiple layers) that operates on that internal state and a hidden state, and a decoder layer that outputs the probability distribution."
   ]
  },
  {
   "cell_type": "code",
   "execution_count": 0,
   "metadata": {
    "colab": {},
    "colab_type": "code",
    "id": "DqmfHCLPW63b"
   },
   "outputs": [],
   "source": [
    "###importing required packages\n",
    "import torch\n",
    "import torch.nn as nn\n",
    "from torch.autograd import Variable\n",
    "\n",
    "### Creating recurrent neural network\n",
    "class RNN(nn.Module):\n",
    "    \n",
    "    def __init__(self, input_size, hidden_size, output_size, n_layers=1):\n",
    "        super(RNN, self).__init__()\n",
    "        self.input_size = input_size\n",
    "        self.hidden_size = hidden_size\n",
    "        self.output_size = output_size\n",
    "        self.n_layers = n_layers\n",
    "        self.encoder = nn.Embedding(input_size, hidden_size)\n",
    "        self.gru = nn.GRU(hidden_size, hidden_size, n_layers)\n",
    "        self.decoder = nn.Linear(hidden_size, output_size)\n",
    "    \n",
    "    def forward(self, input, hidden):\n",
    "        input = self.encoder(input.view(1, -1))\n",
    "        output, hidden = self.gru(input.view(1, 1, -1), hidden)\n",
    "        output = self.decoder(output.view(1, -1))\n",
    "        return output, hidden\n",
    "\n",
    "    def init_hidden(self):\n",
    "        return Variable(torch.zeros(self.n_layers, 1, self.hidden_size))"
   ]
  },
  {
   "cell_type": "markdown",
   "metadata": {
    "colab_type": "text",
    "id": "_TmoVAcZW63e"
   },
   "source": [
    "## 3. Defining the helper functions"
   ]
  },
  {
   "cell_type": "markdown",
   "metadata": {
    "colab_type": "text",
    "id": "Z7h3b-IIW63e"
   },
   "source": [
    "#### Inputs and targets"
   ]
  },
  {
   "cell_type": "markdown",
   "metadata": {
    "colab_type": "text",
    "id": "JmdYh0B8W63g"
   },
   "source": [
    "Each chunk will be turned into a tensor, specifically a LongTensor (used for integer values), by looping through the characters of the string and looking up the index of each character in all_characters."
   ]
  },
  {
   "cell_type": "code",
   "execution_count": 0,
   "metadata": {
    "colab": {},
    "colab_type": "code",
    "id": "KPdugjt8W63h",
    "outputId": "b1a6dafd-6def-4494-8330-05aea09edf59"
   },
   "outputs": [
    {
     "name": "stdout",
     "output_type": "stream",
     "text": [
      "tensor([ 10,  11,  12,  39,  40,  41])\n"
     ]
    }
   ],
   "source": [
    "# Turn string into list of longs\n",
    "def char_tensor(string):\n",
    "    ## tensor is a array\n",
    "    tensor = torch.zeros(len(string)).long()\n",
    "    for c in range(len(string)):\n",
    "        tensor[c] = all_characters.index(string[c])\n",
    "    return Variable(tensor)\n",
    "\n",
    "print(char_tensor('abcDEF'))"
   ]
  },
  {
   "cell_type": "markdown",
   "metadata": {
    "colab_type": "text",
    "id": "8te0E2naW63n"
   },
   "source": [
    "Finally we can assemble a pair of input and target tensors for training, from a random chunk. The input will be all characters up to the last, and the target will be all characters from the first. So if our chunk is \"abc\" the input will correspond to \"ab\" while the target is \"bc\"."
   ]
  },
  {
   "cell_type": "code",
   "execution_count": 0,
   "metadata": {
    "colab": {},
    "colab_type": "code",
    "id": "r9LITWrxW63o"
   },
   "outputs": [],
   "source": [
    "def random_training_set():    \n",
    "    chunk = random_chunk()\n",
    "    inp = char_tensor(chunk[:-1])\n",
    "    target = char_tensor(chunk[1:])\n",
    "    return inp, target"
   ]
  },
  {
   "cell_type": "markdown",
   "metadata": {
    "colab_type": "text",
    "id": "jbQpwAdBW63s"
   },
   "source": [
    "#### Evaluating"
   ]
  },
  {
   "cell_type": "markdown",
   "metadata": {
    "colab_type": "text",
    "id": "lKf683cRW63s"
   },
   "source": [
    "To evaluate the network we will feed one character at a time, use the outputs of the network as a probability distribution for the next character, and repeat. To start generation we pass a priming string to start building up the hidden state, from which we then generate one character at a time.\n",
    "\n"
   ]
  },
  {
   "cell_type": "code",
   "execution_count": 0,
   "metadata": {
    "colab": {},
    "colab_type": "code",
    "id": "bVn0gE9qW63v"
   },
   "outputs": [],
   "source": [
    "def evaluate(prime_str='A', predict_len=100, temperature=0.8):\n",
    "    hidden = decoder.init_hidden()\n",
    "    prime_input = char_tensor(prime_str)\n",
    "    predicted = prime_str\n",
    "\n",
    "    # Use priming string to \"build up\" hidden state\n",
    "    for p in range(len(prime_str) - 1):\n",
    "        _, hidden = decoder(prime_input[p], hidden)\n",
    "    inp = prime_input[-1]\n",
    "    \n",
    "    for p in range(predict_len):\n",
    "        output, hidden = decoder(inp, hidden)\n",
    "        \n",
    "        # Sample from the network as a multinomial distribution\n",
    "        output_dist = output.data.view(-1).div(temperature).exp()\n",
    "        top_i = torch.multinomial(output_dist, 1)[0]\n",
    "        \n",
    "        # Add predicted character to string and use as next input\n",
    "        predicted_char = all_characters[top_i]\n",
    "        predicted += predicted_char\n",
    "        inp = char_tensor(predicted_char)\n",
    "\n",
    "    return predicted"
   ]
  },
  {
   "cell_type": "markdown",
   "metadata": {
    "colab_type": "text",
    "id": "Ft8uaSobW63y"
   },
   "source": [
    "## 4. Training the model"
   ]
  },
  {
   "cell_type": "markdown",
   "metadata": {
    "colab_type": "text",
    "id": "xCf1XmHTW630"
   },
   "source": [
    "To keep track of how long training takes, we have added a time_since(timestamp) function which returns a human readable string"
   ]
  },
  {
   "cell_type": "code",
   "execution_count": 0,
   "metadata": {
    "colab": {},
    "colab_type": "code",
    "id": "XHS6aNvCW633"
   },
   "outputs": [],
   "source": [
    "## Importing required packages\n",
    "import time, math\n",
    "## function to print amount of time passed\n",
    "def time_since(since):\n",
    "    s = time.time() - since\n",
    "    m = math.floor(s / 60)\n",
    "    s -= m * 60\n",
    "    return '%dm %ds' % (m, s)"
   ]
  },
  {
   "cell_type": "markdown",
   "metadata": {
    "colab_type": "text",
    "id": "PciOmEEQW638"
   },
   "source": [
    "#### The main training function"
   ]
  },
  {
   "cell_type": "code",
   "execution_count": 0,
   "metadata": {
    "colab": {},
    "colab_type": "code",
    "id": "jumK0nlBW63_"
   },
   "outputs": [],
   "source": [
    "def train(inp, target):\n",
    "    hidden = decoder.init_hidden()\n",
    "    decoder.zero_grad()\n",
    "    loss = 0\n",
    "\n",
    "    for c in range(chunk_len):\n",
    "        output, hidden = decoder(inp[c], hidden)\n",
    "        loss += criterion(output, target[c].unsqueeze(dim=0))\n",
    "\n",
    "    loss.backward()\n",
    "    decoder_optimizer.step()\n",
    "\n",
    "    return loss.item() / chunk_len"
   ]
  },
  {
   "cell_type": "markdown",
   "metadata": {
    "colab_type": "text",
    "id": "GSXvBATxW64F"
   },
   "source": [
    "Then we define the training parameters, instantiate the model, and start training"
   ]
  },
  {
   "cell_type": "code",
   "execution_count": 0,
   "metadata": {
    "colab": {},
    "colab_type": "code",
    "id": "OZgOFa_PW64H",
    "outputId": "dd80192a-8b74-4140-df3c-4dc59fc7f7be"
   },
   "outputs": [
    {
     "name": "stdout",
     "output_type": "stream",
     "text": [
      "[1m 5s (50 2%) 2.5556]\n",
      "Whadiisr ras magind and than lis, ang crarlled feror bot fo hes,\n",
      ": hest alsy\n",
      "leE bgass ead thout hitir \n",
      "\n",
      "[2m 15s (100 5%) 2.3144]\n",
      "Wher to esh sher ant therd math and theancisse:\n",
      "And ar-deas my meliy maginou sthe row I castir haldes  \n",
      "\n",
      "[2m 50s (150 7%) 2.0839]\n",
      "Whice watc ta, o ard my jome, duch! o be an an my show ant sherath\n",
      "Whel jod the to rive thas Horst sut \n",
      "\n",
      "[3m 8s (200 10%) 2.2654]\n",
      "What.\n",
      "\n",
      "DUS:\n",
      "To Grovefr's dacefs, shat hawns por stins, dot there hant Gout bo the and the rent, sweren \n",
      "\n",
      "[3m 25s (250 12%) 1.8915]\n",
      "Whim sold the ouset cound, Mory the ours\n",
      "Wis hild of his reenige.\n",
      "\n",
      "COvLIAND:\n",
      "Lomont the your aunt' lil \n",
      "\n",
      "[3m 41s (300 15%) 2.2614]\n",
      "Whew ant my haster the the pame all, to bear lears, nome\n",
      "Sore and a the streave the he days,\n",
      "Thou be n \n",
      "\n",
      "[3m 57s (350 17%) 1.8821]\n",
      "What fa main the me and no shim pill of his nood, spance\n",
      "That eneain one the naime is in me oull the l \n",
      "\n",
      "[4m 10s (400 20%) 2.2260]\n",
      "When cropentery my shawer, becy frove resomenter.\n",
      "\n",
      "LERO:\n",
      "I whany bre, No!\n",
      "\n",
      "Ford I:\n",
      "And bowers my what  \n",
      "\n",
      "[4m 24s (450 22%) 2.0349]\n",
      "Whib,\n",
      "But and his his own witly\u000b",
      "re omer mege.\n",
      "With hat oo knompling the dice it suns'd;\n",
      "Wher not in wi \n",
      "\n",
      "[4m 39s (500 25%) 2.1803]\n",
      "Whe the made there nods;\n",
      "Krisay, our of the spright be do scarst your sir Rore sevenderve\n",
      "To to thou w \n",
      "\n",
      "[4m 53s (550 27%) 1.4511]\n",
      "Wher you of tas breanst know speer all and bret and in me Whane floture love treust thape loves.\n",
      "\n",
      "BUVI \n",
      "\n",
      "[5m 7s (600 30%) 2.2257]\n",
      "Why sir for I OF RIONCETH:\n",
      "Iw cure fall be love ount with your have stald mued be lady a dagrost, Whar \n",
      "\n",
      "[5m 18s (650 32%) 1.9638]\n",
      "Whicting payon, I his dave:\n",
      "What then eny mithing goman; ack fard.\n",
      "\n",
      "LANANTIO:\n",
      "Nour, be lord his kis fa \n",
      "\n",
      "[5m 29s (700 35%) 2.0296]\n",
      "Whe?\n",
      "As realed; have priccour greave now should in the live theo, a pread wanstruss.\n",
      "\n",
      "SETRUCHIO:\n",
      "Perve \n",
      "\n",
      "[5m 42s (750 37%) 1.9764]\n",
      "Whands Yoursade fated this use there to but thing.\n",
      "\n",
      "POMERD:\n",
      "If your nasere! I wa will forcan, and hall \n",
      "\n",
      "[5m 54s (800 40%) 1.9796]\n",
      "Whath hous,\n",
      "The you tadgut wout Warticaly, with onour it him by have that that would this arvest hours \n",
      "\n",
      "[6m 6s (850 42%) 2.1083]\n",
      "Why have shalds our buthenat Ander Shour in I Cares Canry Crign.\n",
      "So sir, and of tellanjaid of to there \n",
      "\n",
      "[6m 19s (900 45%) 1.7953]\n",
      "What\n",
      "Those are with the reventor\n",
      "Lence the che meal is subjed and sist,\n",
      "Bence stilorst thy the good o' \n",
      "\n",
      "[6m 31s (950 47%) 2.1278]\n",
      "Which out as thee in\n",
      "Which ficed the heirs:\n",
      "I kellow there and luchion I sadly and my dow-\n",
      "\n",
      "PORSY PERD \n",
      "\n",
      "[6m 44s (1000 50%) 1.9908]\n",
      "Wh Gercond prake,\n",
      "Or shy reser, of this it may, be puture of sorfore for be alfeer good it.\n",
      "\n",
      "PENRY EDW \n",
      "\n",
      "[6m 56s (1050 52%) 1.8592]\n",
      "Which.\n",
      "\n",
      "ISABELLLA:\n",
      "HARWINCE:\n",
      "Theac of bind my know hose hing roly will froy, at\n",
      "That hadling the for t \n",
      "\n",
      "[7m 12s (1100 55%) 1.9907]\n",
      "Whine!\n",
      "I do mese of the curer ix us a seester tome, there dayure dimites: greatt,\n",
      "And with the polled  \n",
      "\n",
      "[7m 27s (1150 57%) 1.9838]\n",
      "Why, the live there paim.\n",
      "No your dalt dised.\n",
      "\n",
      "SoTd:\n",
      "Where; I as me, is of in the worgen:\n",
      "Whoce fork'd \n",
      "\n",
      "[7m 41s (1200 60%) 1.9448]\n",
      "Wharses:\n",
      "An the don'd the conshistoned orther you with a goge was were weratre ay all be us,\n",
      "To troth  \n",
      "\n",
      "[7m 56s (1250 62%) 1.7029]\n",
      "Why the hath you\n",
      "part, the did am sears mis his what; One then know's cook:\n",
      "This well there raw with d \n",
      "\n",
      "[8m 10s (1300 65%) 1.7828]\n",
      "Whangly strigh's a flibs.\n",
      "\n",
      "HORTENSINz:\n",
      "Ager to in knom yet visstimes,\n",
      "Yoursef, youced weise a genthens \n",
      "\n",
      "[8m 26s (1350 67%) 1.9739]\n",
      "Wher,\n",
      "My wary, sword, lay took shall\n",
      "Are our other prood is all thy hargh, hertay,\n",
      "Sades lood virsesse \n",
      "\n",
      "[8m 40s (1400 70%) 1.8138]\n",
      "What, stromon be to.\n",
      "\n",
      "THORINGELO:\n",
      "I with your dobronthey thou will here pather's should main of the fo \n",
      "\n",
      "[8m 54s (1450 72%) 1.6491]\n",
      "Whresely;\n",
      "For face grocish face, a acer sayether bepiontion.\n",
      "\n",
      "MENENIUS:\n",
      "Not the let prided hown hasil  \n",
      "\n",
      "[9m 10s (1500 75%) 1.6554]\n",
      "Wh bors oun\n",
      "Where him your endest he all they lews of his witin the such fate look give of:\n",
      "As here po \n",
      "\n",
      "[9m 25s (1550 77%) 1.7379]\n",
      "Wherse?\n",
      "When the play to did to the sir entemes and welle.\n",
      "\n",
      "PETRUCHIO:\n",
      "Sight you heaving ert their wit \n",
      "\n",
      "[9m 40s (1600 80%) 1.6845]\n",
      "What Pall, willad, it let Jeath too mary of of more\n",
      "The be mand; and beinguly to Jancan unthy lard you \n",
      "\n",
      "[9m 56s (1650 82%) 2.1184]\n",
      "Wh bleen the disce's more part of GEsD I strand\n",
      "That not the mird Citizens son they be than my such bo \n",
      "\n",
      "[10m 7s (1700 85%) 1.8113]\n",
      "What you is mine I will pleace.\n",
      "\n",
      "KhOWh:\n",
      "Throw I will not a speak of he drive to ey will our grace.\n",
      "\n",
      "SO \n",
      "\n",
      "[10m 17s (1750 87%) 1.9646]\n",
      "Wh at thou not of Choling sir the cares\n",
      "Or no, pear the hand in his lid let trutice:\n",
      "\n",
      "Bissarcy:\n",
      "My my  \n",
      "\n",
      "[10m 26s (1800 90%) 1.7956]\n",
      "Wh and much\n",
      "cer is for the but laught,\n",
      "Whoe that to knowing one rains\n",
      "This watern'd fate thind-I keard \n",
      "\n",
      "[10m 36s (1850 92%) 1.9709]\n",
      "Whickn the no,\n",
      "And With he live your meant?\n",
      "And thou turps with do plean the such no't thone.\n",
      "\n",
      "WARWI G \n",
      "\n",
      "[10m 46s (1900 95%) 1.7504]\n",
      "Wh I shoman:\n",
      "How chall with she patous sor mie take or a pane to benemone your metell.\n",
      "hate deather be \n",
      "\n",
      "[10m 55s (1950 97%) 1.5835]\n",
      "Wh I sheard?\n",
      "\n",
      "DWARD II:\n",
      "Do do to all brough thou like\n",
      "That here be and my govion,\n",
      "And so shust the suc \n",
      "\n",
      "[11m 4s (2000 100%) 1.7682]\n",
      "Which agair lithed\n",
      "Thou myss fellow for deathinly,--will the noblains of here him pulls.\n",
      "\n",
      "TRORD IINIUS \n",
      "\n"
     ]
    }
   ],
   "source": [
    "n_epochs = 2000 #Number of epochs\n",
    "print_every = 50\n",
    "plot_every = 20\n",
    "hidden_size = 100\n",
    "n_layers = 1\n",
    "lr = 0.005\n",
    "\n",
    "decoder = RNN(n_characters, hidden_size, n_characters, n_layers)\n",
    "## Optimizer\n",
    "decoder_optimizer = torch.optim.Adam(decoder.parameters(), lr=lr)\n",
    "## Loss function\n",
    "criterion = nn.CrossEntropyLoss()\n",
    "\n",
    "start = time.time()\n",
    "all_losses = []\n",
    "loss_avg = 0\n",
    "\n",
    "#In this for loop for every 100th iteration we are printing the time taken, loss and the chunk.\n",
    "for epoch in range(1, n_epochs + 1):\n",
    "    loss = train(*random_training_set())       \n",
    "    loss_avg += loss\n",
    "\n",
    "    if epoch % print_every == 0:\n",
    "        print('[%s (%d %d%%) %.4f]' % (time_since(start), epoch, epoch / n_epochs * 100, loss))\n",
    "        print(evaluate('Wh', 100), '\\n')\n",
    "\n",
    "    if epoch % plot_every == 0:\n",
    "        all_losses.append(loss_avg / plot_every)\n",
    "        loss_avg = 0"
   ]
  },
  {
   "cell_type": "markdown",
   "metadata": {
    "colab_type": "text",
    "id": "s90GwxqiW64O"
   },
   "source": [
    "#### Plotting the Training Losses"
   ]
  },
  {
   "cell_type": "markdown",
   "metadata": {
    "colab_type": "text",
    "id": "lxvw3YdgW64P"
   },
   "source": [
    "Plotting the historical loss from all_losses shows the network learning"
   ]
  },
  {
   "cell_type": "code",
   "execution_count": 0,
   "metadata": {
    "colab": {},
    "colab_type": "code",
    "id": "_Ka8yCigW64Q",
    "outputId": "685711d0-12f3-4981-a2e1-2b526a87eeea"
   },
   "outputs": [
    {
     "data": {
      "text/plain": [
       "Text(0,0.5,'loss')"
      ]
     },
     "execution_count": 14,
     "metadata": {
      "tags": []
     },
     "output_type": "execute_result"
    },
    {
     "data": {
      "image/png": "[encoded data removed]",
      "text/plain": [
       "<Figure size 432x288 with 1 Axes>"
      ]
     },
     "metadata": {
      "tags": []
     },
     "output_type": "display_data"
    }
   ],
   "source": [
    "import matplotlib.pyplot as plt\n",
    "import matplotlib.ticker as ticker\n",
    "%matplotlib inline\n",
    "\n",
    "plt.figure()\n",
    "plt.plot(all_losses)\n",
    "plt.xlabel(\"epoch\")\n",
    "plt.ylabel(\"loss\")"
   ]
  },
  {
   "cell_type": "markdown",
   "metadata": {
    "colab_type": "text",
    "id": "JZZBYUA7W64V"
   },
   "source": [
    "#### Adapting or tuning for prose writing"
   ]
  },
  {
   "cell_type": "markdown",
   "metadata": {
    "colab_type": "text",
    "id": "TCXRUC5HW64W"
   },
   "source": [
    "In the evaluate function above, every time a prediction is made the outputs are divided by the \"temperature\" argument passed. Using a higher number makes all actions more equally likely, and thus gives us \"more random\" outputs. Using a lower value (less than 1) makes high probabilities contribute more. As we turn the temperature towards zero we are choosing only the most likely outputs.\n"
   ]
  },
  {
   "cell_type": "markdown",
   "metadata": {
    "colab_type": "text",
    "id": "OD1YAm_5W64X"
   },
   "source": [
    "We can see the effects of this by adjusting the temperature argument."
   ]
  },
  {
   "cell_type": "code",
   "execution_count": 0,
   "metadata": {
    "colab": {},
    "colab_type": "code",
    "id": "0gghst2DW64Y",
    "outputId": "9a1ccc8b-dcde-4b68-da78-f1ffe7d3858f"
   },
   "outputs": [
    {
     "name": "stdout",
     "output_type": "stream",
     "text": [
      "us seelf,\n",
      "To ming there fathe thear whis should gredly have the the him some, not a\n",
      "Le my mim god not mowers,\n",
      "Or Mark, her: and we a the mather would now the lold arwie to that of as a driagiin.\n",
      "\n",
      "GREMO\n"
     ]
    }
   ],
   "source": [
    "print(evaluate('u', 200, temperature=0.8))"
   ]
  },
  {
   "cell_type": "markdown",
   "metadata": {
    "colab_type": "text",
    "id": "SuI0Nc7TW64d"
   },
   "source": [
    "Lower temperatures are less varied, choosing only the more probable outputs:"
   ]
  },
  {
   "cell_type": "markdown",
   "metadata": {
    "colab_type": "text",
    "id": "lwun_VBKW64d"
   },
   "source": [
    "print(evaluate('Th', 200, temperature=0.2))"
   ]
  },
  {
   "cell_type": "markdown",
   "metadata": {
    "colab_type": "text",
    "id": "D8mLmKx7W64f"
   },
   "source": [
    "\n",
    "Higher temperatures more varied, choosing less probable outputs:"
   ]
  },
  {
   "cell_type": "code",
   "execution_count": 0,
   "metadata": {
    "colab": {},
    "colab_type": "code",
    "id": "QxGh9rLhW64f",
    "outputId": "f30dc1a0-aa0c-4153-af07-2a3bfdd1eddd"
   },
   "outputs": [
    {
     "name": "stdout",
     "output_type": "stream",
     "text": [
      "howel,\n",
      "Thas Luch now. whice with, elised may moss\n",
      "wellwas oknot. Nowe mir, ne hopltemed a\n",
      "curiiemow, bldo,?\n",
      "The'ccis?\n",
      "I' the Diks,-forwer, ham.\n",
      "ONTI He lards bblifer?\n",
      "\n",
      "Nevellid\n",
      "Of somon,\n",
      "Tky vrops to my \n"
     ]
    }
   ],
   "source": [
    "print(evaluate('how', 200, temperature=1.4))"
   ]
  },
  {
   "cell_type": "markdown",
   "metadata": {
    "colab_type": "text",
    "id": "cdWN83RrW64k"
   },
   "source": [
    "### Exercise 1:\n",
    "\n",
    "Change the number of epochs to 1000. Calculate the time taken and loss."
   ]
  },
  {
   "cell_type": "markdown",
   "metadata": {
    "colab_type": "text",
    "id": "f1VW0kR_W64l"
   },
   "source": [
    "### Exercise 2:\n",
    "\n",
    "Change the print every to 50 and plot every to 20. Calculate the time taken and loss and plot the loss graph"
   ]
  },
  {
   "cell_type": "code",
   "execution_count": 0,
   "metadata": {
    "colab": {},
    "colab_type": "code",
    "id": "FbF93WsoW64n"
   },
   "outputs": [],
   "source": []
  }
 ],
 "metadata": {
  "colab": {
   "name": "AIML_RNN_LAB_JN01_EX_E.ipynb",
   "provenance": [],
   "version": "0.3.2"
  },
  "kernelspec": {
   "display_name": "Python 3",
   "language": "python",
   "name": "python3"
  },
  "language_info": {
   "codemirror_mode": {
    "name": "ipython",
    "version": 3
   },
   "file_extension": ".py",
   "mimetype": "text/x-python",
   "name": "python",
   "nbconvert_exporter": "python",
   "pygments_lexer": "ipython3",
   "version": "3.6.5"
  }
 },
 "nbformat": 4,
 "nbformat_minor": 1
}
