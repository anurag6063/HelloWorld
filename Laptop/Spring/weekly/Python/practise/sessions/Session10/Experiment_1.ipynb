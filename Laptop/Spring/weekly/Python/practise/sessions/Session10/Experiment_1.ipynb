{
 "cells": [
  {
   "cell_type": "markdown",
   "metadata": {
    "colab_type": "text",
    "id": "-L1cC063W62M"
   },
   "source": [
    "# Foundations of Artificial Intelligence and Machine Learning\n",
    "## A Program by IIIT-H and TalentSprint\n",
    "#### To be done in the Lab"
   ]
  },
  {
   "cell_type": "markdown",
   "metadata": {
    "colab_type": "text",
    "id": "tPDeQ3fiW62S"
   },
   "source": [
    "The objective of this experiment is to understand RNN."
   ]
  },
  {
   "cell_type": "markdown",
   "metadata": {
    "colab_type": "text",
    "id": "fBk0fsCsW62W"
   },
   "source": [
    "In this experiment we will use RNN to classify text one character at a time. We will be using shakespeare.txt as our input file to the classifier."
   ]
  },
  {
   "cell_type": "markdown",
   "metadata": {
    "colab_type": "text",
    "id": "ZpLR442fW62a"
   },
   "source": [
    "The idea behind RNNs is to make use of sequential information. In a traditional neural network we assume that all inputs (and outputs) are independent of each other. But for many tasks that’s a very bad idea. If you want to predict the next word in a sentence you better know which words came before it. RNNs are called recurrent because they perform the same task for every element of a sequence, with the output being depended on the previous computations."
   ]
  },
  {
   "cell_type": "markdown",
   "metadata": {
    "colab_type": "text",
    "id": "B4Ix-M7wW62e"
   },
   "source": [
    "##### Keywords\n",
    "\n",
    "* RNN\n",
    "* Gated recurrent unit\n",
    "* Crossentropy\n",
    "* Adam"
   ]
  },
  {
   "cell_type": "markdown",
   "metadata": {
    "colab_type": "text",
    "id": "OsmAi4VLW62j"
   },
   "source": [
    "##### Expected time to complete the experiment is : 90 min"
   ]
  },
  {
   "cell_type": "markdown",
   "metadata": {
    "colab_type": "text",
    "id": "t8TI7RoEW62l"
   },
   "source": [
    "## 1. Preparing the data"
   ]
  },
  {
   "cell_type": "markdown",
   "metadata": {
    "colab_type": "text",
    "id": "t9w9n9FDW62o"
   },
   "source": [
    "The file we are using is a plain text file. We turn any potential unicode characters into plain ASCII by using the unidecode package.\n",
    "\n",
    "To install the package run the following command\n"
   ]
  },
  {
   "cell_type": "markdown",
   "metadata": {
    "colab_type": "text",
    "id": "BQNrSHGRW62p"
   },
   "source": [
    "** !pip3 install unidecode **"
   ]
  },
  {
   "cell_type": "code",
   "execution_count": 3,
   "metadata": {
    "colab": {},
    "colab_type": "code",
    "id": "Q5yiVunUW62u"
   },
   "outputs": [],
   "source": [
    "## Importing required packages\n",
    "import unidecode\n",
    "import string\n",
    "import random\n",
    "import re"
   ]
  },
  {
   "cell_type": "code",
   "execution_count": 4,
   "metadata": {
    "colab": {},
    "colab_type": "code",
    "id": "A4HwaQDjW624",
    "outputId": "09bfbe52-8879-4d95-8cfe-924b8a1a33f4"
   },
   "outputs": [
    {
     "name": "stdout",
     "output_type": "stream",
     "text": [
      "file_len = 1115393\n"
     ]
    }
   ],
   "source": [
    "all_characters = string.printable\n",
    "## code to find length of all_characters and storing the value in n_characters\n",
    "n_characters = len(all_characters)\n",
    "## code to convert unicode characters into plain ASCII.\n",
    "file = unidecode.unidecode(open('shakespeare.txt').read())\n",
    "## code to find length of the file\n",
    "file_len = len(file)\n",
    "## printing the length of the file\n",
    "print('file_len =', file_len)"
   ]
  },
  {
   "cell_type": "code",
   "execution_count": 5,
   "metadata": {
    "colab": {},
    "colab_type": "code",
    "id": "VbStl8sBW63O",
    "outputId": "a85f9da1-e346-4906-832f-2ee475808a68"
   },
   "outputs": [
    {
     "data": {
      "text/plain": [
       "\"First Citizen:\\nBefore we proceed any further, hear me speak.\\n\\nAll:\\nSpeak, speak.\\n\\nFirst Citizen:\\nYou are all resolved rather to die than to famish?\\n\\nAll:\\nResolved. resolved.\\n\\nFirst Citizen:\\nFirst, you know Caius Marcius is chief enemy to the people.\\n\\nAll:\\nWe know't, we know't.\\n\\nFirst Citizen:\\nLet us kill him, and we'll have corn at our own price.\\nIs't a verdict?\\n\\nAll:\\nNo more talking on't; let it be done: away, away!\\n\\nSecond Citizen:\\nOne word, good citizens.\\n\\nFirst Citizen:\\nWe are accounted poor citizens, the patricians good.\\nWhat authority surfeits on would relieve us: if they\\nwould yield us but the superfluity, while it were\\nwholesome, we might guess they relieved us humanely;\\nbut they think we are too dear: the leanness that\\nafflicts us, the object of our misery, is as an\\ninventory to particularise their abundance; our\\nsufferance is a gain to them Let us revenge this with\\nour pikes, ere we become rakes: for the gods know I\\nspeak this in hunger for bread, not in thirst for revenge.\\n\\n\""
      ]
     },
     "execution_count": 5,
     "metadata": {},
     "output_type": "execute_result"
    }
   ],
   "source": [
    "file[:1000]"
   ]
  },
  {
   "cell_type": "markdown",
   "metadata": {
    "colab_type": "text",
    "id": "0KQtHae4W63U"
   },
   "source": [
    "As the string is large, we are going to split it into chunks to provide inputs to the RNN using function random_chunk()."
   ]
  },
  {
   "cell_type": "code",
   "execution_count": 6,
   "metadata": {
    "colab": {},
    "colab_type": "code",
    "id": "3x1sNa2QW63U",
    "outputId": "618864ba-9f1b-4653-9de6-999457bfbdeb"
   },
   "outputs": [
    {
     "name": "stdout",
     "output_type": "stream",
     "text": [
      "tness: his approach,\n",
      "So out of circumstance and sudden, tells us\n",
      "'Tis not a visitation framed, but forced\n",
      "By need and accident. What train?\n",
      "\n",
      "Gentleman:\n",
      "But few,\n",
      "And those but mean.\n",
      "\n",
      "LEONTES:\n",
      "His prince\n"
     ]
    }
   ],
   "source": [
    "## Initializing the length of chunk\n",
    "chunk_len = 200\n",
    "## Function to split the string into chunks\n",
    "def random_chunk():\n",
    "    ## Initializing the starting index value of the big string \n",
    "    start_index = random.randint(0, file_len - chunk_len)\n",
    "    ## Initializing the ending index of the string \n",
    "    end_index = start_index + chunk_len + 1\n",
    "    ## returning the chunk\n",
    "    return file[start_index:end_index]\n",
    "\n",
    "print(random_chunk())"
   ]
  },
  {
   "cell_type": "markdown",
   "metadata": {
    "colab_type": "text",
    "id": "f1saQwEXW63Y"
   },
   "source": [
    "##  2. Building the model"
   ]
  },
  {
   "cell_type": "markdown",
   "metadata": {
    "colab_type": "text",
    "id": "TuX4sK_2W63Z"
   },
   "source": [
    "This model will take as input the character for step $t_{-1}$, and is expected to output the next character $t$. There are three layers - one linear layer that encodes the input character into an internal state, one GRU layer (which may itself have multiple layers) that operates on that internal state and a hidden state, and a decoder layer that outputs the probability distribution."
   ]
  },
  {
   "cell_type": "code",
   "execution_count": 7,
   "metadata": {
    "colab": {},
    "colab_type": "code",
    "id": "DqmfHCLPW63b"
   },
   "outputs": [],
   "source": [
    "###importing required packages\n",
    "import torch\n",
    "import torch.nn as nn\n",
    "from torch.autograd import Variable\n",
    "\n",
    "### Creating recurrent neural network\n",
    "class RNN(nn.Module):\n",
    "    \n",
    "    def __init__(self, input_size, hidden_size, output_size, n_layers=1):\n",
    "        super(RNN, self).__init__()\n",
    "        self.input_size = input_size\n",
    "        self.hidden_size = hidden_size\n",
    "        self.output_size = output_size\n",
    "        self.n_layers = n_layers\n",
    "        self.encoder = nn.Embedding(input_size, hidden_size)\n",
    "        self.gru = nn.GRU(hidden_size, hidden_size, n_layers)\n",
    "        self.decoder = nn.Linear(hidden_size, output_size)\n",
    "    \n",
    "    def forward(self, input, hidden):\n",
    "        input = self.encoder(input.view(1, -1))\n",
    "        output, hidden = self.gru(input.view(1, 1, -1), hidden)\n",
    "        output = self.decoder(output.view(1, -1))\n",
    "        return output, hidden\n",
    "\n",
    "    def init_hidden(self):\n",
    "        return Variable(torch.zeros(self.n_layers, 1, self.hidden_size))"
   ]
  },
  {
   "cell_type": "markdown",
   "metadata": {
    "colab_type": "text",
    "id": "_TmoVAcZW63e"
   },
   "source": [
    "## 3. Defining the helper functions"
   ]
  },
  {
   "cell_type": "markdown",
   "metadata": {
    "colab_type": "text",
    "id": "Z7h3b-IIW63e"
   },
   "source": [
    "#### Inputs and targets"
   ]
  },
  {
   "cell_type": "markdown",
   "metadata": {
    "colab_type": "text",
    "id": "JmdYh0B8W63g"
   },
   "source": [
    "Each chunk will be turned into a tensor, specifically a LongTensor (used for integer values), by looping through the characters of the string and looking up the index of each character in all_characters."
   ]
  },
  {
   "cell_type": "code",
   "execution_count": 8,
   "metadata": {
    "colab": {},
    "colab_type": "code",
    "id": "KPdugjt8W63h",
    "outputId": "b1a6dafd-6def-4494-8330-05aea09edf59"
   },
   "outputs": [
    {
     "name": "stdout",
     "output_type": "stream",
     "text": [
      "tensor([10, 11, 12, 39, 40, 41])\n"
     ]
    }
   ],
   "source": [
    "# Turn string into list of longs\n",
    "def char_tensor(string):\n",
    "    ## tensor is a array\n",
    "    tensor = torch.zeros(len(string)).long()\n",
    "    for c in range(len(string)):\n",
    "        tensor[c] = all_characters.index(string[c])\n",
    "    return Variable(tensor)\n",
    "\n",
    "print(char_tensor('abcDEF'))"
   ]
  },
  {
   "cell_type": "markdown",
   "metadata": {
    "colab_type": "text",
    "id": "8te0E2naW63n"
   },
   "source": [
    "Finally we can assemble a pair of input and target tensors for training, from a random chunk. The input will be all characters up to the last, and the target will be all characters from the first. So if our chunk is \"abc\" the input will correspond to \"ab\" while the target is \"bc\"."
   ]
  },
  {
   "cell_type": "code",
   "execution_count": 9,
   "metadata": {
    "colab": {},
    "colab_type": "code",
    "id": "r9LITWrxW63o"
   },
   "outputs": [],
   "source": [
    "def random_training_set():    \n",
    "    chunk = random_chunk()\n",
    "    inp = char_tensor(chunk[:-1])\n",
    "    target = char_tensor(chunk[1:])\n",
    "    return inp, target"
   ]
  },
  {
   "cell_type": "markdown",
   "metadata": {
    "colab_type": "text",
    "id": "jbQpwAdBW63s"
   },
   "source": [
    "#### Evaluating"
   ]
  },
  {
   "cell_type": "markdown",
   "metadata": {
    "colab_type": "text",
    "id": "lKf683cRW63s"
   },
   "source": [
    "To evaluate the network we will feed one character at a time, use the outputs of the network as a probability distribution for the next character, and repeat. To start generation we pass a priming string to start building up the hidden state, from which we then generate one character at a time.\n",
    "\n"
   ]
  },
  {
   "cell_type": "code",
   "execution_count": 10,
   "metadata": {
    "colab": {},
    "colab_type": "code",
    "id": "bVn0gE9qW63v"
   },
   "outputs": [],
   "source": [
    "def evaluate(prime_str='A', predict_len=100, temperature=0.8):\n",
    "    hidden = decoder.init_hidden()\n",
    "    prime_input = char_tensor(prime_str)\n",
    "    predicted = prime_str\n",
    "\n",
    "    # Use priming string to \"build up\" hidden state\n",
    "    for p in range(len(prime_str) - 1):\n",
    "        _, hidden = decoder(prime_input[p], hidden)\n",
    "    inp = prime_input[-1]\n",
    "    \n",
    "    for p in range(predict_len):\n",
    "        output, hidden = decoder(inp, hidden)\n",
    "        \n",
    "        # Sample from the network as a multinomial distribution\n",
    "        output_dist = output.data.view(-1).div(temperature).exp()\n",
    "        top_i = torch.multinomial(output_dist, 1)[0]\n",
    "        \n",
    "        # Add predicted character to string and use as next input\n",
    "        predicted_char = all_characters[top_i]\n",
    "        predicted += predicted_char\n",
    "        inp = char_tensor(predicted_char)\n",
    "\n",
    "    return predicted"
   ]
  },
  {
   "cell_type": "markdown",
   "metadata": {
    "colab_type": "text",
    "id": "Ft8uaSobW63y"
   },
   "source": [
    "## 4. Training the model"
   ]
  },
  {
   "cell_type": "markdown",
   "metadata": {
    "colab_type": "text",
    "id": "xCf1XmHTW630"
   },
   "source": [
    "To keep track of how long training takes, we have added a time_since(timestamp) function which returns a human readable string"
   ]
  },
  {
   "cell_type": "code",
   "execution_count": 13,
   "metadata": {
    "colab": {},
    "colab_type": "code",
    "id": "XHS6aNvCW633"
   },
   "outputs": [],
   "source": [
    "## Importing required packages\n",
    "import time, math\n",
    "## function to print amount of time passed\n",
    "def time_since(since):\n",
    "    s = time.time() - since\n",
    "    m = math.floor(s / 60)\n",
    "    s -= m * 60\n",
    "    return '%dm %ds' % (m, s)"
   ]
  },
  {
   "cell_type": "markdown",
   "metadata": {
    "colab_type": "text",
    "id": "PciOmEEQW638"
   },
   "source": [
    "#### The main training function"
   ]
  },
  {
   "cell_type": "code",
   "execution_count": 14,
   "metadata": {
    "colab": {},
    "colab_type": "code",
    "id": "jumK0nlBW63_"
   },
   "outputs": [],
   "source": [
    "def train(inp, target):\n",
    "    hidden = decoder.init_hidden()\n",
    "    decoder.zero_grad()\n",
    "    loss = 0\n",
    "\n",
    "    for c in range(chunk_len):\n",
    "        output, hidden = decoder(inp[c], hidden)\n",
    "        loss += criterion(output, target[c].unsqueeze(dim=0))\n",
    "\n",
    "    loss.backward()\n",
    "    decoder_optimizer.step()\n",
    "\n",
    "    return loss.item() / chunk_len"
   ]
  },
  {
   "cell_type": "markdown",
   "metadata": {
    "colab_type": "text",
    "id": "GSXvBATxW64F"
   },
   "source": [
    "Then we define the training parameters, instantiate the model, and start training"
   ]
  },
  {
   "cell_type": "code",
   "execution_count": 15,
   "metadata": {
    "colab": {},
    "colab_type": "code",
    "id": "OZgOFa_PW64H",
    "outputId": "dd80192a-8b74-4140-df3c-4dc59fc7f7be"
   },
   "outputs": [
    {
     "name": "stdout",
     "output_type": "stream",
     "text": [
      "[0m 5s (50 2%) 2.6240]\n",
      "Whed the hern ar nou hat silll rist yhes om herran dat kil sat smis tof\n",
      "I inin torsllu iq nind ime  ca \n",
      "\n",
      "[0m 12s (100 5%) 2.3366]\n",
      "Whi to the the the pord of hi min:\n",
      "Whe arilse:\n",
      "The gufkr nou that pou I wit aithem hie to the the the  \n",
      "\n",
      "[0m 20s (150 7%) 2.2570]\n",
      "Whal, ceat ow sar\n",
      "And mus I mis ond ntand dat thred spear't Cy now! Alf not:\n",
      "Nor sis a veint:\n",
      "Cour pim \n",
      "\n",
      "[0m 27s (200 10%) 2.2693]\n",
      "Whith, your and fourt thy peduriand hied, wit prith meng.\n",
      "\n",
      "NbARD:\n",
      "Nour that hes,\n",
      "That,\n",
      "Where that my s \n",
      "\n",
      "[0m 34s (250 12%) 2.0695]\n",
      "What cave a har, apsin wet in then lair:\n",
      "Shous the tathat\n",
      "Fiond engell no chat exgighe weat with tion. \n",
      "\n",
      "[0m 41s (300 15%) 2.0416]\n",
      "Whe deserther\n",
      "Sel herfor sous a with I heull pir Jow wink of let I hers hat parties the wing this for  \n",
      "\n",
      "[0m 49s (350 17%) 2.1009]\n",
      "Wher had the faird hore there lignyo trild\n",
      "While,\n",
      "Se to theed\n",
      "And I the ar.\n",
      "\n",
      "Frere whele there sent,\n",
      "O \n",
      "\n",
      "[0m 56s (400 20%) 2.0678]\n",
      "Wherist and ghather' fay aather: scans andord, I nersed;\n",
      "Whou juse:\n",
      "The formest your of were,\n",
      "There\n",
      "To \n",
      "\n",
      "[1m 3s (450 22%) 2.0423]\n",
      "Whe domincent blove, dear.\n",
      "\n",
      "BRUTUS:\n",
      "Whe me of to mage it ite, rigntence treatis thy both do to carthin \n",
      "\n",
      "[1m 10s (500 25%) 2.0383]\n",
      "Whis no dinst!\n",
      "\n",
      "SARD II:\n",
      "And it to ding le'sers I yet prinated wits Keact my with thous hood, hasteger \n",
      "\n",
      "[1m 17s (550 27%) 2.0081]\n",
      "Whter, thou broughad as is tother to blendwill sall, your your harry hous thou mort,\n",
      "I the heart to pr \n",
      "\n",
      "[1m 24s (600 30%) 1.6169]\n",
      "Why witis joth of shall flam; abed she daw what that of to the depal, whe war sino his suse a suther c \n",
      "\n",
      "[1m 35s (650 32%) 1.9290]\n",
      "What you gorme.\n",
      "\n",
      "ABIO:\n",
      "A hous ar for God Grane im,\n",
      "And were the hen apker to for Ford is of thou not I \n",
      "\n",
      "[1m 43s (700 35%) 1.8726]\n",
      "WhAd corthe ford\n",
      "Or there forroced bring entres:\n",
      "I play speat farest of none\n",
      "I in it perencers her wha \n",
      "\n",
      "[1m 50s (750 37%) 1.8174]\n",
      "Whaut bats to hands, and to ever come my malk\n",
      "The paltis it have gool grolinder's this liest my dare k \n",
      "\n",
      "[1m 58s (800 40%) 1.5934]\n",
      "Whinded not lizer hen sowld bentress:\n",
      "And tamke ous word a'thing then is so, I thou shou, to mean,\n",
      "Wha \n",
      "\n",
      "[2m 6s (850 42%) 1.8492]\n",
      "Whuct vereed. Cosst this greay\n",
      "Were in live my sill dee undiage soping as eary is praing unded: as the \n",
      "\n",
      "[2m 18s (900 45%) 1.9315]\n",
      "Whort the conour to think.\n",
      "\n",
      "VINCE:\n",
      "And the pomence you as fates, all know like from theme, wo her from \n",
      "\n",
      "[2m 27s (950 47%) 1.8339]\n",
      "Whe that the prenesswer dear up to see the for gain,\n",
      "To grade that yough be did nower, that are that s \n",
      "\n",
      "[2m 37s (1000 50%) 1.7642]\n",
      "Wherier nevare need matint to me despement the good mestable tounen of mepantrem,\n",
      "As tounder she we ge \n",
      "\n",
      "[2m 46s (1050 52%) 1.8218]\n",
      "Whatud upor they in yess that thour not\n",
      "That shall the toller thou: thou, beeves and sinciolt nompers  \n",
      "\n",
      "[2m 54s (1100 55%) 2.1012]\n",
      "What tour thatt one ofth man wast be mast what, stallt,\n",
      "Father partlente: and red seep, that that fell \n",
      "\n",
      "[3m 2s (1150 57%) 1.7145]\n",
      "Whord, not, well waist time where you ustan.\n",
      "\n",
      "Whose stince will the men anteall.\n",
      "\n",
      "I ass the cains, min \n",
      "\n",
      "[3m 10s (1200 60%) 1.9526]\n",
      "Where, stod offnes;\n",
      "And sevend searts bretil keads make amauble's her to the\n",
      "den my do the with mostre \n",
      "\n",
      "[3m 19s (1250 62%) 2.1004]\n",
      "Whicking Harrince shas no these bemant her day:\n",
      "wrosure with a kell as her love dis paress fall and th \n",
      "\n",
      "[3m 35s (1300 65%) 1.6461]\n",
      "Whiciold wears ward curse may: it sied, tiok, hispal,\n",
      "Is mach my so sight the no grach are.\n",
      "\n",
      "PRIO:\n",
      "Wha \n",
      "\n",
      "[3m 44s (1350 67%) 1.9529]\n",
      "Whome-unberates here it Piner less,\n",
      "Or have compleid wemas a pritius, the desoldies,\n",
      "Det not solio a f \n",
      "\n",
      "[3m 52s (1400 70%) 1.8025]\n",
      "Whb must doop sceeles,\n",
      "But let the thou were the the not drovent by bout to done hate our to heave lor \n",
      "\n",
      "[4m 1s (1450 72%) 2.1852]\n",
      "Wherewal sir, and some imple, fair; brodcio:\n",
      "Seat uncher thy see thy let is the keap,\n",
      "And our Gellound \n",
      "\n",
      "[4m 7s (1500 75%) 1.7924]\n",
      "When deed and by look:\n",
      "I ke you maded all no men jesent efours your hell sicsent,\n",
      "To more tlake down m \n",
      "\n",
      "[4m 14s (1550 77%) 1.6669]\n",
      "Which Anded floth you grach?\n",
      "\n",
      "METRMER:\n",
      "And weiin of most allow dught offect you.\n",
      "\n",
      "ELCO:\n",
      "The will facle \n",
      "\n",
      "[4m 22s (1600 80%) 1.7605]\n",
      "Whectly had hich hour hie his brother hearted hear that with my lord,\n",
      "Wheet I can her will the haddy h \n",
      "\n",
      "[4m 29s (1650 82%) 1.7348]\n",
      "What to remand what mostry commased of my my hudquich the crend, bess of reloungs.\n",
      "\n",
      "COPINARTEND SIRAND \n",
      "\n",
      "[4m 40s (1700 85%) 1.5557]\n",
      "Which, him weather to here the\n",
      "Hard soil toge the live realk the her my lord,\n",
      "The spell now there appe \n",
      "\n",
      "[4m 53s (1750 87%) 2.1640]\n",
      "Which I king ine there it then, not\n",
      "What as shall my lord? I net thou go.\n",
      "What that partst denders a m \n",
      "\n",
      "[5m 2s (1800 90%) 1.8293]\n",
      "Which pleastan agay\n",
      "A to the this baut Lord Lord!\n",
      "Hee lexers sem with and ounted\n",
      "And my grecome the lo \n",
      "\n",
      "[5m 13s (1850 92%) 1.7362]\n",
      "Where, fearmingh of So words,\n",
      "Another heaw forth\n",
      "old in our madicivender and throwhick my his wold upo \n",
      "\n",
      "[5m 23s (1900 95%) 1.9014]\n",
      "What utet seen to\n",
      "belm you hell deto that he bless of\n",
      "grank noweringout aching that if ling him both y \n",
      "\n",
      "[5m 32s (1950 97%) 1.7959]\n",
      "Which to seme be hed?\n",
      "\n",
      "MENENIUS:\n",
      "Who as with have the many you\n",
      "Talive lofte ows beatefuity by love for \n",
      "\n",
      "[5m 46s (2000 100%) 1.6747]\n",
      "What can after seed:\n",
      "My gell his that that shall he hands not my head: done? Impelt encompursle how\n",
      "By \n",
      "\n"
     ]
    }
   ],
   "source": [
    "n_epochs = 2000 #Number of epochs\n",
    "print_every = 50\n",
    "plot_every = 20\n",
    "hidden_size = 100\n",
    "n_layers = 1\n",
    "lr = 0.005\n",
    "\n",
    "decoder = RNN(n_characters, hidden_size, n_characters, n_layers)\n",
    "## Optimizer\n",
    "decoder_optimizer = torch.optim.Adam(decoder.parameters(), lr=lr)\n",
    "## Loss function\n",
    "criterion = nn.CrossEntropyLoss()\n",
    "\n",
    "start = time.time()\n",
    "all_losses = []\n",
    "loss_avg = 0\n",
    "\n",
    "#In this for loop for every 100th iteration we are printing the time taken, loss and the chunk.\n",
    "for epoch in range(1, n_epochs + 1):\n",
    "    loss = train(*random_training_set())       \n",
    "    loss_avg += loss\n",
    "\n",
    "    if epoch % print_every == 0:\n",
    "        print('[%s (%d %d%%) %.4f]' % (time_since(start), epoch, epoch / n_epochs * 100, loss))\n",
    "        print(evaluate('Wh', 100), '\\n')\n",
    "\n",
    "    if epoch % plot_every == 0:\n",
    "        all_losses.append(loss_avg / plot_every)\n",
    "        loss_avg = 0"
   ]
  },
  {
   "cell_type": "markdown",
   "metadata": {
    "colab_type": "text",
    "id": "s90GwxqiW64O"
   },
   "source": [
    "#### Plotting the Training Losses"
   ]
  },
  {
   "cell_type": "markdown",
   "metadata": {
    "colab_type": "text",
    "id": "lxvw3YdgW64P"
   },
   "source": [
    "Plotting the historical loss from all_losses shows the network learning"
   ]
  },
  {
   "cell_type": "code",
   "execution_count": 14,
   "metadata": {
    "colab": {},
    "colab_type": "code",
    "id": "_Ka8yCigW64Q",
    "outputId": "685711d0-12f3-4981-a2e1-2b526a87eeea"
   },
   "outputs": [
    {
     "data": {
      "text/plain": [
       "Text(0,0.5,'loss')"
      ]
     },
     "execution_count": 14,
     "metadata": {},
     "output_type": "execute_result"
    },
    {
     "data": {
      "image/png": "[encoded data removed]",
      "text/plain": [
       "<Figure size 432x288 with 1 Axes>"
      ]
     },
     "metadata": {},
     "output_type": "display_data"
    }
   ],
   "source": [
    "import matplotlib.pyplot as plt\n",
    "import matplotlib.ticker as ticker\n",
    "%matplotlib inline\n",
    "\n",
    "plt.figure()\n",
    "plt.plot(all_losses)\n",
    "plt.xlabel(\"epoch\")\n",
    "plt.ylabel(\"loss\")"
   ]
  },
  {
   "cell_type": "markdown",
   "metadata": {
    "colab_type": "text",
    "id": "JZZBYUA7W64V"
   },
   "source": [
    "#### Adapting or tuning for prose writing"
   ]
  },
  {
   "cell_type": "markdown",
   "metadata": {
    "colab_type": "text",
    "id": "TCXRUC5HW64W"
   },
   "source": [
    "In the evaluate function above, every time a prediction is made the outputs are divided by the \"temperature\" argument passed. Using a higher number makes all actions more equally likely, and thus gives us \"more random\" outputs. Using a lower value (less than 1) makes high probabilities contribute more. As we turn the temperature towards zero we are choosing only the most likely outputs.\n"
   ]
  },
  {
   "cell_type": "markdown",
   "metadata": {
    "colab_type": "text",
    "id": "OD1YAm_5W64X"
   },
   "source": [
    "We can see the effects of this by adjusting the temperature argument."
   ]
  },
  {
   "cell_type": "markdown",
   "metadata": {
    "colab": {},
    "colab_type": "code",
    "id": "0gghst2DW64Y",
    "outputId": "9a1ccc8b-dcde-4b68-da78-f1ffe7d3858f"
   },
   "source": [
    "print(evaluate('u', 200, temperature=0.4))"
   ]
  },
  {
   "cell_type": "markdown",
   "metadata": {
    "colab_type": "text",
    "id": "SuI0Nc7TW64d"
   },
   "source": [
    "Lower temperatures are less varied, choosing only the more probable outputs:"
   ]
  },
  {
   "cell_type": "markdown",
   "metadata": {
    "colab_type": "text",
    "id": "lwun_VBKW64d"
   },
   "source": [
    "print(evaluate('Th', 200, temperature=0.2))"
   ]
  },
  {
   "cell_type": "markdown",
   "metadata": {
    "colab_type": "text",
    "id": "D8mLmKx7W64f"
   },
   "source": [
    "\n",
    "Higher temperatures more varied, choosing less probable outputs:"
   ]
  },
  {
   "cell_type": "markdown",
   "metadata": {
    "colab": {},
    "colab_type": "code",
    "id": "QxGh9rLhW64f",
    "outputId": "f30dc1a0-aa0c-4153-af07-2a3bfdd1eddd"
   },
   "source": [
    "print(evaluate('how', 200, temperature=0.5))"
   ]
  },
  {
   "cell_type": "markdown",
   "metadata": {
    "colab_type": "text",
    "id": "cdWN83RrW64k"
   },
   "source": [
    "### Exercise 1:\n",
    "\n",
    "Change the number of epochs to 1000. Calculate the time taken and loss."
   ]
  },
  {
   "cell_type": "markdown",
   "metadata": {
    "colab_type": "text",
    "id": "f1VW0kR_W64l"
   },
   "source": [
    "### Exercise 2:\n",
    "\n",
    "Change the print every to 50 and plot every to 20. Calculate the time taken and loss and plot the loss graph"
   ]
  },
  {
   "cell_type": "code",
   "execution_count": 19,
   "metadata": {
    "colab": {},
    "colab_type": "code",
    "id": "FbF93WsoW64n"
   },
   "outputs": [
    {
     "name": "stdout",
     "output_type": "stream",
     "text": [
      "how--\n",
      "This mant your houslents of the be now here,\n",
      "I king leary, sore the me true\n",
      "The wo lown your ging of lies one his\n",
      "And, and I honsee and kide praint whate one the be\n",
      "Whom fear no strandy, your took\n",
      "\n"
     ]
    }
   ],
   "source": [
    "print(evaluate('how', 200, temperature=0.7))"
   ]
  }
 ],
 "metadata": {
  "colab": {
   "name": "AIML_RNN_LAB_JN01_EX_E.ipynb",
   "provenance": [],
   "version": "0.3.2"
  },
  "kernelspec": {
   "display_name": "Python 3",
   "language": "python",
   "name": "python3"
  },
  "language_info": {
   "codemirror_mode": {
    "name": "ipython",
    "version": 3
   },
   "file_extension": ".py",
   "mimetype": "text/x-python",
   "name": "python",
   "nbconvert_exporter": "python",
   "pygments_lexer": "ipython3",
   "version": "3.6.5"
  }
 },
 "nbformat": 4,
 "nbformat_minor": 1
}
