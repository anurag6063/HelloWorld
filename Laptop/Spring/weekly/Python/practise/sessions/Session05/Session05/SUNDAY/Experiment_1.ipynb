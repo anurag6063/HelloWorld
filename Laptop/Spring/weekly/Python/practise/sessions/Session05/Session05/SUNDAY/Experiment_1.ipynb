{
 "cells": [
  {
   "cell_type": "markdown",
   "metadata": {},
   "source": [
    "# Foundations of Artificial Intelligence and Machine Learning\n",
    "## A Program by IIIT-H and TalentSprint\n",
    "#### To be done in the Lab\n"
   ]
  },
  {
   "cell_type": "markdown",
   "metadata": {},
   "source": [
    "The objective of this experiment is to understand MultiLayer Perceptron(MLP)."
   ]
  },
  {
   "cell_type": "markdown",
   "metadata": {},
   "source": [
    "In this experiment we will use famous Iris data set.This is perhaps the best known database to be found in the pattern recognition literature. Fisher's paper is a classic in the field and is referenced frequently to this day. \n",
    "\n",
    "The data set contains 3 classes of 50 instances each, where each class refers to a type of iris plant. One class is linearly separable from the other 2; the latter are NOT linearly separable from each other. \n"
   ]
  },
  {
   "cell_type": "markdown",
   "metadata": {},
   "source": [
    "#### Data Attributes\n",
    "\n",
    "  1. sepal length in cm \n",
    "  2. sepal width in cm \n",
    "  3. petal length in cm \n",
    "  4. petal width in cm \n",
    "  5. class: \n",
    "     -- Iris Setosa  \n",
    "     -- Iris Versicolour \n",
    "     -- Iris Virginica"
   ]
  },
  {
   "cell_type": "markdown",
   "metadata": {},
   "source": [
    "**MultiLayer Perceptron **\n",
    "\n",
    "An MLP can be viewed as a logistic regression classifier where the input is first transformed using a learnt non-linear transformation \\Phi. This transformation projects the input data into a space where it becomes linearly separable. This intermediate layer is referred to as a hidden layer. A single hidden layer is sufficient to make MLPs a universal approximator."
   ]
  },
  {
   "cell_type": "code",
   "execution_count": 1,
   "metadata": {
    "ExecuteTime": {
     "end_time": "2018-07-19T04:58:19.020259Z",
     "start_time": "2018-07-19T04:58:18.138625Z"
    }
   },
   "outputs": [],
   "source": [
    "# Load required libraries\n",
    "from sklearn import datasets\n",
    "from sklearn.preprocessing import StandardScaler\n",
    "from sklearn.linear_model import Perceptron\n",
    "from sklearn.model_selection import train_test_split\n",
    "from sklearn.metrics import accuracy_score\n",
    "\n",
    "from sklearn.neural_network import MLPClassifier\n",
    "import numpy as np\n",
    "\n",
    "import numpy as np\n",
    "import matplotlib.pyplot as plt\n",
    "from sklearn import svm, datasets\n",
    "from Utils import *\n"
   ]
  },
  {
   "cell_type": "markdown",
   "metadata": {},
   "source": [
    "Let us load the iris dataset from sklearn datasets package"
   ]
  },
  {
   "cell_type": "code",
   "execution_count": 2,
   "metadata": {
    "ExecuteTime": {
     "end_time": "2018-07-19T04:58:19.081780Z",
     "start_time": "2018-07-19T04:58:19.023607Z"
    }
   },
   "outputs": [],
   "source": [
    "# Load the iris dataset\n",
    "iris = datasets.load_iris()\n",
    "\n",
    "# Create our X and y data\n",
    "X = iris.data\n",
    "y = iris.target"
   ]
  },
  {
   "cell_type": "code",
   "execution_count": 3,
   "metadata": {
    "ExecuteTime": {
     "end_time": "2018-07-19T04:58:19.157982Z",
     "start_time": "2018-07-19T04:58:19.084627Z"
    }
   },
   "outputs": [
    {
     "data": {
      "text/plain": [
       "array([0, 0, 0, 0, 0, 1, 1, 1, 1, 1])"
      ]
     },
     "execution_count": 3,
     "metadata": {},
     "output_type": "execute_result"
    }
   ],
   "source": [
    "# View ten observations of our y data\n",
    "y[45:55]"
   ]
  },
  {
   "cell_type": "code",
   "execution_count": 4,
   "metadata": {
    "ExecuteTime": {
     "end_time": "2018-07-19T04:58:19.237888Z",
     "start_time": "2018-07-19T04:58:19.160591Z"
    }
   },
   "outputs": [
    {
     "data": {
      "text/plain": [
       "array([[4.8, 3. , 1.4, 0.3],\n",
       "       [5.1, 3.8, 1.6, 0.2],\n",
       "       [4.6, 3.2, 1.4, 0.2],\n",
       "       [5.3, 3.7, 1.5, 0.2],\n",
       "       [5. , 3.3, 1.4, 0.2],\n",
       "       [7. , 3.2, 4.7, 1.4],\n",
       "       [6.4, 3.2, 4.5, 1.5],\n",
       "       [6.9, 3.1, 4.9, 1.5],\n",
       "       [5.5, 2.3, 4. , 1.3],\n",
       "       [6.5, 2.8, 4.6, 1.5]])"
      ]
     },
     "execution_count": 4,
     "metadata": {},
     "output_type": "execute_result"
    }
   ],
   "source": [
    "# View the corresponding x data.\n",
    "X[45:55]"
   ]
  },
  {
   "cell_type": "markdown",
   "metadata": {},
   "source": [
    " Split the data into 70% training data and 30% test data"
   ]
  },
  {
   "cell_type": "code",
   "execution_count": 19,
   "metadata": {
    "ExecuteTime": {
     "end_time": "2018-07-19T04:58:19.319060Z",
     "start_time": "2018-07-19T04:58:19.241463Z"
    }
   },
   "outputs": [],
   "source": [
    "\n",
    "X_train, X_test, y_train, y_test = train_test_split(X, y, test_size=0.3)"
   ]
  },
  {
   "cell_type": "markdown",
   "metadata": {},
   "source": [
    "Now let us train the scaler, which standarizes all the features to have mean=0 and unit variance"
   ]
  },
  {
   "cell_type": "code",
   "execution_count": 6,
   "metadata": {
    "ExecuteTime": {
     "end_time": "2018-07-19T04:58:19.404841Z",
     "start_time": "2018-07-19T04:58:19.321349Z"
    }
   },
   "outputs": [
    {
     "data": {
      "text/plain": [
       "StandardScaler(copy=True, with_mean=True, with_std=True)"
      ]
     },
     "execution_count": 6,
     "metadata": {},
     "output_type": "execute_result"
    }
   ],
   "source": [
    "\n",
    "sc = StandardScaler()\n",
    "sc.fit(X_train)"
   ]
  },
  {
   "cell_type": "code",
   "execution_count": 22,
   "metadata": {},
   "outputs": [],
   "source": [
    "sc = StandardScaler()"
   ]
  },
  {
   "cell_type": "code",
   "execution_count": 23,
   "metadata": {},
   "outputs": [
    {
     "data": {
      "text/plain": [
       "StandardScaler(copy=True, with_mean=True, with_std=True)"
      ]
     },
     "execution_count": 23,
     "metadata": {},
     "output_type": "execute_result"
    }
   ],
   "source": [
    "sc.fit(X_train)"
   ]
  },
  {
   "cell_type": "code",
   "execution_count": 7,
   "metadata": {
    "ExecuteTime": {
     "end_time": "2018-07-19T04:58:19.484288Z",
     "start_time": "2018-07-19T04:58:19.407601Z"
    }
   },
   "outputs": [],
   "source": [
    "# Apply the scaler to the X training data\n",
    "X_train_std = sc.transform(X_train)\n",
    "\n",
    "# Apply the SAME scaler to the X test data\n",
    "X_test_std = sc.transform(X_test)"
   ]
  },
  {
   "cell_type": "code",
   "execution_count": 20,
   "metadata": {},
   "outputs": [
    {
     "data": {
      "text/plain": [
       "array([[5.2, 4.1],\n",
       "       [6.4, 3.1],\n",
       "       [4.8, 3. ],\n",
       "       [6.9, 3.1],\n",
       "       [5.8, 2.7],\n",
       "       [5.8, 2.7],\n",
       "       [5.1, 3.5],\n",
       "       [7.3, 2.9],\n",
       "       [4.9, 3.1],\n",
       "       [4.6, 3.6],\n",
       "       [6. , 3.4],\n",
       "       [5.4, 3.4],\n",
       "       [5. , 3.5],\n",
       "       [5.4, 3. ],\n",
       "       [5.5, 2.5],\n",
       "       [5. , 2. ],\n",
       "       [6.5, 3. ],\n",
       "       [6.3, 2.3],\n",
       "       [6. , 2.7],\n",
       "       [4.6, 3.4],\n",
       "       [4.8, 3.1],\n",
       "       [6.5, 3. ],\n",
       "       [5.1, 3.8],\n",
       "       [5.2, 3.5],\n",
       "       [6.5, 3.2],\n",
       "       [5.6, 3. ],\n",
       "       [7.9, 3.8],\n",
       "       [5.6, 3. ],\n",
       "       [7.2, 3.2],\n",
       "       [6. , 2.2],\n",
       "       [7. , 3.2],\n",
       "       [6.3, 2.9],\n",
       "       [5.1, 3.3],\n",
       "       [6.9, 3.2],\n",
       "       [5.1, 3.8],\n",
       "       [5.5, 2.4],\n",
       "       [7.7, 3.8],\n",
       "       [4.9, 3. ],\n",
       "       [6.3, 2.5],\n",
       "       [5.3, 3.7],\n",
       "       [5.8, 4. ],\n",
       "       [5.1, 3.4],\n",
       "       [6.3, 2.8],\n",
       "       [6.4, 2.8],\n",
       "       [5.8, 2.7],\n",
       "       [6.5, 3. ],\n",
       "       [5.7, 3.8],\n",
       "       [5. , 3.2],\n",
       "       [7.4, 2.8],\n",
       "       [5.5, 2.4],\n",
       "       [6.2, 2.8],\n",
       "       [6.4, 2.9],\n",
       "       [5.7, 2.6],\n",
       "       [6.3, 2.5],\n",
       "       [6.1, 2.9],\n",
       "       [7.2, 3.6],\n",
       "       [4.9, 3.1],\n",
       "       [6.2, 3.4],\n",
       "       [6.3, 3.3],\n",
       "       [6.7, 3.1],\n",
       "       [6.2, 2.9],\n",
       "       [5.4, 3.4],\n",
       "       [5. , 3.4],\n",
       "       [6.6, 2.9],\n",
       "       [5.6, 2.9],\n",
       "       [6.3, 3.4],\n",
       "       [6.9, 3.1],\n",
       "       [5.7, 4.4],\n",
       "       [5.1, 2.5],\n",
       "       [5.6, 2.8],\n",
       "       [5. , 3.4],\n",
       "       [5.9, 3. ],\n",
       "       [5.4, 3.7],\n",
       "       [6.5, 2.8],\n",
       "       [6.7, 3.1],\n",
       "       [5.9, 3.2],\n",
       "       [6.7, 3.1],\n",
       "       [5.7, 3. ],\n",
       "       [5.6, 2.7],\n",
       "       [5. , 3.6],\n",
       "       [4.3, 3. ],\n",
       "       [6.1, 3. ],\n",
       "       [5.8, 2.6],\n",
       "       [6.7, 3.3],\n",
       "       [6.6, 3. ],\n",
       "       [6.4, 2.7],\n",
       "       [5.9, 3. ],\n",
       "       [4.6, 3.2],\n",
       "       [4.4, 3.2],\n",
       "       [6.1, 2.8],\n",
       "       [5. , 3.5],\n",
       "       [6. , 2.2],\n",
       "       [7.7, 2.6],\n",
       "       [4.6, 3.1],\n",
       "       [5.7, 2.8],\n",
       "       [5.2, 3.4],\n",
       "       [4.9, 2.5],\n",
       "       [4.8, 3. ],\n",
       "       [6.1, 3. ],\n",
       "       [6.9, 3.1],\n",
       "       [5.5, 2.6],\n",
       "       [5.4, 3.9],\n",
       "       [5.8, 2.8],\n",
       "       [6.8, 3. ],\n",
       "       [6.4, 3.2]])"
      ]
     },
     "execution_count": 20,
     "metadata": {},
     "output_type": "execute_result"
    }
   ],
   "source": [
    "X_train"
   ]
  },
  {
   "cell_type": "code",
   "execution_count": 21,
   "metadata": {},
   "outputs": [
    {
     "data": {
      "text/plain": [
       "array([[-0.89235109,  0.9296315 , -1.32034226, -1.36582471],\n",
       "       [ 1.50398815, -0.06386781,  1.17148014,  1.15482311],\n",
       "       [ 0.06618461,  0.43288185,  0.54852454,  0.75682609],\n",
       "       [-1.37161893,  0.43288185, -1.26370993, -1.36582471],\n",
       "       [ 0.54545245, -0.31224264,  1.00158316,  0.75682609],\n",
       "       [ 0.78508638, -0.06386781,  1.11484781,  1.28748879],\n",
       "       [ 0.54545245,  0.68125667,  1.22811247,  1.68548582],\n",
       "       [ 0.54545245, -0.8089923 ,  0.60515687,  0.75682609],\n",
       "       [-1.01216805, -0.06386781, -1.26370993, -1.36582471],\n",
       "       [ 0.42563549,  0.9296315 ,  0.8883185 ,  1.42015446],\n",
       "       [-0.77253412,  1.17800633, -1.32034226, -1.36582471],\n",
       "       [-0.17344932, -0.31224264,  0.20873058,  0.09349771],\n",
       "       [-1.13198501, -1.55411679, -0.30096037, -0.30449931],\n",
       "       [ 1.86343903, -0.56061747,  1.28474479,  0.88949176],\n",
       "       [-0.77253412, -0.8089923 ,  0.0388336 ,  0.22616339],\n",
       "       [ 1.0247203 , -1.30574196,  1.11484781,  0.75682609],\n",
       "       [ 1.26435422,  0.43288185,  1.05821548,  1.42015446],\n",
       "       [-1.25180197, -0.06386781, -1.37697458, -1.23315904],\n",
       "       [-0.41308324, -1.05736713,  0.32199523, -0.03916796],\n",
       "       [-1.73106982,  0.43288185, -1.43360691, -1.36582471],\n",
       "       [-0.41308324, -1.80249162,  0.09546592,  0.09349771],\n",
       "       [ 0.54545245, -1.30574196,  0.66178919,  0.88949176],\n",
       "       [ 0.18600157, -0.8089923 ,  0.71842152,  0.49149474],\n",
       "       [ 0.42563549, -0.31224264,  0.2653629 ,  0.09349771],\n",
       "       [-0.05363235, -1.05736713,  0.09546592, -0.03916796],\n",
       "       [-1.01216805, -1.80249162, -0.30096037, -0.30449931],\n",
       "       [ 0.18600157, -0.06386781,  0.54852454,  0.75682609],\n",
       "       [-0.77253412,  2.66825531, -1.32034226, -1.49849039],\n",
       "       [-0.17344932, -1.30574196,  0.66178919,  1.02215744],\n",
       "       [-1.73106982, -0.31224264, -1.37697458, -1.36582471],\n",
       "       [ 0.54545245,  0.68125667,  0.49189221,  0.49149474],\n",
       "       [-0.41308324, -1.55411679, -0.07443106, -0.30449931],\n",
       "       [ 1.62380511, -0.06386781,  1.11484781,  0.49149474],\n",
       "       [ 1.62380511,  0.43288185,  1.22811247,  0.75682609],\n",
       "       [ 1.74362207, -0.31224264,  1.39800945,  0.75682609],\n",
       "       [-0.89235109,  1.67475599, -1.32034226, -1.10049336],\n",
       "       [-0.89235109, -1.30574196, -0.47085735, -0.17183364],\n",
       "       [-0.29326628, -0.56061747,  0.60515687,  1.02215744],\n",
       "       [ 2.22288992, -0.56061747,  1.62453876,  1.02215744],\n",
       "       [-0.17344932,  1.92313082, -1.2070776 , -1.23315904],\n",
       "       [ 1.0247203 ,  0.68125667,  1.05821548,  1.15482311],\n",
       "       [-1.85088678, -0.06386781, -1.54687156, -1.49849039],\n",
       "       [ 0.06618461, -0.06386781,  0.71842152,  0.75682609],\n",
       "       [-0.17344932, -0.56061747,  0.15209825,  0.09349771],\n",
       "       [-1.49143589,  0.9296315 , -1.37697458, -1.23315904],\n",
       "       [-1.01216805,  0.9296315 , -1.26370993, -1.10049336],\n",
       "       [ 0.66526942,  0.43288185,  0.37862756,  0.35882906],\n",
       "       [-0.5329002 ,  0.9296315 , -1.32034226, -1.10049336],\n",
       "       [ 1.14453726,  0.43288185,  1.17148014,  1.42015446],\n",
       "       [ 0.66526942, -0.8089923 ,  0.83168618,  0.88949176],\n",
       "       [-0.5329002 ,  0.9296315 , -1.2070776 , -1.36582471],\n",
       "       [-0.5329002 ,  2.17150565, -1.2070776 , -1.10049336],\n",
       "       [ 0.30581853, -0.06386781,  0.43525989,  0.22616339],\n",
       "       [ 0.66526942, -0.56061747,  1.00158316,  1.28748879],\n",
       "       [-0.29326628, -0.31224264, -0.13106339,  0.09349771],\n",
       "       [ 2.22288992, -1.05736713,  1.73780341,  1.42015446],\n",
       "       [ 0.66526942,  0.43288185,  0.83168618,  1.42015446],\n",
       "       [-1.37161893,  0.43288185, -1.43360691, -1.36582471],\n",
       "       [-0.77253412,  0.9296315 , -1.37697458, -1.36582471],\n",
       "       [ 1.0247203 ,  0.18450702,  0.32199523,  0.22616339],\n",
       "       [-0.17344932, -0.56061747,  0.37862756,  0.09349771],\n",
       "       [ 0.66526942, -0.56061747,  1.00158316,  1.15482311],\n",
       "       [-0.05363235, -0.8089923 ,  0.71842152,  0.88949176],\n",
       "       [ 0.18600157, -2.05086645,  0.09546592, -0.30449931],\n",
       "       [-0.89235109,  1.92313082, -1.26370993, -1.36582471],\n",
       "       [ 2.22288992, -0.06386781,  1.28474479,  1.42015446],\n",
       "       [ 0.54545245, -1.30574196,  0.60515687,  0.35882906],\n",
       "       [-1.01216805, -2.5476161 , -0.18769571, -0.30449931],\n",
       "       [ 1.0247203 , -0.06386781,  0.77505385,  1.42015446],\n",
       "       [ 1.0247203 , -0.06386781,  0.66178919,  0.62416041],\n",
       "       [-0.5329002 ,  1.67475599, -1.32034226, -1.36582471],\n",
       "       [-0.05363235, -0.8089923 ,  0.15209825, -0.30449931],\n",
       "       [-1.49143589,  0.18450702, -1.32034226, -1.36582471],\n",
       "       [-0.29326628, -1.30574196,  0.0388336 , -0.17183364],\n",
       "       [ 0.66526942,  0.18450702,  0.94495083,  0.75682609],\n",
       "       [ 1.14453726, -0.06386781,  0.94495083,  1.15482311],\n",
       "       [-1.25180197, -0.06386781, -1.37697458, -1.49849039],\n",
       "       [ 0.90490334, -0.06386781,  0.32199523,  0.22616339],\n",
       "       [-1.73106982, -0.06386781, -1.43360691, -1.36582471],\n",
       "       [ 0.78508638, -0.06386781,  0.94495083,  0.75682609],\n",
       "       [ 0.42563549, -0.56061747,  0.54852454,  0.75682609],\n",
       "       [-1.01216805,  1.42638116, -1.37697458, -1.36582471],\n",
       "       [-1.01216805,  1.17800633, -1.26370993, -0.83516201],\n",
       "       [ 0.54545245,  0.9296315 ,  1.00158316,  1.55282014],\n",
       "       [-1.61125286, -1.80249162, -1.43360691, -1.23315904],\n",
       "       [-1.13198501, -0.06386781, -1.37697458, -1.36582471],\n",
       "       [-1.01216805,  0.43288185, -1.49023924, -1.36582471],\n",
       "       [ 2.22288992,  1.92313082,  1.62453876,  1.28748879],\n",
       "       [-0.17344932, -0.06386781,  0.20873058, -0.03916796],\n",
       "       [ 1.62380511,  1.42638116,  1.28474479,  1.68548582],\n",
       "       [-0.17344932, -1.05736713, -0.18769571, -0.30449931],\n",
       "       [ 0.30581853, -1.05736713,  1.00158316,  0.22616339],\n",
       "       [-0.29326628, -0.06386781,  0.15209825,  0.09349771],\n",
       "       [-0.05363235, -0.8089923 ,  0.0388336 , -0.03916796],\n",
       "       [ 0.06618461, -0.06386781,  0.20873058,  0.35882906],\n",
       "       [-0.29326628, -0.8089923 ,  0.20873058,  0.09349771],\n",
       "       [ 1.0247203 ,  0.18450702,  0.49189221,  0.35882906],\n",
       "       [-0.29326628, -0.06386781,  0.37862756,  0.35882906],\n",
       "       [-1.13198501,  0.18450702, -1.32034226, -1.49849039],\n",
       "       [ 0.78508638,  0.43288185,  0.71842152,  1.02215744],\n",
       "       [-0.5329002 ,  2.17150565, -1.43360691, -1.10049336],\n",
       "       [-0.89235109,  0.68125667, -1.2070776 , -0.96782769],\n",
       "       [-0.65271716,  1.67475599, -1.32034226, -1.36582471],\n",
       "       [-1.01216805,  1.17800633, -1.43360691, -1.23315904],\n",
       "       [ 1.38417119,  0.43288185,  0.49189221,  0.22616339]])"
      ]
     },
     "execution_count": 21,
     "metadata": {},
     "output_type": "execute_result"
    }
   ],
   "source": [
    "X_train_std"
   ]
  },
  {
   "cell_type": "code",
   "execution_count": 8,
   "metadata": {
    "ExecuteTime": {
     "end_time": "2018-07-19T04:58:19.557792Z",
     "start_time": "2018-07-19T04:58:19.487471Z"
    }
   },
   "outputs": [],
   "source": [
    "# Calling the MLP Classifier instance\n",
    "clf = MLPClassifier(activation='logistic', alpha=1e-05, batch_size=6, beta_1=0.9,\n",
    "       beta_2=0.999, early_stopping=False, epsilon=1e-08,\n",
    "       hidden_layer_sizes=(7, 3), learning_rate='constant',\n",
    "       learning_rate_init=0.001, max_iter=300, momentum=0.9,\n",
    "       nesterovs_momentum=True, power_t=0.5, random_state=1, shuffle=True,\n",
    "       solver='lbfgs', tol=0.0001, validation_fraction=0.1, verbose=False,\n",
    "       warm_start=False)\n"
   ]
  },
  {
   "cell_type": "code",
   "execution_count": 9,
   "metadata": {
    "ExecuteTime": {
     "end_time": "2018-07-19T04:58:19.804180Z",
     "start_time": "2018-07-19T04:58:19.560666Z"
    }
   },
   "outputs": [
    {
     "data": {
      "text/plain": [
       "MLPClassifier(activation='logistic', alpha=1e-05, batch_size=6, beta_1=0.9,\n",
       "       beta_2=0.999, early_stopping=False, epsilon=1e-08,\n",
       "       hidden_layer_sizes=(7, 3), learning_rate='constant',\n",
       "       learning_rate_init=0.001, max_iter=300, momentum=0.9,\n",
       "       nesterovs_momentum=True, power_t=0.5, random_state=1, shuffle=True,\n",
       "       solver='lbfgs', tol=0.0001, validation_fraction=0.1, verbose=False,\n",
       "       warm_start=False)"
      ]
     },
     "execution_count": 9,
     "metadata": {},
     "output_type": "execute_result"
    }
   ],
   "source": [
    "# Trying to fit the data into the model\n",
    "clf.fit(X_train_std, y_train)"
   ]
  },
  {
   "cell_type": "code",
   "execution_count": 10,
   "metadata": {
    "ExecuteTime": {
     "end_time": "2018-07-19T04:58:19.811054Z",
     "start_time": "2018-07-19T04:58:19.807226Z"
    }
   },
   "outputs": [],
   "source": [
    "# Apply the trained perceptron on the X data to make predicts for the y test data\n",
    "y_pred = clf.predict(X_test_std)"
   ]
  },
  {
   "cell_type": "code",
   "execution_count": 11,
   "metadata": {
    "ExecuteTime": {
     "end_time": "2018-07-19T04:58:19.889050Z",
     "start_time": "2018-07-19T04:58:19.814005Z"
    }
   },
   "outputs": [
    {
     "name": "stdout",
     "output_type": "stream",
     "text": [
      "Accuracy: 0.96\n"
     ]
    }
   ],
   "source": [
    "# View the accuracy of the model, which is: 1 - (observations predicted wrong / total observations)\n",
    "print('Accuracy: %.2f' % accuracy_score(y_test, y_pred))"
   ]
  },
  {
   "cell_type": "code",
   "execution_count": 12,
   "metadata": {
    "ExecuteTime": {
     "end_time": "2018-07-19T04:58:19.989860Z",
     "start_time": "2018-07-19T04:58:19.891946Z"
    }
   },
   "outputs": [
    {
     "data": {
      "text/plain": [
       "[array([[  2.7064643 ,   9.48198695,  15.34822468,  18.81879634,\n",
       "           4.41410053,   2.68305702,  -1.90073578],\n",
       "        [-18.80544675, -34.36752738,  -7.98321907, -34.37207255,\n",
       "           0.50836999,   0.45430683,  13.82620134],\n",
       "        [  7.45758495,  20.69880673,  19.16731719,  31.46536307,\n",
       "          -0.20659538, -24.37005678,  -9.27040295],\n",
       "        [  5.03222378,  15.80812025,  19.29737378,  28.61593043,\n",
       "          25.2504781 , -13.25369602, -10.38662228]]),\n",
       " array([[ -0.48998963,   5.41880753,   7.77025435],\n",
       "        [ -7.52777546, -16.53978949,  17.9476318 ],\n",
       "        [ 10.19395853,   7.12472012,  -6.40481856],\n",
       "        [-10.37242176, -25.79868355,  21.94990931],\n",
       "        [ 18.8885387 ,  17.64484384, -11.85066147],\n",
       "        [ 15.81882434,  58.53008287, -19.62424196],\n",
       "        [ 15.30227746,  35.40220884, -24.85254763]]),\n",
       " array([[ -7.62877032,  -9.51607159,  16.822712  ],\n",
       "        [  9.65707162,  20.3202363 , -30.36482349],\n",
       "        [-74.74264001,  22.75862199,  52.22753534]])]"
      ]
     },
     "execution_count": 12,
     "metadata": {},
     "output_type": "execute_result"
    }
   ],
   "source": [
    "clf.coefs_"
   ]
  },
  {
   "cell_type": "code",
   "execution_count": 13,
   "metadata": {
    "ExecuteTime": {
     "end_time": "2018-07-19T04:58:20.060969Z",
     "start_time": "2018-07-19T04:58:19.993009Z"
    }
   },
   "outputs": [
    {
     "data": {
      "text/plain": [
       "array([0, 1, 2])"
      ]
     },
     "execution_count": 13,
     "metadata": {},
     "output_type": "execute_result"
    }
   ],
   "source": [
    "clf.classes_"
   ]
  },
  {
   "cell_type": "code",
   "execution_count": 14,
   "metadata": {
    "ExecuteTime": {
     "end_time": "2018-07-19T04:58:20.789972Z",
     "start_time": "2018-07-19T04:58:20.063717Z"
    }
   },
   "outputs": [
    {
     "name": "stdout",
     "output_type": "stream",
     "text": [
      "[0 0 2 1 2 2 2 0 2 2 0 1 2 1 0 2 1 1 2 0 1 0 2 2 2 1 1 2 2 1 2 2 2 0 2 0 0\n",
      " 1 1 0 1 1 1 0 1]\n",
      "Accuracy: 0.93\n",
      "[1 1 0 1 0 1 0 2 1 1 0 1 0 1 2 2 2 1 0 0 0 1 2 2 0 2 0 0 2 2 1 2 0 2 1 1 1\n",
      " 2 1 1 1 0 1 0 0]\n",
      "Accuracy: 0.96\n",
      "[1 0 2 0 2 0 2 1 1 1 2 1 0 0 1 1 1 0 0 1 2 2 1 2 1 2 0 2 1 0 2 0 0 2 0 2 1\n",
      " 0 1 1 1 0 2 1 2]\n",
      "Accuracy: 0.96\n",
      "[0 2 2 0 2 0 1 1 2 2 0 2 1 1 1 0 1 2 1 0 0 1 1 2 0 0 1 2 2 1 1 2 1 1 0 2 1\n",
      " 0 0 0 0 1 1 2 2]\n",
      "Accuracy: 0.96\n",
      "[1 0 0 0 1 0 2 2 1 2 0 0 1 2 1 1 2 0 0 2 2 0 0 1 0 2 1 2 2 0 2 1 0 2 2 0 0\n",
      " 2 0 2 0 2 0 2 0]\n",
      "Accuracy: 0.91\n",
      "[0 1 0 2 2 2 1 0 2 1 0 1 1 1 0 1 0 2 1 2 2 2 1 0 2 1 2 1 1 0 0 0 2 2 1 0 0\n",
      " 1 0 2 0 1 2 2 1]\n",
      "Accuracy: 0.98\n",
      "[0 0 1 0 2 1 0 2 1 1 2 2 1 0 0 2 2 2 1 2 1 1 0 0 0 2 2 1 1 0 1 0 0 0 2 0 0\n",
      " 2 2 1 2 0 0 0 2]\n",
      "Accuracy: 0.98\n",
      "[0 1 2 0 1 2 2 0 2 2 1 0 1 1 0 1 0 1 1 1 2 2 0 2 2 1 1 2 0 0 0 2 0 2 2 2 0\n",
      " 1 2 0 0 1 2 2 0]\n",
      "Accuracy: 0.98\n",
      "[2 2 0 2 1 2 1 0 2 1 0 2 1 1 2 2 1 0 0 1 1 2 2 1 0 1 2 2 2 0 0 2 0 2 2 2 0\n",
      " 1 0 1 1 0 1 1 1]\n",
      "Accuracy: 0.96\n",
      "[0 2 2 1 0 0 0 2 0 1 0 2 0 0 1 2 1 1 2 0 1 0 0 0 2 1 0 2 1 0 0 0 0 2 2 0 2\n",
      " 1 0 2 0 0 1 1 0]\n",
      "Accuracy: 0.96\n",
      "[0 1 0 0 1 1 2 0 0 1 2 1 1 1 0 2 1 0 1 2 0 2 2 0 2 1 0 1 2 1 2 1 2 0 1 2 1\n",
      " 1 1 1 0 2 1 0 2]\n",
      "Accuracy: 0.96\n",
      "[1 0 0 2 1 0 2 1 0 0 1 1 2 1 2 1 0 2 0 0 2 2 2 0 0 1 2 0 0 2 0 1 0 0 0 1 2\n",
      " 2 0 2 0 1 1 1 1]\n",
      "Accuracy: 0.96\n",
      "[0 2 2 0 2 1 0 0 1 1 0 1 0 2 2 1 0 1 0 2 1 1 2 2 2 2 1 0 1 2 1 0 1 2 1 1 2\n",
      " 2 0 1 0 0 0 2 2]\n",
      "Accuracy: 0.93\n",
      "[0 2 1 0 2 0 2 0 1 0 0 1 0 0 0 1 0 2 1 1 0 0 2 2 1 2 0 0 0 1 1 0 2 0 1 2 1\n",
      " 2 2 1 0 1 2 2 1]\n",
      "Accuracy: 0.93\n",
      "[1 2 1 1 1 2 2 2 0 2 0 0 0 0 0 0 2 2 2 0 0 1 2 1 2 1 0 1 2 1 1 0 1 0 1 1 1\n",
      " 2 2 2 0 0 2 0 1]\n",
      "Accuracy: 0.98\n",
      "[1 2 0 0 0 0 2 2 1 1 0 2 2 0 2 2 2 1 0 2 0 0 1 0 0 2 1 2 1 2 1 2 2 2 0 0 0\n",
      " 0 0 2 1 1 0 1 1]\n",
      "Accuracy: 0.98\n",
      "[1 2 0 2 2 2 2 2 0 0 1 2 0 2 0 0 2 1 0 2 0 1 2 0 2 1 1 2 1 2 1 2 1 0 1 0 1\n",
      " 1 2 0 0 1 0 2 0]\n",
      "Accuracy: 0.93\n",
      "[1 1 2 1 2 2 2 0 1 2 1 0 1 0 2 2 2 1 2 1 0 1 0 1 2 0 2 0 0 0 1 2 0 1 1 0 0\n",
      " 1 1 1 1 1 0 1 1]\n",
      "Accuracy: 0.98\n",
      "[0 2 2 0 0 2 1 2 0 2 2 2 1 0 0 1 1 2 1 0 1 0 0 0 2 2 2 2 0 0 0 1 1 1 2 2 1\n",
      " 1 0 0 0 2 0 0 0]\n",
      "Accuracy: 0.98\n",
      "[0 1 1 2 1 2 1 1 0 0 1 2 2 1 2 1 0 1 0 1 1 2 0 2 1 2 2 1 1 0 0 1 0 1 0 0 0\n",
      " 0 0 0 0 1 0 1 2]\n",
      "Accuracy: 0.93\n"
     ]
    }
   ],
   "source": [
    "for trial in range(20):\n",
    "    X_train, X_test, y_train, y_test = train_test_split(X, y, test_size=0.3)\n",
    "    sc = StandardScaler()\n",
    "    sc.fit(X_train)\n",
    "    X_train_std = sc.transform(X_train)\n",
    "    X_test_std = sc.transform(X_test)\n",
    "    clf = MLPClassifier(activation='logistic', alpha=1e-05, batch_size=6, beta_1=0.9,\n",
    "       beta_2=0.999, early_stopping=False, epsilon=1e-08,\n",
    "       hidden_layer_sizes=(7, ), learning_rate='constant',\n",
    "       learning_rate_init=0.001, max_iter=300, momentum=0.9,\n",
    "       nesterovs_momentum=True, power_t=0.5, random_state=1, shuffle=True,\n",
    "       solver='lbfgs', tol=0.0001, validation_fraction=0.1, verbose=False,\n",
    "       warm_start=False)\n",
    "    clf.fit(X_train_std, y_train)\n",
    "    y_pred = clf.predict(X_test_std)\n",
    "    print(y_pred)\n",
    "    print('Accuracy: %.2f' % accuracy_score(y_test, y_pred))"
   ]
  },
  {
   "cell_type": "markdown",
   "metadata": {},
   "source": [
    "As you can see this is performing much better; however a few times the neural netweok is getting caught in the local minima"
   ]
  },
  {
   "cell_type": "code",
   "execution_count": 16,
   "metadata": {
    "ExecuteTime": {
     "end_time": "2018-07-19T04:58:20.892997Z",
     "start_time": "2018-07-19T04:58:20.793838Z"
    }
   },
   "outputs": [],
   "source": [
    "xx, yy, zz, aa = np.mgrid[-0:10:0.5, 0:10:0.5, 0:10:0.5, 0:10:0.5]\n",
    "grid = np.c_[xx.ravel(), yy.ravel(), zz.ravel(), aa.ravel()]\n",
    "probs = clf.predict_proba(grid)[:, 1].reshape(xx.shape)"
   ]
  },
  {
   "cell_type": "code",
   "execution_count": 17,
   "metadata": {
    "ExecuteTime": {
     "end_time": "2018-07-19T04:58:21.620688Z",
     "start_time": "2018-07-19T04:58:20.895223Z"
    }
   },
   "outputs": [
    {
     "data": {
      "image/png": "[encoded data removed]",
      "text/plain": [
       "<Figure size 576x432 with 2 Axes>"
      ]
     },
     "metadata": {},
     "output_type": "display_data"
    }
   ],
   "source": [
    "import matplotlib.pyplot as plt\n",
    "f, ax = plt.subplots(figsize=(8, 6))\n",
    "xx, yy = np.mgrid[-0:10:0.5, 0:10:0.5]\n",
    "contour = ax.contourf(xx, yy, probs[:,:, 0, 0].reshape(20,20), 25, cmap=\"RdYlBu\",\n",
    "                      vmin=0, vmax=1)\n",
    "ax_c = f.colorbar(contour)\n",
    "ax_c.set_label(\"$P(y = 1)$\")\n",
    "ax_c.set_ticks([0, .25, .5, .75, 1])\n",
    "\n",
    "ax.scatter(X_train[:,1], X_train[:, 2], c=y_train[:], s=50,\n",
    "           cmap=\"RdYlBu\", vmin=-.2, vmax=1.2,\n",
    "           edgecolor=\"white\", linewidth=1)\n",
    "plt.show()"
   ]
  },
  {
   "cell_type": "code",
   "execution_count": 18,
   "metadata": {
    "ExecuteTime": {
     "end_time": "2018-07-19T04:58:21.979024Z",
     "start_time": "2018-07-19T04:58:21.627897Z"
    }
   },
   "outputs": [
    {
     "data": {
      "image/png": "[encoded data removed]",
      "text/plain": [
       "<Figure size 576x432 with 1 Axes>"
      ]
     },
     "metadata": {},
     "output_type": "display_data"
    }
   ],
   "source": [
    "\n",
    "# Take the first two features. TODO - Try combinations of two features\n",
    "X = iris.data[:, :2]\n",
    "y = iris.target\n",
    "\n",
    "# we create an instance of MLP and fit out data. We do not scale our\n",
    "# data since we want to plot the vectors\n",
    "models = [clf]\n",
    "models = [clf.fit(X, y) for clf in models]\n",
    "\n",
    "# title for the plots\n",
    "titles = 'Classification with MLP'\n",
    "\n",
    "# Set-up 2x2 grid for plotting.\n",
    "\n",
    "X0, X1 = X[:, 0], X[:, 1]\n",
    "xx, yy = make_meshgrid(X0, X1)\n",
    "\n",
    "\n",
    "f, ax = plt.subplots(figsize=(8, 6))\n",
    "\n",
    "plot_contours(ax, clf, xx, yy, cmap=plt.cm.coolwarm, alpha=0.8)\n",
    "ax.scatter(X0, X1, c=y, cmap=plt.cm.coolwarm, s=20, edgecolors='k')\n",
    "ax.set_xlim(xx.min(), xx.max())\n",
    "ax.set_ylim(yy.min(), yy.max())\n",
    "ax.set_xlabel('Sepal length')\n",
    "ax.set_ylabel('Sepal width')\n",
    "ax.set_xticks(())\n",
    "ax.set_yticks(())\n",
    "ax.set_title(titles)\n",
    "\n",
    "plt.show()"
   ]
  },
  {
   "cell_type": "code",
   "execution_count": null,
   "metadata": {},
   "outputs": [],
   "source": []
  }
 ],
 "metadata": {
  "kernelspec": {
   "display_name": "Python 3",
   "language": "python",
   "name": "python3"
  },
  "language_info": {
   "codemirror_mode": {
    "name": "ipython",
    "version": 3
   },
   "file_extension": ".py",
   "mimetype": "text/x-python",
   "name": "python",
   "nbconvert_exporter": "python",
   "pygments_lexer": "ipython3",
   "version": "3.6.5"
  }
 },
 "nbformat": 4,
 "nbformat_minor": 2
}
