{
 "cells": [
  {
   "cell_type": "markdown",
   "metadata": {},
   "source": [
    "# Foundations of Artificial Intelligence and Machine Learning\n",
    "## A Program by IIIT-H and TalentSprint\n",
    "#### To be done in the Lab"
   ]
  },
  {
   "cell_type": "markdown",
   "metadata": {},
   "source": [
    "The objective of this experiment is to understand how to apply Multi layer Perceptron on XOR data."
   ]
  },
  {
   "cell_type": "markdown",
   "metadata": {},
   "source": [
    "Let's try to build a MLP model that will produce the following truth table, called the 'exclusive or' or 'XOR' (either A or B but not both):\n",
    "    \n",
    "    a \tb \ta XOR b\n",
    "    \n",
    "    1 \t1 \t0\n",
    "    \n",
    "    0 \t1 \t1\n",
    "   \n",
    "    1 \t0 \t1\n",
    "    \n",
    "    0 \t0 \t0"
   ]
  },
  {
   "cell_type": "markdown",
   "metadata": {},
   "source": [
    "#### Importing the required packages"
   ]
  },
  {
   "cell_type": "code",
   "execution_count": null,
   "metadata": {
    "ExecuteTime": {
     "end_time": "2018-07-19T04:57:53.731390Z",
     "start_time": "2018-07-19T04:57:48.636136Z"
    }
   },
   "outputs": [],
   "source": [
    "import numpy as np\n",
    "from sklearn.neural_network import MLPClassifier\n",
    "from sklearn.linear_model import Perceptron\n",
    "import matplotlib.pyplot as plt"
   ]
  },
  {
   "cell_type": "markdown",
   "metadata": {},
   "source": [
    "#### Generating the XOR data"
   ]
  },
  {
   "cell_type": "code",
   "execution_count": null,
   "metadata": {
    "ExecuteTime": {
     "end_time": "2018-07-19T04:57:53.740478Z",
     "start_time": "2018-07-19T04:57:53.733323Z"
    }
   },
   "outputs": [],
   "source": [
    "amu = [[0, 0], [1, 1], [1, 0], [0, 1]]\n",
    "samples = []\n",
    "import random\n",
    "import numpy as np\n",
    "for a in amu:\n",
    "    for i in range(30):\n",
    "        samples.append([a[0] + random.random() * 0.4 - 0.2, a[1] + random.random() * 0.4 - 0.2])        \n",
    "samples = np.asarray(samples)\n",
    "samples_plot = np.transpose(samples)\n",
    "labels = np.hstack((np.ones((60,)), np.zeros((60, ))))\n",
    "print(labels)"
   ]
  },
  {
   "cell_type": "markdown",
   "metadata": {},
   "source": [
    "#### Plotting the data"
   ]
  },
  {
   "cell_type": "code",
   "execution_count": null,
   "metadata": {
    "ExecuteTime": {
     "end_time": "2018-07-19T04:57:54.274121Z",
     "start_time": "2018-07-19T04:57:53.742388Z"
    }
   },
   "outputs": [],
   "source": [
    "\n",
    "plt.plot(samples_plot[0][:60], samples_plot[1][:60], \"b.\")\n",
    "plt.plot(samples_plot[0][60:], samples_plot[1][60:], \"r.\")\n",
    "\n",
    "plt.show()"
   ]
  },
  {
   "cell_type": "markdown",
   "metadata": {},
   "source": [
    "#### Applying the MLP"
   ]
  },
  {
   "cell_type": "code",
   "execution_count": null,
   "metadata": {
    "ExecuteTime": {
     "end_time": "2018-07-19T04:57:54.789461Z",
     "start_time": "2018-07-19T04:57:54.276443Z"
    }
   },
   "outputs": [],
   "source": [
    "clf = MLPClassifier(\n",
    "    activation='relu', max_iter=10000, hidden_layer_sizes=(10,))\n",
    "clf.fit(samples, labels)"
   ]
  },
  {
   "cell_type": "markdown",
   "metadata": {},
   "source": [
    "#### Calculating the accuracy and predicting the labels"
   ]
  },
  {
   "cell_type": "code",
   "execution_count": null,
   "metadata": {
    "ExecuteTime": {
     "end_time": "2018-07-19T04:57:54.802173Z",
     "start_time": "2018-07-19T04:57:54.793202Z"
    }
   },
   "outputs": [],
   "source": [
    "print('score:', clf.score(samples, labels))\n",
    "print('predictions:', clf.predict(samples))\n",
    "print('expected:', labels)"
   ]
  },
  {
   "cell_type": "markdown",
   "metadata": {},
   "source": [
    "#### Plotting the data"
   ]
  },
  {
   "cell_type": "code",
   "execution_count": null,
   "metadata": {
    "ExecuteTime": {
     "end_time": "2018-07-19T04:57:55.030243Z",
     "start_time": "2018-07-19T04:57:54.805113Z"
    }
   },
   "outputs": [],
   "source": [
    "xx, yy = np.mgrid[-0.5:1.5:.01, -0.5:1.5:.01]\n",
    "grid = np.c_[xx.ravel(), yy.ravel()]\n",
    "probs = clf.predict_proba(grid)[:, 1].reshape(xx.shape)"
   ]
  },
  {
   "cell_type": "code",
   "execution_count": null,
   "metadata": {
    "ExecuteTime": {
     "end_time": "2018-07-19T04:57:55.653082Z",
     "start_time": "2018-07-19T04:57:55.032156Z"
    }
   },
   "outputs": [],
   "source": [
    "f, ax = plt.subplots(figsize=(8, 6))\n",
    "contour = ax.contourf(xx, yy, probs, 25, cmap=\"RdBu\",\n",
    "                      vmin=0, vmax=1)\n",
    "ax_c = f.colorbar(contour)\n",
    "ax_c.set_label(\"$P(y = 1)$\")\n",
    "ax_c.set_ticks([0, .25, .5, .75, 1])\n",
    "\n",
    "ax.scatter(samples[:,0], samples[:, 1], c=labels[:], s=50,\n",
    "           cmap=\"RdBu\", vmin=-.2, vmax=1.2,\n",
    "           edgecolor=\"white\", linewidth=1)\n",
    "\n",
    "ax.set(aspect=\"equal\",\n",
    "       xlim=(-0.5, 1.5), ylim=(-0.5, 1.5),\n",
    "       xlabel=\"$X_1$\", ylabel=\"$X_2$\")"
   ]
  },
  {
   "cell_type": "code",
   "execution_count": null,
   "metadata": {},
   "outputs": [],
   "source": []
  }
 ],
 "metadata": {
  "kernelspec": {
   "display_name": "Python 3",
   "language": "python",
   "name": "python3"
  },
  "language_info": {
   "codemirror_mode": {
    "name": "ipython",
    "version": 3
   },
   "file_extension": ".py",
   "mimetype": "text/x-python",
   "name": "python",
   "nbconvert_exporter": "python",
   "pygments_lexer": "ipython3",
   "version": "3.6.5"
  }
 },
 "nbformat": 4,
 "nbformat_minor": 2
}
