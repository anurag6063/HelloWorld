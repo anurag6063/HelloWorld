{
 "cells": [
  {
   "cell_type": "code",
   "execution_count": 14,
   "metadata": {},
   "outputs": [],
   "source": [
    "from sklearn.feature_extraction.text import CountVectorizer\n",
    "\n",
    "def getBagOfWords(corpus):\n",
    "#     print(corpus)\n",
    "    vectorize = CountVectorizer(stop_words='english',lowercase=True,analyzer='word',max_features=100)    \n",
    "\n",
    "#     vectorize.fit(corpus)\n",
    "    count_matrix = vectorize.fit_transform(corpus).todense()\n",
    "    \n",
    "    return vectorize.vocabulary_"
   ]
  },
  {
   "cell_type": "code",
   "execution_count": 22,
   "metadata": {},
   "outputs": [],
   "source": [
    "def getBestTags(bow):    \n",
    "    \n",
    "    # sort by frequency\n",
    "    wordsFreq = sorted(bow, key=bow.get,reverse=True)\n",
    "    \n",
    "#     print(wordsFreq)\n",
    "    onlyAlphas = []\n",
    "    \n",
    "    # skip non alphas\n",
    "    [onlyAlphas.append(word) for word in wordsFreq if word.isalpha() and  len(word) > 5]\n",
    "    \n",
    "    print(onlyAlphas[0:10])    \n",
    "    return onlyAlphas[0:10]\n",
    "    "
   ]
  },
  {
   "cell_type": "code",
   "execution_count": 23,
   "metadata": {},
   "outputs": [],
   "source": [
    "# connect to Es and get content and print each \n",
    "\n",
    "from elasticsearch import Elasticsearch"
   ]
  },
  {
   "cell_type": "code",
   "execution_count": 24,
   "metadata": {},
   "outputs": [],
   "source": [
    "es = Elasticsearch(\n",
    "    ['localhost'],\n",
    "    scheme=\"http\",\n",
    "    port=9200,\n",
    ")"
   ]
  },
  {
   "cell_type": "code",
   "execution_count": 25,
   "metadata": {},
   "outputs": [],
   "source": [
    "# source https://marcobonzanini.com/2015/02/02/how-to-query-elasticsearch-with-python/\n",
    "\n",
    "def searchElasticsearchAndTagDoc(term):\n",
    "    \n",
    "    result = es.search(index=\"search_box_v1\", doc_type=\"box_poc\", body={ \"size\": 200,    \"query\": {     \"simple_query_string\": {       \"query\": term,       \"fields\": [\"contentBox\"]     }   } })\n",
    "    for doc in result['hits']['hits']:\n",
    "        #     print( doc['_id'], ' ' , doc['_source']['contentBox'])  \n",
    "        corpus = []\n",
    "        corpus.append(doc['_source']['contentBox'])\n",
    "        getBestTags(getBagOfWords(corpus))"
   ]
  },
  {
   "cell_type": "code",
   "execution_count": 26,
   "metadata": {},
   "outputs": [
    {
     "name": "stdout",
     "output_type": "stream",
     "text": [
      "['wrapped', 'worldwide', 'wireless', 'weighted', 'volume', 'voltage', 'viterbi', 'virtual', 'verified', 'vendor']\n",
      "['wiring', 'wireless', 'warranty', 'warranties', 'volumes', 'voltages', 'voltage', 'versus', 'various', 'variable']\n",
      "['wrapped', 'worldwide', 'wireless', 'weighted', 'volume', 'voltage', 'viterbi', 'virtual', 'verified', 'vendor']\n",
      "['wiring', 'wireless', 'warranty', 'warranties', 'volumes', 'voltages', 'voltage', 'versus', 'various', 'variable']\n",
      "['wiring', 'wireless', 'warranty', 'warranties', 'volumes', 'voltages', 'voltage', 'versus', 'various', 'variable']\n",
      "['wrapped', 'worldwide', 'wireless', 'weighted', 'volume', 'voltage', 'viterbi', 'virtual', 'verified', 'vendor']\n"
     ]
    }
   ],
   "source": [
    "searchElasticsearchAndTagDoc(\"h\")"
   ]
  },
  {
   "cell_type": "code",
   "execution_count": 28,
   "metadata": {},
   "outputs": [
    {
     "name": "stdout",
     "output_type": "stream",
     "text": [
      "['withair', 'wheezing', 'weaving', 'volcanic', 'volatile', 'visibility', 'ventilation', 'ventilatedkitchen', 'vehicles', 'vehicle']\n"
     ]
    },
    {
     "data": {
      "text/plain": [
       "['withair',\n",
       " 'wheezing',\n",
       " 'weaving',\n",
       " 'volcanic',\n",
       " 'volatile',\n",
       " 'visibility',\n",
       " 'ventilation',\n",
       " 'ventilatedkitchen',\n",
       " 'vehicles',\n",
       " 'vehicle']"
      ]
     },
     "execution_count": 28,
     "metadata": {},
     "output_type": "execute_result"
    }
   ],
   "source": [
    "bow = getBagOfWords(['''and fertilizers, pollute water bodies. Effluents from tanneries contain many harmful chemicalsand emit foul smell. These are only a few examples which show how human activitiespollute the environment. Pollution may be defined as addition of undesirable material intothe environment as a result of human activities. The agents which cause environmentalpollution are called pollutants. A pollutants may be defined as a physical, chemical orbiological substance unintentionally released into the environment which is directly orindirectly harmful to humans and other living organisms. 10.2 TYPES OF POLLUTIONPollution may be of the following types:• Air pollution• Noise pollution• Water pollution• Soil pollution• Thermal pollution• Radiation pollution 10.3 AIR POLLUTIONAir pollution is a result of industrial and certain domestic activity. An ever increasing use offossil fuels in power plants, industries, transportation, mining, construction of buildings,stone quarries had led to air pollution. Air pollution may be defined as the presence ofany solid, liquid or gaseous substance including noise and radioactive radiation in theatmosphere in such concentratiEnvironmental Science Senior Secondary CourseNotes166MODULE - 4ContemporaryEnvironmental Issues10.3.1 Particulate pollutantsParticulate matter suspended in air are dust and soot released from the industrial chimneys.Their size ranges from 0.001 to 500 µm in diameter. Particles less than 10µm float andmove freely with the air current. Particles which are more than 10µm in diameter settledown. Particles less than 0.02 µm form persisent aerosols. Major source of SPM (suspendedparticulate matter) are vehicles, power plants, construction activities, oil refinery, railwayyard, market place, industries, etc.• Fly ashFly ash is ejected mostly by thermal power plants as by products of coal burning operations.Fly ash pollutes air and water and may cause heavy metal pollution in water bodies. Flyash affects vegetation as a result of its direct deposition on leaf surfaces or indirectlythrough its deposition on soil. Fly ash is now being used for making bricks and as a land fillmaterial.• Lead and other metals particlesTetraethyl lead (TEL) is used as an anti-knock agent in petrol for smooth and easy runningof vehicles. The lead particles coming out from the exhaust pipes of vehicles is mixed withair. If inhaled it produces injurious effects on kidney and liver and interferes with developmentof red blood cells. Lead mixed with water and food can create cumulative poisoning. Ithas long term effects on children as it lowers intelligence.Oxides of iron, aluminum, manganese, magnesium, zinc and other metals have adverseeffect due to deposition of dust on plants during mining operations and metallurgicalprocesses. They create physiological, biochemical and developmental disorders in plantsand also contribute towards reproductive failure in plants.Table 10.2: Annual average concentration of pollutants in ambient air inresidential and industrial areas (year 2000) mg/m3 in 24 hoursSPM permissible- residential 140 – 200 mg/m3, industrial 360 – 500 mg/m3City Residential area Industrial areaAgra 349 388Bhopal 185 160Delhi 368 372Kanpur 348 444Kolkata 218 405Nagpur 140 157167Environmental PollutionNotesMODULE - 4ContemporaryEnvironmental Issues 10.3.2 Gaseous pollutantsPower plants, industries, different types of vehicles – both private and commercial usepetrol, diesel as fuel and release gaseous pollutants such as carbon dioxide, oxides ofnitrogen and sulphur dioxide along with particulate matter in the form of smoke. All ofthese have harmful effects on plants and humans. Table 10.3 lists some of these pollutants,their sources and harmful effects.Table 10.3: Gaseous air pollutants: their sources and effectsPollutant Source Harmful effectCarbon compound Automobile exhaust • Respiratory problems(CO and CO2) burning of wood and coal • Green house effectSulphur compounds Power plants and refineries • Respiratory problems in humans(SO2 and H2S) volcanic eruptions • Loss of chlorophyll in plants (chlorosis)•Acid rainNitrogen Compound Motor vehicle exhaust • Irritation in eyes and lungs(NO and N2O) atmospheric reaction • Low productivity in plants•Acid rain damages material (metals and stone)Hydrocarbons Automobiles and • Respiratory problem(benzene, ethylene) petroleum industries • Cancer causing propertiesSPM (Suspended Thermal power plants, • Poor visibility, breathing problemsParticulate Matter) Construction activities, • Lead interfers with the development(Any soild and liquid) metalurgical processes of red blood diseases and cancer.particles suspended and automobiles • Smoge (skoke & fog) formation leadsin the air, (flush, dust, to poor visibility and aggravateslead) asthma in patientsFibres (Cotton, wool) Textiles and carpet weaving • Lung disordersindustriesFig. 10.1: A chimney billowing smoke- Diesel vehicle ( bus/truck) showingexhaust smokeEnvironmental Science Senior Secondary CourseNotes168MODULE - 4ContemporaryEnvironmental Issues10.3.3 Prevention and control of air pollution(i) Indoor air pollutionPoor ventilation due to faulty design of buildings leads to pollution of the confined space.Paints, carpets, furniture, etc. in rooms may give out volatile organic compounds (VOCs).Use of disinfectants, fumigants, etc. may release hazardous gases. In hospitals, pathogenspresent in waste remain in the air in the form of spores. This can result in hospital acquiredinfections and is an occupational health hazard. In congested areas, slums and rural areasburning of firewood and biomass results in lot of smoke. Children and ladies exposed tosmoke may suffer from acute respiratory problems which include running nose, cough,sore throat, lung infection, asthama, difficulty in breathing, noisy respiration and wheezing.(ii) Prevention and control of indoor air pollutionUse of wood and dung cakes should be replaced by cleaner fuels such as biogas, keroseneor electricity. But supply of electricity is limited. Similarly kerosene is also limited. Improvedstoves for looking like smokeless chullahs have high thermal efficiency and reduced emissionof pollutants including smoke. The house designs should incorporate a well ventilatedkitchen. Use of biogas and CNG (Compressed Natural Gas) need to be encouraged.Those species of trees such as baval (Acacia nilotica) which are least smoky should beplanted and used. Charcoal is a comparatively cleaner fuel. Indoor pollution due to decayof exposed kitchen waste can be reduced by covering the waste properly. Segregation ofwaste, pretreatment at source, sterilization of rooms will help in checking indoor air pollution.'''])\n",
    "\n",
    "getBestTags(bow)\n"
   ]
  },
  {
   "cell_type": "code",
   "execution_count": 26,
   "metadata": {},
   "outputs": [
    {
     "data": {
      "text/plain": [
       "{'123': 0}"
      ]
     },
     "execution_count": 26,
     "metadata": {},
     "output_type": "execute_result"
    }
   ],
   "source": [
    "getBagOfWords([\"123\"])"
   ]
  },
  {
   "cell_type": "code",
   "execution_count": 80,
   "metadata": {},
   "outputs": [],
   "source": [
    "vectorize = CountVectorizer(stop_words='english',lowercase=True,analyzer='word',ngram_range=(1,2),max_features=10)   "
   ]
  },
  {
   "cell_type": "code",
   "execution_count": 81,
   "metadata": {},
   "outputs": [],
   "source": [
    "count_matrix = vectorize.fit_transform([\"hey love is a beautiful thing. love is love\"])"
   ]
  },
  {
   "cell_type": "code",
   "execution_count": 92,
   "metadata": {},
   "outputs": [
    {
     "data": {
      "text/plain": [
       "{'hate': 2,\n",
       " 'speech': 8,\n",
       " 'concept': 0,\n",
       " 'love': 4,\n",
       " 'peach': 6,\n",
       " 'hate speech': 3,\n",
       " 'speech concept': 9,\n",
       " 'concept love': 1,\n",
       " 'love peach': 5,\n",
       " 'peach spread': 7}"
      ]
     },
     "execution_count": 92,
     "metadata": {},
     "output_type": "execute_result"
    }
   ],
   "source": [
    "\n",
    "vectorize.fit([\"hate speech are against the concept of love and peach. spread love\"])\n",
    "vectorize.vocabulary_"
   ]
  },
  {
   "cell_type": "code",
   "execution_count": 95,
   "metadata": {},
   "outputs": [
    {
     "data": {
      "text/plain": [
       "{'hate': 2,\n",
       " 'speech': 8,\n",
       " 'concept': 0,\n",
       " 'love': 4,\n",
       " 'peach': 6,\n",
       " 'hate speech': 3,\n",
       " 'speech concept': 9,\n",
       " 'concept love': 1,\n",
       " 'love peach': 5,\n",
       " 'peach spread': 7}"
      ]
     },
     "execution_count": 95,
     "metadata": {},
     "output_type": "execute_result"
    }
   ],
   "source": [
    "vectorize.vocabulary_"
   ]
  },
  {
   "cell_type": "code",
   "execution_count": 94,
   "metadata": {},
   "outputs": [
    {
     "data": {
      "text/plain": [
       "<1x10 sparse matrix of type '<class 'numpy.int64'>'\n",
       "\twith 1 stored elements in Compressed Sparse Row format>"
      ]
     },
     "execution_count": 94,
     "metadata": {},
     "output_type": "execute_result"
    }
   ],
   "source": [
    "vectorize.transform([\"love\"])"
   ]
  },
  {
   "cell_type": "code",
   "execution_count": 83,
   "metadata": {},
   "outputs": [
    {
     "ename": "ValueError",
     "evalue": "Wrong number of items passed 9, placement implies 5",
     "output_type": "error",
     "traceback": [
      "\u001b[1;31m---------------------------------------------------------------------------\u001b[0m",
      "\u001b[1;31mValueError\u001b[0m                                Traceback (most recent call last)",
      "\u001b[1;32m<ipython-input-83-dbaf42405b5a>\u001b[0m in \u001b[0;36m<module>\u001b[1;34m()\u001b[0m\n\u001b[0;32m      1\u001b[0m d = pd.Series(count_matrix.toarray().flatten(),\n\u001b[1;32m----> 2\u001b[1;33m             index = features ).sort_values(ascending=False)\n\u001b[0m\u001b[0;32m      3\u001b[0m \u001b[1;33m\u001b[0m\u001b[0m\n\u001b[0;32m      4\u001b[0m ax = d[:10].plot(kind='bar', figsize=(10,6), width=.8, fontsize=14, rot=45,\n\u001b[0;32m      5\u001b[0m             title='Barack Obama Wikipedia Article Word Counts')\n",
      "\u001b[1;32mc:\\users\\anuryadav\\appdata\\local\\programs\\python\\python36\\lib\\site-packages\\pandas\\core\\series.py\u001b[0m in \u001b[0;36m__init__\u001b[1;34m(self, data, index, dtype, name, copy, fastpath)\u001b[0m\n\u001b[0;32m    264\u001b[0m                                        raise_cast_failure=True)\n\u001b[0;32m    265\u001b[0m \u001b[1;33m\u001b[0m\u001b[0m\n\u001b[1;32m--> 266\u001b[1;33m                 \u001b[0mdata\u001b[0m \u001b[1;33m=\u001b[0m \u001b[0mSingleBlockManager\u001b[0m\u001b[1;33m(\u001b[0m\u001b[0mdata\u001b[0m\u001b[1;33m,\u001b[0m \u001b[0mindex\u001b[0m\u001b[1;33m,\u001b[0m \u001b[0mfastpath\u001b[0m\u001b[1;33m=\u001b[0m\u001b[1;32mTrue\u001b[0m\u001b[1;33m)\u001b[0m\u001b[1;33m\u001b[0m\u001b[0m\n\u001b[0m\u001b[0;32m    267\u001b[0m \u001b[1;33m\u001b[0m\u001b[0m\n\u001b[0;32m    268\u001b[0m         \u001b[0mgeneric\u001b[0m\u001b[1;33m.\u001b[0m\u001b[0mNDFrame\u001b[0m\u001b[1;33m.\u001b[0m\u001b[0m__init__\u001b[0m\u001b[1;33m(\u001b[0m\u001b[0mself\u001b[0m\u001b[1;33m,\u001b[0m \u001b[0mdata\u001b[0m\u001b[1;33m,\u001b[0m \u001b[0mfastpath\u001b[0m\u001b[1;33m=\u001b[0m\u001b[1;32mTrue\u001b[0m\u001b[1;33m)\u001b[0m\u001b[1;33m\u001b[0m\u001b[0m\n",
      "\u001b[1;32mc:\\users\\anuryadav\\appdata\\local\\programs\\python\\python36\\lib\\site-packages\\pandas\\core\\internals.py\u001b[0m in \u001b[0;36m__init__\u001b[1;34m(self, block, axis, do_integrity_check, fastpath)\u001b[0m\n\u001b[0;32m   4400\u001b[0m         \u001b[1;32mif\u001b[0m \u001b[1;32mnot\u001b[0m \u001b[0misinstance\u001b[0m\u001b[1;33m(\u001b[0m\u001b[0mblock\u001b[0m\u001b[1;33m,\u001b[0m \u001b[0mBlock\u001b[0m\u001b[1;33m)\u001b[0m\u001b[1;33m:\u001b[0m\u001b[1;33m\u001b[0m\u001b[0m\n\u001b[0;32m   4401\u001b[0m             block = make_block(block, placement=slice(0, len(axis)), ndim=1,\n\u001b[1;32m-> 4402\u001b[1;33m                                fastpath=True)\n\u001b[0m\u001b[0;32m   4403\u001b[0m \u001b[1;33m\u001b[0m\u001b[0m\n\u001b[0;32m   4404\u001b[0m         \u001b[0mself\u001b[0m\u001b[1;33m.\u001b[0m\u001b[0mblocks\u001b[0m \u001b[1;33m=\u001b[0m \u001b[1;33m[\u001b[0m\u001b[0mblock\u001b[0m\u001b[1;33m]\u001b[0m\u001b[1;33m\u001b[0m\u001b[0m\n",
      "\u001b[1;32mc:\\users\\anuryadav\\appdata\\local\\programs\\python\\python36\\lib\\site-packages\\pandas\\core\\internals.py\u001b[0m in \u001b[0;36mmake_block\u001b[1;34m(values, placement, klass, ndim, dtype, fastpath)\u001b[0m\n\u001b[0;32m   2955\u001b[0m                      placement=placement, dtype=dtype)\n\u001b[0;32m   2956\u001b[0m \u001b[1;33m\u001b[0m\u001b[0m\n\u001b[1;32m-> 2957\u001b[1;33m     \u001b[1;32mreturn\u001b[0m \u001b[0mklass\u001b[0m\u001b[1;33m(\u001b[0m\u001b[0mvalues\u001b[0m\u001b[1;33m,\u001b[0m \u001b[0mndim\u001b[0m\u001b[1;33m=\u001b[0m\u001b[0mndim\u001b[0m\u001b[1;33m,\u001b[0m \u001b[0mfastpath\u001b[0m\u001b[1;33m=\u001b[0m\u001b[0mfastpath\u001b[0m\u001b[1;33m,\u001b[0m \u001b[0mplacement\u001b[0m\u001b[1;33m=\u001b[0m\u001b[0mplacement\u001b[0m\u001b[1;33m)\u001b[0m\u001b[1;33m\u001b[0m\u001b[0m\n\u001b[0m\u001b[0;32m   2958\u001b[0m \u001b[1;33m\u001b[0m\u001b[0m\n\u001b[0;32m   2959\u001b[0m \u001b[1;31m# TODO: flexible with index=None and/or items=None\u001b[0m\u001b[1;33m\u001b[0m\u001b[1;33m\u001b[0m\u001b[0m\n",
      "\u001b[1;32mc:\\users\\anuryadav\\appdata\\local\\programs\\python\\python36\\lib\\site-packages\\pandas\\core\\internals.py\u001b[0m in \u001b[0;36m__init__\u001b[1;34m(self, values, placement, ndim, fastpath)\u001b[0m\n\u001b[0;32m    118\u001b[0m             raise ValueError('Wrong number of items passed %d, placement '\n\u001b[0;32m    119\u001b[0m                              'implies %d' % (len(self.values),\n\u001b[1;32m--> 120\u001b[1;33m                                              len(self.mgr_locs)))\n\u001b[0m\u001b[0;32m    121\u001b[0m \u001b[1;33m\u001b[0m\u001b[0m\n\u001b[0;32m    122\u001b[0m     \u001b[1;33m@\u001b[0m\u001b[0mproperty\u001b[0m\u001b[1;33m\u001b[0m\u001b[0m\n",
      "\u001b[1;31mValueError\u001b[0m: Wrong number of items passed 9, placement implies 5"
     ]
    }
   ],
   "source": [
    "d = pd.Series(count_matrix.toarray().flatten(),\n",
    "            index = features ).sort_values(ascending=False)\n",
    "\n",
    "ax = d[:10].plot(kind='bar', figsize=(10,6), width=.8, fontsize=14, rot=45,\n",
    "            title='Barack Obama Wikipedia Article Word Counts')\n",
    "ax.title.set_size(18)"
   ]
  },
  {
   "cell_type": "code",
   "execution_count": null,
   "metadata": {},
   "outputs": [],
   "source": []
  },
  {
   "cell_type": "code",
   "execution_count": 40,
   "metadata": {},
   "outputs": [],
   "source": [
    "import pandas as pd\n",
    "import numpy as np\n",
    "%matplotlib inline"
   ]
  },
  {
   "cell_type": "code",
   "execution_count": 43,
   "metadata": {},
   "outputs": [],
   "source": [
    "pd.Series?\n"
   ]
  },
  {
   "cell_type": "code",
   "execution_count": 49,
   "metadata": {},
   "outputs": [
    {
     "data": {
      "text/plain": [
       "array([1, 1, 3, 1], dtype=int64)"
      ]
     },
     "execution_count": 49,
     "metadata": {},
     "output_type": "execute_result"
    }
   ],
   "source": [
    "count_matrix.toarray().flatten()"
   ]
  },
  {
   "cell_type": "code",
   "execution_count": null,
   "metadata": {},
   "outputs": [],
   "source": [
    "import "
   ]
  },
  {
   "cell_type": "code",
   "execution_count": 51,
   "metadata": {},
   "outputs": [],
   "source": [
    "tf_ids_vetorizer = TfidfVectorizer()"
   ]
  },
  {
   "cell_type": "code",
   "execution_count": 50,
   "metadata": {},
   "outputs": [],
   "source": [
    "from sklearn.feature_extraction.text import TfidfVectorizer"
   ]
  },
  {
   "cell_type": "code",
   "execution_count": 52,
   "metadata": {},
   "outputs": [
    {
     "data": {
      "text/plain": [
       "<1x5 sparse matrix of type '<class 'numpy.float64'>'\n",
       "\twith 5 stored elements in Compressed Sparse Row format>"
      ]
     },
     "execution_count": 52,
     "metadata": {},
     "output_type": "execute_result"
    }
   ],
   "source": [
    "tf_ids_vetorizer.fit_transform([\"hey love is a beautiful thing. love is love \"])"
   ]
  },
  {
   "cell_type": "code",
   "execution_count": 59,
   "metadata": {},
   "outputs": [],
   "source": [
    "tfidf_matrix=features = tf_ids_vetorizer.get_feature_names()"
   ]
  },
  {
   "cell_type": "code",
   "execution_count": 60,
   "metadata": {},
   "outputs": [
    {
     "data": {
      "text/plain": [
       "{'hey': 1, 'love': 3, 'is': 2, 'beautiful': 0, 'thing': 4}"
      ]
     },
     "execution_count": 60,
     "metadata": {},
     "output_type": "execute_result"
    }
   ],
   "source": [
    "tf_ids_vetorizer.vocabulary_"
   ]
  },
  {
   "cell_type": "code",
   "execution_count": 61,
   "metadata": {},
   "outputs": [
    {
     "ename": "NameError",
     "evalue": "name 'wiki_data' is not defined",
     "output_type": "error",
     "traceback": [
      "\u001b[1;31m---------------------------------------------------------------------------\u001b[0m",
      "\u001b[1;31mNameError\u001b[0m                                 Traceback (most recent call last)",
      "\u001b[1;32m<ipython-input-61-c9c50e2f070b>\u001b[0m in \u001b[0;36m<module>\u001b[1;34m()\u001b[0m\n\u001b[1;32m----> 1\u001b[1;33m \u001b[0mrow\u001b[0m \u001b[1;33m=\u001b[0m \u001b[0mwiki_data\u001b[0m\u001b[1;33m.\u001b[0m\u001b[0mindex\u001b[0m\u001b[1;33m.\u001b[0m\u001b[0mget_loc\u001b[0m\u001b[1;33m(\u001b[0m\u001b[0mname\u001b[0m\u001b[1;33m)\u001b[0m\u001b[1;33m\u001b[0m\u001b[0m\n\u001b[0m",
      "\u001b[1;31mNameError\u001b[0m: name 'wiki_data' is not defined"
     ]
    }
   ],
   "source": [
    "row = wiki_data.index.get_loc(name)"
   ]
  },
  {
   "cell_type": "code",
   "execution_count": 64,
   "metadata": {},
   "outputs": [
    {
     "ename": "AttributeError",
     "evalue": "'list' object has no attribute 'getrow'",
     "output_type": "error",
     "traceback": [
      "\u001b[1;31m---------------------------------------------------------------------------\u001b[0m",
      "\u001b[1;31mAttributeError\u001b[0m                            Traceback (most recent call last)",
      "\u001b[1;32m<ipython-input-64-bf2ba31e14b1>\u001b[0m in \u001b[0;36m<module>\u001b[1;34m()\u001b[0m\n\u001b[1;32m----> 1\u001b[1;33m \u001b[0md\u001b[0m \u001b[1;33m=\u001b[0m \u001b[0mpd\u001b[0m\u001b[1;33m.\u001b[0m\u001b[0mSeries\u001b[0m\u001b[1;33m(\u001b[0m\u001b[0mtfidf_matrix\u001b[0m\u001b[1;33m.\u001b[0m\u001b[0mgetrow\u001b[0m\u001b[1;33m(\u001b[0m\u001b[0mrow\u001b[0m\u001b[1;33m)\u001b[0m\u001b[1;33m.\u001b[0m\u001b[0mflatten\u001b[0m\u001b[1;33m(\u001b[0m\u001b[1;33m)\u001b[0m\u001b[1;33m)\u001b[0m\u001b[1;33m.\u001b[0m\u001b[0msort_values\u001b[0m\u001b[1;33m(\u001b[0m\u001b[0mascending\u001b[0m\u001b[1;33m=\u001b[0m\u001b[1;32mFalse\u001b[0m\u001b[1;33m)\u001b[0m\u001b[1;33m\u001b[0m\u001b[0m\n\u001b[0m\u001b[0;32m      2\u001b[0m \u001b[1;33m\u001b[0m\u001b[0m\n\u001b[0;32m      3\u001b[0m ax = d[:10].plot(kind='bar', title='Barack Obama Wikipedia Article Word TF-IDF Values',\n\u001b[0;32m      4\u001b[0m             figsize=(10,6), width=.8, fontsize=14, rot=45 )\n\u001b[0;32m      5\u001b[0m \u001b[0max\u001b[0m\u001b[1;33m.\u001b[0m\u001b[0mtitle\u001b[0m\u001b[1;33m.\u001b[0m\u001b[0mset_size\u001b[0m\u001b[1;33m(\u001b[0m\u001b[1;36m20\u001b[0m\u001b[1;33m)\u001b[0m\u001b[1;33m\u001b[0m\u001b[0m\n",
      "\u001b[1;31mAttributeError\u001b[0m: 'list' object has no attribute 'getrow'"
     ]
    }
   ],
   "source": [
    "d = pd.Series(tfidf_matrix.getrow(row).flatten()).sort_values(ascending=False)\n",
    "\n",
    "ax = d[:10].plot(kind='bar', title='Barack Obama Wikipedia Article Word TF-IDF Values',\n",
    "            figsize=(10,6), width=.8, fontsize=14, rot=45 )\n",
    "ax.title.set_size(20)"
   ]
  },
  {
   "cell_type": "code",
   "execution_count": null,
   "metadata": {},
   "outputs": [],
   "source": []
  }
 ],
 "metadata": {
  "kernelspec": {
   "display_name": "Python 3",
   "language": "python",
   "name": "python3"
  },
  "language_info": {
   "codemirror_mode": {
    "name": "ipython",
    "version": 3
   },
   "file_extension": ".py",
   "mimetype": "text/x-python",
   "name": "python",
   "nbconvert_exporter": "python",
   "pygments_lexer": "ipython3",
   "version": "3.6.4"
  }
 },
 "nbformat": 4,
 "nbformat_minor": 2
}
