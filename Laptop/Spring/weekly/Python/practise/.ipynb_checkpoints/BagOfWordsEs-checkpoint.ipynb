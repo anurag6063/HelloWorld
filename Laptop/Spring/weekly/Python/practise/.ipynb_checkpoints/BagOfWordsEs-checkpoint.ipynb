{
 "cells": [
  {
   "cell_type": "code",
   "execution_count": 19,
   "metadata": {},
   "outputs": [],
   "source": [
    "from sklearn.feature_extraction.text import CountVectorizer\n",
    "\n",
    "def getBagOfWords(corpus):\n",
    "    print(corpus)\n",
    "    \n",
    "    vectorize = CountVectorizer(stop_words='english',lowercase=True,analyzer='word')    \n",
    "    vectorize.fit_transform(corpus).todense()\n",
    "    \n",
    "    return vectorize.vocabulary_"
   ]
  },
  {
   "cell_type": "code",
   "execution_count": 17,
   "metadata": {},
   "outputs": [],
   "source": [
    "def getBestTags(bow):    \n",
    "    \n",
    "    # sort by frequency\n",
    "    wordsFreq = sorted(bow, key=bow.get,reverse=True)\n",
    "    \n",
    "#     print(wordsFreq)\n",
    "    onlyAlphas = []\n",
    "    \n",
    "    # skip non alphas\n",
    "    [onlyAlphas.append(word) for word in wordsFreq if word.isalpha()]\n",
    "    \n",
    "    print(onlyAlphas[0:5])    \n",
    "    return onlyAlphas[0:5]\n",
    "    "
   ]
  },
  {
   "cell_type": "code",
   "execution_count": 18,
   "metadata": {},
   "outputs": [
    {
     "name": "stdout",
     "output_type": "stream",
     "text": [
      "['Chapter 2, Getting Started, on page 24 shows how to install Groovy, how to compile Groovy code, and how to Groovy-enable a text editor or IDE. Chapter 3, New to Groovy, on page 41 is a “red pill” chapter, ']\n"
     ]
    },
    {
     "ename": "AttributeError",
     "evalue": "'CountVectorizer' object has no attribute 'vocabulary_'",
     "output_type": "error",
     "traceback": [
      "\u001b[1;31m---------------------------------------------------------------------------\u001b[0m",
      "\u001b[1;31mAttributeError\u001b[0m                            Traceback (most recent call last)",
      "\u001b[1;32m<ipython-input-18-46f8533c7663>\u001b[0m in \u001b[0;36m<module>\u001b[1;34m()\u001b[0m\n\u001b[0;32m      1\u001b[0m \u001b[1;31m# get Bag of word representation\u001b[0m\u001b[1;33m\u001b[0m\u001b[1;33m\u001b[0m\u001b[0m\n\u001b[1;32m----> 2\u001b[1;33m \u001b[0mbow\u001b[0m \u001b[1;33m=\u001b[0m \u001b[0mgetBagOfWords\u001b[0m\u001b[1;33m(\u001b[0m\u001b[1;33m[\u001b[0m\u001b[1;34m\"Chapter 2, Getting Started, on page 24 shows how to install Groovy, how to compile Groovy code, and how to Groovy-enable a text editor or IDE. Chapter 3, New to Groovy, on page 41 is a “red pill” chapter, \"\u001b[0m\u001b[1;33m]\u001b[0m\u001b[1;33m)\u001b[0m\u001b[1;33m\u001b[0m\u001b[0m\n\u001b[0m",
      "\u001b[1;32m<ipython-input-16-ca1840625239>\u001b[0m in \u001b[0;36mgetBagOfWords\u001b[1;34m(corpus)\u001b[0m\n\u001b[0;32m      5\u001b[0m \u001b[1;33m\u001b[0m\u001b[0m\n\u001b[0;32m      6\u001b[0m     \u001b[0mvectorize\u001b[0m \u001b[1;33m=\u001b[0m \u001b[0mCountVectorizer\u001b[0m\u001b[1;33m(\u001b[0m\u001b[0mstop_words\u001b[0m\u001b[1;33m=\u001b[0m\u001b[1;34m'english'\u001b[0m\u001b[1;33m)\u001b[0m\u001b[1;33m\u001b[0m\u001b[0m\n\u001b[1;32m----> 7\u001b[1;33m     \u001b[1;32mreturn\u001b[0m \u001b[0mvectorize\u001b[0m\u001b[1;33m.\u001b[0m\u001b[0mvocabulary_\u001b[0m\u001b[1;33m\u001b[0m\u001b[0m\n\u001b[0m",
      "\u001b[1;31mAttributeError\u001b[0m: 'CountVectorizer' object has no attribute 'vocabulary_'"
     ]
    }
   ],
   "source": [
    "# get Bag of word representation \n",
    "bow = getBagOfWords([\"Chapter 2, Getting Started, on page 24 shows how to install Groovy, how to compile Groovy code, and how to Groovy-enable a text editor or IDE. Chapter 3, New to Groovy, on page 41 is a “red pill” chapter, \"])"
   ]
  },
  {
   "cell_type": "code",
   "execution_count": 15,
   "metadata": {},
   "outputs": [
    {
     "name": "stdout",
     "output_type": "stream",
     "text": [
      "['text', 'started', 'shows', 'red', 'pill']\n"
     ]
    },
    {
     "data": {
      "text/plain": [
       "['text', 'started', 'shows', 'red', 'pill']"
      ]
     },
     "execution_count": 15,
     "metadata": {},
     "output_type": "execute_result"
    }
   ],
   "source": [
    "# get only alphabetic and then the most 5 occuring words\n",
    "getBestTags(bow)"
   ]
  },
  {
   "cell_type": "code",
   "execution_count": 11,
   "metadata": {},
   "outputs": [
    {
     "data": {
      "text/plain": [
       "{'chapter': 2,\n",
       " 'getting': 7,\n",
       " 'started': 16,\n",
       " 'page': 12,\n",
       " '24': 0,\n",
       " 'shows': 15,\n",
       " 'install': 10,\n",
       " 'groovy': 8,\n",
       " 'compile': 4,\n",
       " 'code': 3,\n",
       " 'enable': 6,\n",
       " 'text': 17,\n",
       " 'editor': 5,\n",
       " 'ide': 9,\n",
       " 'new': 11,\n",
       " '41': 1,\n",
       " 'red': 14,\n",
       " 'pill': 13}"
      ]
     },
     "execution_count": 11,
     "metadata": {},
     "output_type": "execute_result"
    }
   ],
   "source": [
    "bow"
   ]
  },
  {
   "cell_type": "code",
   "execution_count": null,
   "metadata": {},
   "outputs": [],
   "source": []
  }
 ],
 "metadata": {
  "kernelspec": {
   "display_name": "Python 3",
   "language": "python",
   "name": "python3"
  },
  "language_info": {
   "codemirror_mode": {
    "name": "ipython",
    "version": 3
   },
   "file_extension": ".py",
   "mimetype": "text/x-python",
   "name": "python",
   "nbconvert_exporter": "python",
   "pygments_lexer": "ipython3",
   "version": "3.6.4"
  }
 },
 "nbformat": 4,
 "nbformat_minor": 2
}
