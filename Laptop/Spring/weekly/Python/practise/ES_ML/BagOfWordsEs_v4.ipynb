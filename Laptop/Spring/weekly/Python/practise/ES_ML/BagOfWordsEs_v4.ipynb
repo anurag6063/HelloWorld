{
 "cells": [
  {
   "cell_type": "code",
   "execution_count": 1,
   "metadata": {},
   "outputs": [],
   "source": [
    "from sklearn.feature_extraction.text import CountVectorizer\n",
    "\n",
    "def getBagOfWords(corpus):\n",
    "#     print(corpus)\n",
    "    vectorize = CountVectorizer(stop_words='english',lowercase=True,analyzer='word',max_features=100)    \n",
    "\n",
    "#     vectorize.fit(corpus)\n",
    "    count_matrix = vectorize.fit_transform(corpus).todense()\n",
    "    \n",
    "    return vectorize.vocabulary_"
   ]
  },
  {
   "cell_type": "code",
   "execution_count": 2,
   "metadata": {},
   "outputs": [],
   "source": [
    "def getBestTags(bow):    \n",
    "    \n",
    "    # sort by frequency\n",
    "    wordsFreq = sorted(bow, key=bow.get,reverse=True)\n",
    "    \n",
    "#     print(wordsFreq)\n",
    "    onlyAlphas = []\n",
    "    \n",
    "    # skip non alphas\n",
    "    [onlyAlphas.append(word) for word in wordsFreq if word.isalpha() and  len(word) > 5]\n",
    "    \n",
    "    print(onlyAlphas[0:10])    \n",
    "    return onlyAlphas[0:10]\n",
    "    "
   ]
  },
  {
   "cell_type": "code",
   "execution_count": 3,
   "metadata": {},
   "outputs": [],
   "source": [
    "# connect to Es and get content and print each \n",
    "\n",
    "from elasticsearch import Elasticsearch"
   ]
  },
  {
   "cell_type": "code",
   "execution_count": 5,
   "metadata": {},
   "outputs": [],
   "source": [
    "es = Elasticsearch(\n",
    "    ['localhost'],\n",
    "    scheme=\"http\",\n",
    "    port=9200,\n",
    ")"
   ]
  },
  {
   "cell_type": "code",
   "execution_count": 8,
   "metadata": {},
   "outputs": [],
   "source": [
    "es.get?"
   ]
  },
  {
   "cell_type": "code",
   "execution_count": null,
   "metadata": {},
   "outputs": [],
   "source": [
    "# source https://marcobonzanini.com/2015/02/02/how-to-query-elasticsearch-with-python/\n",
    "\n",
    "def searchElasticsearchAndTagDoc(term):\n",
    "    \n",
    "    result = es.count?(index=\"search_box_v1\", doc_type=\"box_poc\", body={ \"size\": 200,    \"query\": {     \"simple_query_string\": {       \"query\": term,       \"fields\": [\"contentBox\"]     }   } })\n",
    "    for doc in result['hits']['hits']:\n",
    "        #     print( doc['_id'], ' ' , doc['_source']['contentBox'])  \n",
    "        corpus = []\n",
    "        corpus.append(doc['_source']['contentBox'])\n",
    "        getBestTags(getBagOfWords(corpus))"
   ]
  },
  {
   "cell_type": "code",
   "execution_count": null,
   "metadata": {},
   "outputs": [],
   "source": [
    "searchElasticsearchAndTagDoc(\"h\")"
   ]
  },
  {
   "cell_type": "code",
   "execution_count": null,
   "metadata": {},
   "outputs": [],
   "source": [
    "bow = getBagOfWords(['anurag', 'pollution', 'environment', 'love', 'vehicles', 'car'])\n",
    "\n",
    "getBestTags(bow)\n"
   ]
  },
  {
   "cell_type": "code",
   "execution_count": null,
   "metadata": {},
   "outputs": [],
   "source": [
    "getBagOfWords([\"123\"])"
   ]
  },
  {
   "cell_type": "code",
   "execution_count": 3,
   "metadata": {},
   "outputs": [],
   "source": [
    "vectorize = CountVectorizer(stop_words='english',lowercase=True,analyzer='word',ngram_range=(1,2),max_features=10)   "
   ]
  },
  {
   "cell_type": "code",
   "execution_count": 38,
   "metadata": {},
   "outputs": [],
   "source": [
    "count_matrix = vectorize.fit(['anurag','rahul', 'pollution'])"
   ]
  },
  {
   "cell_type": "code",
   "execution_count": 39,
   "metadata": {},
   "outputs": [
    {
     "data": {
      "text/plain": [
       "{'anurag': 0, 'rahul': 2, 'pollution': 1}"
      ]
     },
     "execution_count": 39,
     "metadata": {},
     "output_type": "execute_result"
    }
   ],
   "source": [
    "count_matrix.vocabulary_"
   ]
  },
  {
   "cell_type": "code",
   "execution_count": 32,
   "metadata": {},
   "outputs": [],
   "source": [
    "tr =count_matrix.transform(['car'])"
   ]
  },
  {
   "cell_type": "code",
   "execution_count": 33,
   "metadata": {},
   "outputs": [
    {
     "name": "stdout",
     "output_type": "stream",
     "text": [
      "  (0, 2)\t1\n"
     ]
    }
   ],
   "source": [
    "for i in tr:\n",
    "    print(i)"
   ]
  },
  {
   "cell_type": "code",
   "execution_count": null,
   "metadata": {},
   "outputs": [],
   "source": [
    "\n",
    "vectorize.fit([\"hate speech are against the concept of love and peach. spread love\"])\n",
    "vectorize.vocabulary_"
   ]
  },
  {
   "cell_type": "code",
   "execution_count": null,
   "metadata": {},
   "outputs": [],
   "source": [
    "vectorize.vocabulary_"
   ]
  },
  {
   "cell_type": "code",
   "execution_count": null,
   "metadata": {},
   "outputs": [],
   "source": [
    "vectorize.transform([\"love\"])"
   ]
  },
  {
   "cell_type": "code",
   "execution_count": null,
   "metadata": {},
   "outputs": [],
   "source": [
    "d = pd.Series(count_matrix.toarray().flatten(),\n",
    "            index = features ).sort_values(ascending=False)\n",
    "\n",
    "ax = d[:10].plot(kind='bar', figsize=(10,6), width=.8, fontsize=14, rot=45,\n",
    "            title='Barack Obama Wikipedia Article Word Counts')\n",
    "ax.title.set_size(18)"
   ]
  },
  {
   "cell_type": "code",
   "execution_count": null,
   "metadata": {},
   "outputs": [],
   "source": []
  },
  {
   "cell_type": "code",
   "execution_count": null,
   "metadata": {},
   "outputs": [],
   "source": [
    "import pandas as pd\n",
    "import numpy as np\n",
    "%matplotlib inline"
   ]
  },
  {
   "cell_type": "code",
   "execution_count": null,
   "metadata": {},
   "outputs": [],
   "source": [
    "pd.Series?\n"
   ]
  },
  {
   "cell_type": "code",
   "execution_count": null,
   "metadata": {},
   "outputs": [],
   "source": [
    "count_matrix.toarray().flatten()"
   ]
  },
  {
   "cell_type": "code",
   "execution_count": null,
   "metadata": {},
   "outputs": [],
   "source": [
    "import "
   ]
  },
  {
   "cell_type": "code",
   "execution_count": null,
   "metadata": {},
   "outputs": [],
   "source": [
    "tf_ids_vetorizer = TfidfVectorizer()"
   ]
  },
  {
   "cell_type": "code",
   "execution_count": null,
   "metadata": {},
   "outputs": [],
   "source": [
    "from sklearn.feature_extraction.text import TfidfVectorizer"
   ]
  },
  {
   "cell_type": "code",
   "execution_count": null,
   "metadata": {},
   "outputs": [],
   "source": [
    "tf_ids_vetorizer.fit_transform([\"hey love is a beautiful thing. love is love \"])"
   ]
  },
  {
   "cell_type": "code",
   "execution_count": null,
   "metadata": {},
   "outputs": [],
   "source": [
    "tfidf_matrix=features = tf_ids_vetorizer.get_feature_names()"
   ]
  },
  {
   "cell_type": "code",
   "execution_count": null,
   "metadata": {},
   "outputs": [],
   "source": [
    "tf_ids_vetorizer.vocabulary_"
   ]
  },
  {
   "cell_type": "code",
   "execution_count": null,
   "metadata": {},
   "outputs": [],
   "source": [
    "row = wiki_data.index.get_loc(name)"
   ]
  },
  {
   "cell_type": "code",
   "execution_count": null,
   "metadata": {},
   "outputs": [],
   "source": [
    "d = pd.Series(tfidf_matrix.getrow(row).flatten()).sort_values(ascending=False)\n",
    "\n",
    "ax = d[:10].plot(kind='bar', title='Barack Obama Wikipedia Article Word TF-IDF Values',\n",
    "            figsize=(10,6), width=.8, fontsize=14, rot=45 )\n",
    "ax.title.set_size(20)"
   ]
  },
  {
   "cell_type": "code",
   "execution_count": null,
   "metadata": {},
   "outputs": [],
   "source": []
  }
 ],
 "metadata": {
  "kernelspec": {
   "display_name": "Python 3",
   "language": "python",
   "name": "python3"
  },
  "language_info": {
   "codemirror_mode": {
    "name": "ipython",
    "version": 3
   },
   "file_extension": ".py",
   "mimetype": "text/x-python",
   "name": "python",
   "nbconvert_exporter": "python",
   "pygments_lexer": "ipython3",
   "version": "3.6.5"
  }
 },
 "nbformat": 4,
 "nbformat_minor": 2
}
