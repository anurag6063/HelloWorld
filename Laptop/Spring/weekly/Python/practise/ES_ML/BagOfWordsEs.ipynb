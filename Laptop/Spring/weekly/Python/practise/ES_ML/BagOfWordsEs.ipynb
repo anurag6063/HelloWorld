{
 "cells": [
  {
   "cell_type": "code",
   "execution_count": 27,
   "metadata": {},
   "outputs": [],
   "source": [
    "from sklearn.feature_extraction.text import CountVectorizer\n",
    "\n",
    "def getBagOfWords(corpus):\n",
    "#     print(corpus)\n",
    "    \n",
    "    vectorize = CountVectorizer(stop_words='english',lowercase=True,analyzer='word')    \n",
    "    vectorize.fit_transform(corpus).todense()\n",
    "    \n",
    "    return vectorize.vocabulary_"
   ]
  },
  {
   "cell_type": "code",
   "execution_count": 28,
   "metadata": {},
   "outputs": [],
   "source": [
    "def getBestTags(bow):    \n",
    "    \n",
    "    # sort by frequency\n",
    "    wordsFreq = sorted(bow, key=bow.get,reverse=True)\n",
    "    \n",
    "#     print(wordsFreq)\n",
    "    onlyAlphas = []\n",
    "    \n",
    "    # skip non alphas\n",
    "    [onlyAlphas.append(word) for word in wordsFreq if word.isalpha()]\n",
    "    \n",
    "    print(onlyAlphas[0:5])    \n",
    "    return onlyAlphas[0:5]\n",
    "    "
   ]
  },
  {
   "cell_type": "code",
   "execution_count": 32,
   "metadata": {},
   "outputs": [
    {
     "name": "stdout",
     "output_type": "stream",
     "text": [
      "['zero', 'word', 'wire', 'wide', 'voip']\n"
     ]
    },
    {
     "data": {
      "text/plain": [
       "['zero', 'word', 'wire', 'wide', 'voip']"
      ]
     },
     "execution_count": 32,
     "metadata": {},
     "output_type": "execute_result"
    }
   ],
   "source": [
    "corpus= [\"highly integrated EPON/GPON/AE processor optimized for rich service delivery in intelligent EPON/GPON/AE applications. The fourth generation processor integrates a EPON/GPON MAC, SerDes, an integrated Gigabit or two Fast Ethernet PHYs, and a DDR2/3 controller, along with unrivaled QoS management, security, and hardware acceleration. The BCM68385 features an advanced controller processor and the Runner, a quad network processor enabling unmatched service application flexibility with benchmark performance. The Runner instruction set has been designed from the ground up and is optimized to accelerate service and networking over a wide range of protocols and traffic management models, while maintaining wire speed throughput. Each processor executes independently, giving maximum flexibility for the concurrent processing of CPE applications and high throughput networking services. With field-proven and ITU/IEEEinteroperable software, the BCM68385 enables costeffective, low-risk development and the fastest timeto- market implementations of SFU applications. • Integrated GPON ITU-T G.984 MAC • Integrated EPON transceiver and IEEE 802.3ah EPON MAC • Internal SerDes circuitry enabling glueless interface to low-cost MSA optical transceivers • Integrated 2xPHYs with Energy Efficient Ethernet support • Advanced MIPS-32 control processor architecture: – 250 MHz dual core processor – 32 KB D cache and 64 KB x 2 I cache • Runner Network Processor enables Layer 2, 3, and 4 wire speed packet processing, flexible classification and filtering, and deep packet inspection (DPI) functions • Advanced VoIP subsystem: – Two-line Audio Processing Module with integrated codec and HVG – Direct interface to low- cost external dual SLIC – Serial interface to SLAC/SLIC for voice line expansion – PCM interface for expansion beyond four voice lines • High-speed memory architecture, 533 MHz DDR2/3with 16-bit wide interface • Integrated ISO/IEC 7816-3 SIM card controller • Dying gasp circuitry • Flexible Flash memory support: – High speed serial Flash – NAND Flash • Integrated regulators for 2.5V (linear), 1.0V core (switching), 1.0V analog (switching), 1.8/1.5V (switching) supplies • Integrated POR circuitry • Advanced power management for European Code of Conduct power requirement MIPS16e and eDSP instructions • An Arithmetic Logic Unit (ALU) for logical, shift, add, and subtract operations • Address generation for all the load and store instructions The two execution units share a MDU (Multiply-Divide Unit) for all the integer multiply, divide, 32-bit and 16- bit multiply-accumulate operations. Each TP also contains 32 32-bit general-purpose registers used for scalar integer operations and address calculation. The register file is fully bypassed to minimize latency in each 6-stage pipeline. More specifically, an execution unit includes: • Branch unit for branch resolution and next instruction calculation and fetch. • MIPS32, MIPS16e, and eDSP instruction decoding units. • Arithmetic Logic Unit (ALU) for performing the 32-bit and 16-bit (MIPS16e) arithmetic, shift, and logical operations. • Address unit with a 32-bit adder used for calculating the next operand address. • Load and store aligners of partial word accesses. • Pipeline control unit to orchestrate all the units and to resolve inter-instruction dependency. This includes the register-file bypass multiplexers used to resolve data dependency between consecutively executed instructions. • Multiply-Divide Unit (MDU) and eDSP instructions. • Bit-manipulation unit implements the count leading zero and one instructions: CLZ and CLO. Multiply Divide Unit The Multiply Divide Unit (MDU) performs multiply, multiply-accumulate, and divide operations. It consists of a 32 x 32 pipeline multiplier, HI and LO result-accumulation registers, a divide state machine, and all multiplexers and control logic required to perform these functions. The MDU supports execution of a 32 x 32 multiply and multiply-accumulate operations with a latency of three and four cycles, respectively. Appropriate interlocks are implemented to stop issuing back-to-back 32 x 32 multiply operations. Divide operations are implemented with a 2-bit radix iterative algorithm. Depending on the size of the dividend, the execution time of a divide operation can be 3 to 18 clock cycles. An attempt to issue an MDU instruction while a divide instruction is still active causes the pipeline to stall until the divide instruction is completed. The processor core implements an additional multiply instruction, MUL, which specifies that the lower 32-bits of the multiply result be placed in a general-purpose register instead of the LO register; this eliminates the need for a subsequent Move-From-LO (MFLO) instruction to move the result from LO to a general-purpose register. Two multiply-accumulate instructions, multiply-add (MADD/MADDU) and multiply-subtract (MSUB/MSUBU), are used to perform the multiply-add and multiply-subtract instructions. The MADD instruction multiplies two numbers and then adds the product to the current contents of the HI and LO registers. Similarly, the MSUB instruction multiplies two operands and then subtracts the product from the HI and LO registers. Although the execution time of a multiply-accumulate instruction takes four cycles, the use of the HI/LO registers allows the MDU to achieve an instruction execution rate of one instruction every cycle.\"]\n",
    "\n",
    "# get Bag of word representation \n",
    "getBestTags(getBagOfWords(corpus))"
   ]
  },
  {
   "cell_type": "code",
   "execution_count": 31,
   "metadata": {},
   "outputs": [
    {
     "name": "stdout",
     "output_type": "stream",
     "text": [
      "['text', 'started', 'shows', 'red', 'pill']\n"
     ]
    },
    {
     "data": {
      "text/plain": [
       "['text', 'started', 'shows', 'red', 'pill']"
      ]
     },
     "execution_count": 31,
     "metadata": {},
     "output_type": "execute_result"
    }
   ],
   "source": [
    "# get only alphabetic and then the most 5 occuring words\n",
    "getBestTags(bow)"
   ]
  },
  {
   "cell_type": "code",
   "execution_count": 24,
   "metadata": {},
   "outputs": [
    {
     "data": {
      "text/plain": [
       "{'chapter': 2,\n",
       " 'getting': 7,\n",
       " 'started': 16,\n",
       " 'page': 12,\n",
       " '24': 0,\n",
       " 'shows': 15,\n",
       " 'install': 10,\n",
       " 'groovy': 8,\n",
       " 'compile': 4,\n",
       " 'code': 3,\n",
       " 'enable': 6,\n",
       " 'text': 17,\n",
       " 'editor': 5,\n",
       " 'ide': 9,\n",
       " 'new': 11,\n",
       " '41': 1,\n",
       " 'red': 14,\n",
       " 'pill': 13}"
      ]
     },
     "execution_count": 24,
     "metadata": {},
     "output_type": "execute_result"
    }
   ],
   "source": [
    "bow"
   ]
  },
  {
   "cell_type": "code",
   "execution_count": null,
   "metadata": {},
   "outputs": [],
   "source": []
  }
 ],
 "metadata": {
  "kernelspec": {
   "display_name": "Python 3",
   "language": "python",
   "name": "python3"
  },
  "language_info": {
   "codemirror_mode": {
    "name": "ipython",
    "version": 3
   },
   "file_extension": ".py",
   "mimetype": "text/x-python",
   "name": "python",
   "nbconvert_exporter": "python",
   "pygments_lexer": "ipython3",
   "version": "3.6.4"
  }
 },
 "nbformat": 4,
 "nbformat_minor": 2
}
