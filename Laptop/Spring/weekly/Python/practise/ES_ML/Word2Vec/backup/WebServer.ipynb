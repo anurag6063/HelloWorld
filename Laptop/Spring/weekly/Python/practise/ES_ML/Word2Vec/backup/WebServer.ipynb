{
 "cells": [
  {
   "cell_type": "code",
   "execution_count": 2,
   "metadata": {},
   "outputs": [
    {
     "ename": "ModuleNotFoundError",
     "evalue": "No module named 'BaseHTTPServer'",
     "output_type": "error",
     "traceback": [
      "\u001b[1;31m---------------------------------------------------------------------------\u001b[0m",
      "\u001b[1;31mModuleNotFoundError\u001b[0m                       Traceback (most recent call last)",
      "\u001b[1;32m<ipython-input-2-3cece62e61bc>\u001b[0m in \u001b[0;36m<module>\u001b[1;34m()\u001b[0m\n\u001b[0;32m      1\u001b[0m \u001b[1;31m#!/usr/bin/python\u001b[0m\u001b[1;33m\u001b[0m\u001b[1;33m\u001b[0m\u001b[0m\n\u001b[1;32m----> 2\u001b[1;33m \u001b[1;32mfrom\u001b[0m \u001b[0mBaseHTTPServer\u001b[0m \u001b[1;32mimport\u001b[0m \u001b[0mBaseHTTPRequestHandler\u001b[0m\u001b[1;33m,\u001b[0m\u001b[0mHTTPServer\u001b[0m\u001b[1;33m\u001b[0m\u001b[0m\n\u001b[0m\u001b[0;32m      3\u001b[0m \u001b[1;33m\u001b[0m\u001b[0m\n\u001b[0;32m      4\u001b[0m \u001b[0mPORT_NUMBER\u001b[0m \u001b[1;33m=\u001b[0m \u001b[1;36m8080\u001b[0m\u001b[1;33m\u001b[0m\u001b[0m\n\u001b[0;32m      5\u001b[0m \u001b[1;33m\u001b[0m\u001b[0m\n",
      "\u001b[1;31mModuleNotFoundError\u001b[0m: No module named 'BaseHTTPServer'"
     ]
    }
   ],
   "source": [
    "#!/usr/bin/python\n",
    "from BaseHTTPServer import BaseHTTPRequestHandler,HTTPServer\n",
    "\n",
    "PORT_NUMBER = 8080\n",
    "\n",
    "#This class will handles any incoming request from\n",
    "#the browser \n",
    "class myHandler(BaseHTTPRequestHandler):\n",
    "\t\n",
    "\t#Handler for the GET requests\n",
    "\tdef do_GET(self):\n",
    "\t\tself.send_response(200)\n",
    "\t\tself.send_header('Content-type','text/html')\n",
    "\t\tself.end_headers()\n",
    "\t\t# Send the html message\n",
    "\t\tself.wfile.write(\"Hello World !\")\n",
    "\t\treturn\n",
    "\n",
    "try:\n",
    "\t#Create a web server and define the handler to manage the\n",
    "\t#incoming request\n",
    "\tserver = HTTPServer(('', PORT_NUMBER), myHandler)\n",
    "\tprint('Started httpserver on port ' , PORT_NUMBER)\n",
    "\t\n",
    "\t#Wait forever for incoming htto requests\n",
    "\tserver.serve_forever()\n",
    "\n",
    "except KeyboardInterrupt:\n",
    "\tprint('^C received, shutting down the web server')\n",
    "\tserver.socket.close()\n",
    "\t"
   ]
  },
  {
   "cell_type": "code",
   "execution_count": 5,
   "metadata": {},
   "outputs": [
    {
     "ename": "ModuleNotFoundError",
     "evalue": "No module named 'SimpleHTTPServer'",
     "output_type": "error",
     "traceback": [
      "\u001b[1;31m---------------------------------------------------------------------------\u001b[0m",
      "\u001b[1;31mModuleNotFoundError\u001b[0m                       Traceback (most recent call last)",
      "\u001b[1;32m<ipython-input-5-d6dc9c9df16f>\u001b[0m in \u001b[0;36m<module>\u001b[1;34m()\u001b[0m\n\u001b[1;32m----> 1\u001b[1;33m \u001b[1;32mimport\u001b[0m \u001b[0mSimpleHTTPServer\u001b[0m\u001b[1;33m\u001b[0m\u001b[0m\n\u001b[0m\u001b[0;32m      2\u001b[0m \u001b[1;32mimport\u001b[0m \u001b[0mSocketServer\u001b[0m\u001b[1;33m\u001b[0m\u001b[0m\n\u001b[0;32m      3\u001b[0m \u001b[1;33m\u001b[0m\u001b[0m\n\u001b[0;32m      4\u001b[0m \u001b[0mPORT\u001b[0m \u001b[1;33m=\u001b[0m \u001b[1;36m8000\u001b[0m\u001b[1;33m\u001b[0m\u001b[0m\n\u001b[0;32m      5\u001b[0m \u001b[1;33m\u001b[0m\u001b[0m\n",
      "\u001b[1;31mModuleNotFoundError\u001b[0m: No module named 'SimpleHTTPServer'"
     ]
    }
   ],
   "source": [
    "import SimpleHTTPServer\n",
    "import SocketServer\n",
    "\n",
    "PORT = 8000\n",
    "\n",
    "Handler = SimpleHTTPServer.SimpleHTTPRequestHandler\n",
    "\n",
    "httpd = SocketServer.TCPServer((\"\", PORT), Handler)\n",
    "\n",
    "print(\"serving at port\", PORT)\n",
    "httpd.serve_forever()"
   ]
  },
  {
   "cell_type": "code",
   "execution_count": 8,
   "metadata": {},
   "outputs": [
    {
     "ename": "TypeError",
     "evalue": "a bytes-like object is required, not 'str'",
     "output_type": "error",
     "traceback": [
      "\u001b[1;31m---------------------------------------------------------------------------\u001b[0m",
      "\u001b[1;31mTypeError\u001b[0m                                 Traceback (most recent call last)",
      "\u001b[1;32m<ipython-input-8-889621fe857d>\u001b[0m in \u001b[0;36m<module>\u001b[1;34m()\u001b[0m\n\u001b[0;32m     16\u001b[0m     \u001b[0mserversocket\u001b[0m\u001b[1;33m.\u001b[0m\u001b[0mclose\u001b[0m\u001b[1;33m(\u001b[0m\u001b[1;33m)\u001b[0m\u001b[1;33m\u001b[0m\u001b[0m\n\u001b[0;32m     17\u001b[0m \u001b[1;33m\u001b[0m\u001b[0m\n\u001b[1;32m---> 18\u001b[1;33m \u001b[0mcreateServer\u001b[0m\u001b[1;33m(\u001b[0m\u001b[1;33m)\u001b[0m\u001b[1;33m\u001b[0m\u001b[0m\n\u001b[0m",
      "\u001b[1;32m<ipython-input-8-889621fe857d>\u001b[0m in \u001b[0;36mcreateServer\u001b[1;34m()\u001b[0m\n\u001b[0;32m     10\u001b[0m          \u001b[1;33m+\u001b[0m\u001b[1;34m\"Content-Type: text/html\\n\"\u001b[0m\u001b[1;33m\u001b[0m\u001b[0m\n\u001b[0;32m     11\u001b[0m          \u001b[1;33m+\u001b[0m\u001b[1;34m\"\\n\"\u001b[0m \u001b[1;31m# Important!\u001b[0m\u001b[1;33m\u001b[0m\u001b[0m\n\u001b[1;32m---> 12\u001b[1;33m          +\"<html><body>Hello World</body></html>\\n\")\n\u001b[0m\u001b[0;32m     13\u001b[0m         \u001b[0mclientsocket\u001b[0m\u001b[1;33m.\u001b[0m\u001b[0mshutdown\u001b[0m\u001b[1;33m(\u001b[0m\u001b[0mSHUT_WR\u001b[0m\u001b[1;33m)\u001b[0m\u001b[1;33m\u001b[0m\u001b[0m\n\u001b[0;32m     14\u001b[0m         \u001b[0mclientsocket\u001b[0m\u001b[1;33m.\u001b[0m\u001b[0mclose\u001b[0m\u001b[1;33m(\u001b[0m\u001b[1;33m)\u001b[0m\u001b[1;33m\u001b[0m\u001b[0m\n",
      "\u001b[1;31mTypeError\u001b[0m: a bytes-like object is required, not 'str'"
     ]
    }
   ],
   "source": [
    "from socket import *\n",
    "\n",
    "def createServer():\n",
    "    serversocket = socket(AF_INET, SOCK_STREAM)\n",
    "    serversocket.bind(('localhost',1234))\n",
    "    serversocket.listen(5)\n",
    "    while(1):\n",
    "        (clientsocket, address) = serversocket.accept()\n",
    "        clientsocket.send(\"HTTP/1.1 200 OK\\n\"\n",
    "         +\"Content-Type: text/html\\n\"\n",
    "         +\"\\n\" # Important!\n",
    "         +\"<html><body>Hello World</body></html>\\n\")\n",
    "        clientsocket.shutdown(SHUT_WR)\n",
    "        clientsocket.close()\n",
    "\n",
    "    serversocket.close()\n",
    "\n",
    "createServer()"
   ]
  },
  {
   "cell_type": "code",
   "execution_count": 9,
   "metadata": {},
   "outputs": [
    {
     "ename": "ModuleNotFoundError",
     "evalue": "No module named 'BaseHTTPServer'",
     "output_type": "error",
     "traceback": [
      "\u001b[1;31m---------------------------------------------------------------------------\u001b[0m",
      "\u001b[1;31mModuleNotFoundError\u001b[0m                       Traceback (most recent call last)",
      "\u001b[1;32m<ipython-input-9-7fa76fd30107>\u001b[0m in \u001b[0;36m<module>\u001b[1;34m()\u001b[0m\n\u001b[1;32m----> 1\u001b[1;33m \u001b[1;32mfrom\u001b[0m \u001b[0mBaseHTTPServer\u001b[0m \u001b[1;32mimport\u001b[0m \u001b[0mBaseHTTPRequestHandler\u001b[0m\u001b[1;33m,\u001b[0m\u001b[0mHTTPServer\u001b[0m\u001b[1;33m\u001b[0m\u001b[0m\n\u001b[0m",
      "\u001b[1;31mModuleNotFoundError\u001b[0m: No module named 'BaseHTTPServer'"
     ]
    }
   ],
   "source": [
    "from BaseHTTPServer import BaseHTTPRequestHandler,HTTPServer"
   ]
  },
  {
   "cell_type": "code",
   "execution_count": 12,
   "metadata": {},
   "outputs": [],
   "source": [
    "from flask import Flask"
   ]
  },
  {
   "cell_type": "code",
   "execution_count": 14,
   "metadata": {},
   "outputs": [],
   "source": [
    "app = Flask(__name__)"
   ]
  },
  {
   "cell_type": "code",
   "execution_count": 17,
   "metadata": {},
   "outputs": [],
   "source": [
    "@app.route('/')\n",
    "def hello_world():\n",
    "    return 'Hello World'"
   ]
  },
  {
   "cell_type": "code",
   "execution_count": null,
   "metadata": {},
   "outputs": [],
   "source": []
  }
 ],
 "metadata": {
  "kernelspec": {
   "display_name": "Python 3",
   "language": "python",
   "name": "python3"
  },
  "language_info": {
   "codemirror_mode": {
    "name": "ipython",
    "version": 3
   },
   "file_extension": ".py",
   "mimetype": "text/x-python",
   "name": "python",
   "nbconvert_exporter": "python",
   "pygments_lexer": "ipython3",
   "version": "3.6.5"
  }
 },
 "nbformat": 4,
 "nbformat_minor": 2
}
