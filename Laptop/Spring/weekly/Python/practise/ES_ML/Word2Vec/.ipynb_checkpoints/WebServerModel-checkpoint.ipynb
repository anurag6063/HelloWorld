{
 "cells": [
  {
   "cell_type": "code",
   "execution_count": 8,
   "metadata": {},
   "outputs": [],
   "source": [
    "from gensim.models import Word2Vec\n",
    "from flask import Flask\n",
    "\n",
    "model = Word2Vec.load('word2VecModel.bin')\n",
    "\n",
    "@app.before_first_request\n",
    "def loadModel():\n",
    "\tglobal name\n",
    "\tprint('loading model', name)\n",
    "\tname = 'anurag'\n",
    "\tprint(name)"
   ]
  },
  {
   "cell_type": "code",
   "execution_count": 5,
   "metadata": {},
   "outputs": [],
   "source": []
  },
  {
   "cell_type": "code",
   "execution_count": 7,
   "metadata": {},
   "outputs": [
    {
     "data": {
      "text/plain": [
       "[('pair', 0.9910082817077637),\n",
       " ('serial', 0.982495903968811),\n",
       " ('address', 0.9757334589958191),\n",
       " ('control', 0.9694389700889587),\n",
       " ('partner', 0.9674775004386902),\n",
       " ('name', 0.9668362736701965),\n",
       " ('advanc', 0.9663066864013672),\n",
       " ('wirespe', 0.9635740518569946),\n",
       " ('counter', 0.9628757238388062),\n",
       " ('carrier', 0.9547767639160156)]"
      ]
     },
     "execution_count": 7,
     "metadata": {},
     "output_type": "execute_result"
    }
   ],
   "source": [
    "model.wv.most_similar('pain')"
   ]
  }
 ],
 "metadata": {
  "kernelspec": {
   "display_name": "Python 3",
   "language": "python",
   "name": "python3"
  },
  "language_info": {
   "codemirror_mode": {
    "name": "ipython",
    "version": 3
   },
   "file_extension": ".py",
   "mimetype": "text/x-python",
   "name": "python",
   "nbconvert_exporter": "python",
   "pygments_lexer": "ipython3",
   "version": "3.6.5"
  }
 },
 "nbformat": 4,
 "nbformat_minor": 2
}
