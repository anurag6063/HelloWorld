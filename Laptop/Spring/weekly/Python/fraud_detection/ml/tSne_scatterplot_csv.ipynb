{
 "cells": [
  {
   "cell_type": "code",
   "execution_count": 1,
   "metadata": {},
   "outputs": [
    {
     "name": "stdout",
     "output_type": "stream",
     "text": [
      "[t-SNE] Computing 64 nearest neighbors...\n",
      "[t-SNE] Indexed 65 samples in 0.000s...\n",
      "[t-SNE] Computed neighbors for 65 samples in 1.078s...\n",
      "[t-SNE] Computed conditional probabilities for sample 65 / 65\n",
      "[t-SNE] Mean sigma: 1125899906842624.000000\n",
      "[t-SNE] KL divergence after 250 iterations with early exaggeration: 43.350845\n",
      "[t-SNE] Error after 251 iterations: 179769313486231570814527423731704356798070567525844996598917476803157260780028538760589558632766878171540458953514382464234321326889464182768467546703537516986049910576551282076245490090389328944075868508455133942304583236903222948165808559332123348274797826204144723168738177180919299881250404026184124858368.000000\n"
     ]
    }
   ],
   "source": [
    "import numpy as np\n",
    "import matplotlib.pyplot as plt\n",
    "import pandas as pd\n",
    "import time\n",
    "from sklearn.manifold import TSNE\n",
    "\n",
    "\n",
    "time_start = time.time()\n",
    "dataset = \"pandas_batch_modified.csv\"\n",
    "\n",
    "data = pd.read_csv(dataset,encoding='utf-8')\n",
    "tsne = TSNE(n_components=2, verbose=1, perplexity=50, n_iter=250)\n",
    "tsne_results=tsne.fit_transform(data.values)\n",
    "\n",
    "data['x-tsne']=tsne_results[:,0]\n",
    "data['y-tsne']=tsne_results[:,1]\n",
    "\n",
    "plt.figsize=(120,120)\n",
    "plt.scatter(data['x-tsne'],data['y-tsne'],label=data['label'])\n",
    "\n",
    "\n",
    "for i, txt in enumerate(data['label']):\n",
    "    plt.annotate(txt, (data['x-tsne'].get(i),data['y-tsne'].get(i)))\n",
    "    \n",
    "data.to_csv(r'C:/Users/anuryadav/Desktop/Python/fraud_detection/ml/tSneResult.csv', sep=',', index=False, header=True)\n"
   ]
  },
  {
   "cell_type": "code",
   "execution_count": 3,
   "metadata": {},
   "outputs": [],
   "source": [
    "import numpy as np\n",
    "import matplotlib.pyplot as plt\n",
    "import pandas as pd\n",
    "import time\n",
    "from sklearn.manifold import TSNE\n",
    "\n",
    "\n",
    "time_start = time.time()\n",
    "dataset = \"pandas_batch_modified.csv\""
   ]
  },
  {
   "cell_type": "code",
   "execution_count": 5,
   "metadata": {},
   "outputs": [],
   "source": [
    "\n",
    "data = pd.read_csv(dataset,encoding='utf-8')"
   ]
  },
  {
   "cell_type": "code",
   "execution_count": 38,
   "metadata": {},
   "outputs": [],
   "source": []
  }
 ],
 "metadata": {
  "kernelspec": {
   "display_name": "Python 3",
   "language": "python",
   "name": "python3"
  },
  "language_info": {
   "codemirror_mode": {
    "name": "ipython",
    "version": 3
   },
   "file_extension": ".py",
   "mimetype": "text/x-python",
   "name": "python",
   "nbconvert_exporter": "python",
   "pygments_lexer": "ipython3",
   "version": "3.6.5"
  }
 },
 "nbformat": 4,
 "nbformat_minor": 2
}
