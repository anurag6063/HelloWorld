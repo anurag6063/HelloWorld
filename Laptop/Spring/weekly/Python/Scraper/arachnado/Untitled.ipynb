{
 "cells": [
  {
   "cell_type": "code",
   "execution_count": 3,
   "metadata": {},
   "outputs": [],
   "source": [
    "import arachnado\n"
   ]
  },
  {
   "cell_type": "code",
   "execution_count": 6,
   "metadata": {},
   "outputs": [
    {
     "name": "stderr",
     "output_type": "stream",
     "text": [
      "Traceback (most recent call last):\n",
      "  File \"c:\\programdata\\anaconda3\\lib\\runpy.py\", line 193, in _run_module_as_main\n",
      "    \"__main__\", mod_spec)\n",
      "  File \"c:\\programdata\\anaconda3\\lib\\runpy.py\", line 85, in _run_code\n",
      "    exec(code, run_globals)\n",
      "  File \"C:\\ProgramData\\Anaconda3\\Scripts\\arachnado.exe\\__main__.py\", line 9, in <module>\n",
      "  File \"c:\\programdata\\anaconda3\\lib\\site-packages\\arachnado\\__main__.py\", line 109, in run\n",
      "    opts = _settings(args)\n",
      "  File \"c:\\programdata\\anaconda3\\lib\\site-packages\\arachnado\\__main__.py\", line 74, in _settings\n",
      "    from arachnado.options import load_settings, ensure_bool\n",
      "  File \"c:\\programdata\\anaconda3\\lib\\site-packages\\arachnado\\options.py\", line 4, in <module>\n",
      "    from ConfigParser import SafeConfigParser\n",
      "ModuleNotFoundError: No module named 'ConfigParser'\n"
     ]
    }
   ],
   "source": [
    "!arachnado --config "
   ]
  },
  {
   "cell_type": "code",
   "execution_count": 9,
   "metadata": {},
   "outputs": [
    {
     "name": "stderr",
     "output_type": "stream",
     "text": [
      "'pwd' is not recognized as an internal or external command,\n",
      "operable program or batch file.\n"
     ]
    }
   ],
   "source": [
    "!pwd"
   ]
  }
 ],
 "metadata": {
  "kernelspec": {
   "display_name": "Python 3",
   "language": "python",
   "name": "python3"
  },
  "language_info": {
   "codemirror_mode": {
    "name": "ipython",
    "version": 3
   },
   "file_extension": ".py",
   "mimetype": "text/x-python",
   "name": "python",
   "nbconvert_exporter": "python",
   "pygments_lexer": "ipython3",
   "version": "3.6.5"
  }
 },
 "nbformat": 4,
 "nbformat_minor": 2
}
