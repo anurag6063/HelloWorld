{
 "cells": [
  {
   "cell_type": "code",
   "execution_count": 56,
   "metadata": {},
   "outputs": [
    {
     "data": {
      "text/plain": [
       "[]"
      ]
     },
     "execution_count": 56,
     "metadata": {},
     "output_type": "execute_result"
    }
   ],
   "source": [
    "from gensim.summarization import summarize\n",
    "from nltk import sent_tokenize\n",
    "\n",
    "sentence=\"\"\"\n",
    "Hello how are you what have been you doing we have a project proposal for you and are you interested in it. And in order to get the project proposal and you need to send me your requirements your budget. I Can also provide you a consultancy services in machine learning\n",
    "\n",
    "\"\"\"\n",
    "summarize(sentence,split=True,ratio=0.5)"
   ]
  },
  {
   "cell_type": "code",
   "execution_count": 57,
   "metadata": {},
   "outputs": [
    {
     "data": {
      "text/plain": [
       "['Hello how are you looking at the crease in demand of processing invoice bills I have a proposal for you I can forward you a project that we are doing in which we can take out the invoice number from the document and create a structured data out of it do you want me to forward the examples I can also get you connected to my project lead he can give a demo with you about this product']"
      ]
     },
     "execution_count": 57,
     "metadata": {},
     "output_type": "execute_result"
    }
   ],
   "source": [
    "sentence=\"\"\"Hello how are you looking at the crease in demand of processing invoice bills I have a proposal for you I can forward you a project that we are doing in which we can take out the invoice number from the document and create a structured data out of it do you want me to forward the examples I can also get you connected to my project lead he can give a demo with you about this product\n",
    "\"\"\"\n",
    "sent_tokenize(sentence)\n"
   ]
  },
  {
   "cell_type": "code",
   "execution_count": 59,
   "metadata": {},
   "outputs": [
    {
     "data": {
      "text/plain": [
       "['Hello how are you looking at the crease in demand of processing invoice bills I have a proposal for you I can forward you a project that we are doing in which we can take out the invoice number from the document and create a structured data out of it do you want me to forward the examples I can also get you connected to my project lead he can give a demo with you about this product']"
      ]
     },
     "execution_count": 59,
     "metadata": {},
     "output_type": "execute_result"
    }
   ],
   "source": [
    "sent_tokenize(sentence)"
   ]
  },
  {
   "cell_type": "code",
   "execution_count": 13,
   "metadata": {},
   "outputs": [],
   "source": [
    "summarize(sentence,split=True,ratio=0.6)"
   ]
  }
 ],
 "metadata": {
  "kernelspec": {
   "display_name": "Python 3",
   "language": "python",
   "name": "python3"
  },
  "language_info": {
   "codemirror_mode": {
    "name": "ipython",
    "version": 3
   },
   "file_extension": ".py",
   "mimetype": "text/x-python",
   "name": "python",
   "nbconvert_exporter": "python",
   "pygments_lexer": "ipython3",
   "version": "3.6.5"
  }
 },
 "nbformat": 4,
 "nbformat_minor": 2
}
